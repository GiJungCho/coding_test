{
 "cells": [
  {
   "cell_type": "code",
   "execution_count": null,
   "outputs": [],
   "source": [],
   "metadata": {
    "collapsed": false
   }
  },
  {
   "cell_type": "code",
   "execution_count": 5,
   "id": "e0cbb932",
   "metadata": {},
   "outputs": [
    {
     "name": "stdout",
     "output_type": "stream",
     "text": [
      "1 2 3 8 4 5 6 7 "
     ]
    }
   ],
   "source": [
    "# 백준 1260\n",
    "\n",
    "from collections import deque\n",
    "\n",
    "# BFS 메서드 정의\n",
    "def bfs (graph, node, visited):\n",
    "    # 큐 구현을 위한 deque 라이브러리 활용\n",
    "    queue = deque([node])\n",
    "    # 현재 노드를 방문 처리\n",
    "    visited[node] = True\n",
    "    \n",
    "    # 큐가 완전히 빌 때까지 반복\n",
    "    while queue:\n",
    "        # 큐에 삽입된 순서대로 노드 하나 꺼내기\n",
    "        v = queue.popleft()\n",
    "        # 탐색 순서 출력\n",
    "        print(v, end = ' ')\n",
    "        # 현재 처리 중인 노드에서 방문하지 않은 인접 노드를 모두 큐에 삽입\n",
    "        for i in graph[v]:\n",
    "            if not (visited[i]):\n",
    "                queue.append(i)\n",
    "                visited[i] = True\n",
    "                \n",
    "graph = [\n",
    "    [],\n",
    "    [2, 3],\n",
    "    [1, 8],\n",
    "    [1, 4, 5],\n",
    "    [3, 5],\n",
    "    [3, 4],\n",
    "    [7, 8],\n",
    "    [6, 8],\n",
    "    [2, 6, 7]\n",
    "]\n",
    "\n",
    "# 노드별로 방문 정보를 리스트로 표현\n",
    "visited = [False] * 9\n",
    "\n",
    "# 정의한 BFS 메서드 호출(노드 1을 탐색 시작 노드로 설정)\n",
    "bfs(graph, 1, visited)"
   ]
  },
  {
   "cell_type": "code",
   "execution_count": null,
   "outputs": [],
   "source": [],
   "metadata": {
    "collapsed": false
   }
  },
  {
   "cell_type": "code",
   "execution_count": 1,
   "id": "23bdc23f",
   "metadata": {},
   "outputs": [
    {
     "name": "stdout",
     "output_type": "stream",
     "text": [
      "4 5 1\n",
      "1 2\n",
      "1 3\n",
      "1 4\n",
      "2 4\n",
      "3 4\n",
      "1243deque([])deque([3, 4])deque([4])deque([])"
     ]
    }
   ],
   "source": [
    "from collections import deque\n",
    "# N = 노드 수 , M = 에지 수(연결 선 수) , Start = 시작점\n",
    "N, M, Start = map(int, input().split())\n",
    "A = [[] for _ in range(N + 1)]\n",
    "\n",
    "for _ in range(M):\n",
    "    s, e = map(int, input().split())\n",
    "    A[s].append(e)  # 양방향 에지이므로 양쪽에 에지를 더함...?\n",
    "    A[e].append(s)\n",
    "\n",
    "for i in range(N + 1):\n",
    "    A[i].sort()  # 번호가 작은 노드부터 방문하기 위해 정렬하기\n",
    "\n",
    "\n",
    "def DFS(V):\n",
    "    ### 중요 부분 ###\n",
    "#     print(V, end='')\n",
    "    visited[V] = True\n",
    "    for i in A[V]:\n",
    "        if not visited[i]:\n",
    "            DFS(i)\n",
    "    ### 중요 부분 ###\n",
    "\n",
    "\n",
    "visited = [False] * (N + 1)  # 리스트 초기화\n",
    "DFS(Start)  # 실행\n",
    "\n",
    "\n",
    "# BFS 구현\n",
    "def BFS(V):\n",
    "    # 큐 자료구조에 시작 노드 삽입\n",
    "    queue = deque()\n",
    "    queue.append(V)\n",
    "    visited[V] = True\n",
    "\n",
    "    while queue:  # 큐가 비어있을 떄 까지\n",
    "        ### 중요 부분\n",
    "        now_Node = queue.popleft()\n",
    "#         print(queue, end='')\n",
    "        for i in A[now_Node]:\n",
    "            if not visited[i]:\n",
    "                visited[i] = True\n",
    "                queue.append(i)\n",
    "        ### 중요 부분\n",
    "\n",
    "\n",
    "visited = [False] * (N + 1)  # 리스트 초기화\n",
    "BFS(Start)  # 실행"
   ]
  },
  {
   "cell_type": "code",
   "execution_count": 4,
   "id": "425b70cc",
   "metadata": {},
   "outputs": [],
   "source": [
    "visited = False * (N + 1)"
   ]
  },
  {
   "cell_type": "code",
   "execution_count": 7,
   "id": "ad5f7f0f",
   "metadata": {},
   "outputs": [],
   "source": [
    "V= 4"
   ]
  },
  {
   "cell_type": "code",
   "execution_count": 8,
   "id": "15d2289b",
   "metadata": {},
   "outputs": [
    {
     "ename": "TypeError",
     "evalue": "'int' object does not support item assignment",
     "output_type": "error",
     "traceback": [
      "\u001B[1;31m---------------------------------------------------------------------------\u001B[0m",
      "\u001B[1;31mTypeError\u001B[0m                                 Traceback (most recent call last)",
      "Input \u001B[1;32mIn [8]\u001B[0m, in \u001B[0;36m<cell line: 1>\u001B[1;34m()\u001B[0m\n\u001B[1;32m----> 1\u001B[0m visited[V] \u001B[38;5;241m=\u001B[39m \u001B[38;5;28;01mTrue\u001B[39;00m\n",
      "\u001B[1;31mTypeError\u001B[0m: 'int' object does not support item assignment"
     ]
    }
   ],
   "source": [
    "visited[V] = True"
   ]
  },
  {
   "cell_type": "code",
   "execution_count": 5,
   "id": "43019655",
   "metadata": {},
   "outputs": [
    {
     "data": {
      "text/plain": [
       "0"
      ]
     },
     "execution_count": 5,
     "metadata": {},
     "output_type": "execute_result"
    }
   ],
   "source": [
    "visited"
   ]
  },
  {
   "cell_type": "code",
   "execution_count": 37,
   "id": "792c8833",
   "metadata": {},
   "outputs": [
    {
     "data": {
      "text/plain": [
       "''"
      ]
     },
     "execution_count": 37,
     "metadata": {},
     "output_type": "execute_result"
    }
   ],
   "source": [
    "input()"
   ]
  },
  {
   "cell_type": "code",
   "execution_count": null,
   "id": "33682a08",
   "metadata": {},
   "outputs": [],
   "source": [
    "4 5 1 \n",
    "1 2 \n",
    "1 3 \n",
    "1 4 \n",
    "2 4\n",
    "3 4"
   ]
  },
  {
   "cell_type": "code",
   "execution_count": 28,
   "id": "f489748a",
   "metadata": {},
   "outputs": [
    {
     "ename": "TypeError",
     "evalue": "'dict' object cannot be interpreted as an integer",
     "output_type": "error",
     "traceback": [
      "\u001B[1;31m---------------------------------------------------------------------------\u001B[0m",
      "\u001B[1;31mTypeError\u001B[0m                                 Traceback (most recent call last)",
      "Input \u001B[1;32mIn [28]\u001B[0m, in \u001B[0;36m<cell line: 5>\u001B[1;34m()\u001B[0m\n\u001B[0;32m      2\u001B[0m \u001B[38;5;28;01mfrom\u001B[39;00m \u001B[38;5;21;01mcollections\u001B[39;00m \u001B[38;5;28;01mimport\u001B[39;00m defaultdict\n\u001B[0;32m      3\u001B[0m \u001B[38;5;28;01mfrom\u001B[39;00m \u001B[38;5;21;01mcollections\u001B[39;00m \u001B[38;5;28;01mimport\u001B[39;00m deque\n\u001B[1;32m----> 5\u001B[0m \u001B[38;5;28minput\u001B[39m \u001B[38;5;241m=\u001B[39m \u001B[43msys\u001B[49m\u001B[38;5;241;43m.\u001B[39;49m\u001B[43mstdin\u001B[49m\u001B[38;5;241;43m.\u001B[39;49m\u001B[43mreadline\u001B[49m\u001B[43m(\u001B[49m\u001B[43m{\u001B[49m\u001B[38;5;241;43m1\u001B[39;49m\u001B[43m:\u001B[49m\u001B[43m \u001B[49m\u001B[43m[\u001B[49m\u001B[38;5;241;43m2\u001B[39;49m\u001B[43m,\u001B[49m\u001B[43m \u001B[49m\u001B[38;5;241;43m3\u001B[39;49m\u001B[43m]\u001B[49m\u001B[43m,\u001B[49m\u001B[43m \u001B[49m\u001B[38;5;241;43m2\u001B[39;49m\u001B[43m:\u001B[49m\u001B[43m \u001B[49m\u001B[43m[\u001B[49m\u001B[38;5;241;43m1\u001B[39;49m\u001B[43m,\u001B[49m\u001B[43m \u001B[49m\u001B[38;5;241;43m5\u001B[39;49m\u001B[43m]\u001B[49m\u001B[43m,\u001B[49m\u001B[43m \u001B[49m\u001B[38;5;241;43m3\u001B[39;49m\u001B[43m:\u001B[49m\u001B[43m \u001B[49m\u001B[43m[\u001B[49m\u001B[38;5;241;43m1\u001B[39;49m\u001B[43m,\u001B[49m\u001B[43m \u001B[49m\u001B[38;5;241;43m4\u001B[39;49m\u001B[43m]\u001B[49m\u001B[43m,\u001B[49m\u001B[43m \u001B[49m\u001B[38;5;241;43m4\u001B[39;49m\u001B[43m:\u001B[49m\u001B[43m \u001B[49m\u001B[43m[\u001B[49m\u001B[38;5;241;43m3\u001B[39;49m\u001B[43m,\u001B[49m\u001B[43m \u001B[49m\u001B[38;5;241;43m5\u001B[39;49m\u001B[43m]\u001B[49m\u001B[43m,\u001B[49m\u001B[43m \u001B[49m\u001B[38;5;241;43m5\u001B[39;49m\u001B[43m:\u001B[49m\u001B[43m \u001B[49m\u001B[43m[\u001B[49m\u001B[38;5;241;43m2\u001B[39;49m\u001B[43m,\u001B[49m\u001B[43m \u001B[49m\u001B[38;5;241;43m4\u001B[39;49m\u001B[43m]\u001B[49m\u001B[43m}\u001B[49m\u001B[43m)\u001B[49m\n\u001B[0;32m      7\u001B[0m \u001B[38;5;28;01mdef\u001B[39;00m \u001B[38;5;21mdfs\u001B[39m(start,visited \u001B[38;5;241m=\u001B[39m []):\n\u001B[0;32m      8\u001B[0m     visited\u001B[38;5;241m.\u001B[39mappend(start) \u001B[38;5;66;03m# 갔던 곳 저장\u001B[39;00m\n",
      "\u001B[1;31mTypeError\u001B[0m: 'dict' object cannot be interpreted as an integer"
     ]
    }
   ],
   "source": [
    "import sys\n",
    "from collections import defaultdict\n",
    "from collections import deque\n",
    "\n",
    "input = sys.stdin.readline\n",
    "\n",
    "def dfs(start,visited = []):\n",
    "    visited.append(start) # 갔던 곳 저장\n",
    "    for i in graph_dic[start]: # start가 갈 수 있는 곳 찾기 갈 수있는 곳이 없으면 탈출\n",
    "        if i not in visited: # 만약 방문을 안했다면\n",
    "            dfs(i,visited) # 재귀를 돌아라\n",
    "    return visited # 갈 수 있는 곳을 다 돌았다면 갔던곳을 반환해라\n",
    "\n",
    "def bfs(starts):\n",
    "    visited_bfs = [starts] # 방문한곳\n",
    "    discovered = deque([starts]) #방문 해야하는 곳\n",
    "    while discovered: # 방문해야 하는곳이 없으면 종료\n",
    "        visit = discovered.popleft() #먼저 들어온거부터 간다\n",
    "        for i in graph_dic[visit]: # 들어온 곳에서 갈 수 있는 곳 확인\n",
    "            if i in discovered or i in visited_bfs: # 만약 가야하는 곳이나 갔던 곳에 없으면\n",
    "                continue\n",
    "            discovered.append(i) # 여기에 추가\n",
    "            visited_bfs.append(i)\n",
    "    return visited_bfs\n",
    "\n",
    "N ,M, V= map(int,input().split()) # n은 정점의 개수 n 간선의 개수 v 시작할 노드\n",
    "grapgh = [list(map(int,input().split())) for _ in range(M)] # 먼저 데이터를 2차원배열에 저장\n",
    "graph_dic = defaultdict(list) # 간선이 양방향이라고 했으니 dict에 값 저장\n",
    "\n",
    "#print(graph)\n",
    "\n",
    "graph = sorted(graph,key = lambda x: (x[0],x[1]))# 데이터 옮기기 전에 데이터 정렬\n",
    "\n",
    "#print(graph)\n",
    "\n",
    "for i in graph: # graph의 값을  dict로 옮김\n",
    "    graph_dic[i[0]].append(i[1])\n",
    "    graph_dic[i[1]].append(i[0])\n",
    "\n",
    "#print(graph_dic)\n",
    "# defaultdict(<class 'list'>, {1: [2, 3], 2: [1, 5], 3: [1, 4], 4: [3, 5], 5: [2, 4]})\n",
    "print(*dfs(V)) #\n",
    "print(*bfs(V))   "
   ]
  },
  {
   "cell_type": "code",
   "execution_count": null,
   "id": "0ea785e9",
   "metadata": {},
   "outputs": [],
   "source": []
  },
  {
   "cell_type": "code",
   "execution_count": null,
   "id": "833b4426",
   "metadata": {},
   "outputs": [],
   "source": [
    "4 5 1 \n",
    "1 2 \n",
    "1 3\n",
    "1 4 \n",
    "2 4 \n",
    "3 4 \n"
   ]
  },
  {
   "cell_type": "code",
   "execution_count": null,
   "id": "2bd7fdb9",
   "metadata": {},
   "outputs": [],
   "source": [
    "from collections import deque\n",
    "\n",
    "# N = 노드 수 , M = 에지 수(연결 선 수) , Start = 시작점\n",
    "N, M, Start = map(int, input().split())\n",
    "A = [[] for _ in range(N + 1)]\n",
    "\n",
    "for _ in range(M):\n",
    "    s, e = map(int, input().split())\n",
    "    A[s].append(e)\n",
    "    A[e].append(s)\n",
    "\n",
    "for i in range(N + 1):\n",
    "    A[i].sort()  # 번호가 작은 노드부터 방문하기 위해 정렬하기\n",
    "\n",
    "\n",
    "def DFS(V):\n",
    "    ### 중요 부분 ###\n",
    "    print(V, end='')\n",
    "    visited[V] = True\n",
    "    for i in A[V]:\n",
    "        if not visited[i]:\n",
    "            DFS(i)\n",
    "    ### 중요 부분 ###\n",
    "\n",
    "\n",
    "visited = False * (N + 1)  # 리스트 초기화\n",
    "DFS(Start)  # 실행\n",
    "\n",
    "\n",
    "# BFS 구현\n",
    "def BFS(V):\n",
    "    # 큐 자료구조에 시작 노드 삽입\n",
    "    queue = deque()\n",
    "    queue.append(V)\n",
    "    visited[V] = True\n",
    "\n",
    "    while queue:  # 큐가 비어있을 떄 까지\n",
    "        ### 중요 부분\n",
    "        now_Node = queue.popleft()\n",
    "        print(queue, end='')\n",
    "        for i in A[now_Node]:\n",
    "            if not visited[i]:\n",
    "                visited[i] = True\n",
    "                queue.append(i)\n",
    "        ### 중요 부분\n",
    "\n",
    "\n",
    "visited = [False] * (N + 1)  # 리스트 초기화\n",
    "BFS(Start)  # 실행"
   ]
  }
 ],
 "metadata": {
  "kernelspec": {
   "display_name": "Python 3 (ipykernel)",
   "language": "python",
   "name": "python3"
  },
  "language_info": {
   "codemirror_mode": {
    "name": "ipython",
    "version": 3
   },
   "file_extension": ".py",
   "mimetype": "text/x-python",
   "name": "python",
   "nbconvert_exporter": "python",
   "pygments_lexer": "ipython3",
   "version": "3.9.12"
  }
 },
 "nbformat": 4,
 "nbformat_minor": 5
}
