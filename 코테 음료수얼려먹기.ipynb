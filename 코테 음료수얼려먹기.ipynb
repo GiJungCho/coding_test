{
 "cells": [
  {
   "cell_type": "markdown",
   "source": [
    "셀 바깥 쪽 빈공간을 마우스로 클릭하거나 Ctrl + m 또는 Esc 키를 누르면 편집모드로 변경\n",
    "[입력모드 단축키]\n",
    "Ctrl + a -> 해당 셀 전체 선택\n",
    "Ctrl + c,v,x -> 셀 내용 복사, 붙여넣기,잘라내기\n",
    "Ctrl + z -> 해당 셀 실행 취소\n",
    "Ctrl + / -> 해당 셀 커서가 위치 된 곳 주석 처리, 주석처리 해제\n",
    "Ctrl + ] -> 커서위치한 곳에서 들여쓰기(Tab)\n",
    "Ctrl + enter -> 해당 셀 실행\n",
    "Ctrl + y -> 해당 셀 다시 실행(실행취소 반대)\n",
    "shift + enter -> 해당 셀 실행 후 셀 새로 추가 또는 아래 셀로 이동\n",
    "Ctrl + s -> 저장\\\n",
    "\n",
    "[편집모드 단축키]\n",
    "a - 셀 추가(위로 추가)\n",
    "b - 셀 추가(아래로 추가)\n",
    "c, v, x- 셀 복사, 붙여넣기, 잘라내기\n",
    "\n",
    "dd (d 두번) - 해당 셀 삭제\n",
    "m - 해당셀 Markdown으로 변경\n",
    "y - 해당셀 code로 변경\n",
    "h - 단축키 목록 펼쳐 보기\n",
    "Shift + m - 해당 셀 &  아래 셀 합치기\n",
    "s - 저장\n",
    "' -> 빠른 검색\n",
    "l -> 셀 내에 코드번호 추가"
   ],
   "metadata": {
    "collapsed": false
   }
  },
  {
   "cell_type": "code",
   "execution_count": 51,
   "outputs": [],
   "source": [
    "x_max,y_max, N, data = (10, 5, 3, [[1, 4], [3, 2], [2, 8], [2, 3]])\n",
    "\n",
    "for i in range(len(data)): #방향 때문에 위에서 아래로 셈\n",
    "    if data[i][0] == 3 or data[i][0] == 4:\n",
    "        data[i][1] = int(y_max - data[i][1])\n",
    "\n",
    "# 여기서 역배열로 서칭할 것인지 정배열로 서칭할 것인지 고려.\n",
    "direction = {}\n",
    "#              반시계 시계방향\n",
    "direction[4] = [\"1_1\", \"2\",int(y_max-1)] # east 동 4\n",
    "direction[3] = [\"2\", \"1_1\",int(y_max-1)] # west 서 3\n",
    "direction[2] = [\"4\", \"3_1\",int(x_max-1)] # south 남 2\n",
    "direction[1] = [\"3_1\", \"4\",int(x_max-1)] # north 북 1\n",
    "\n",
    "x_start , y_start = data[len(data)-1] # 맨 마지막 번호는 시작 지점.\n",
    "\n",
    "dic = {} #사전 형태로 데이터 저장\n",
    "for i in range(len(data)):\n",
    "    dic[data[i][0],data[i][1]] = 1"
   ],
   "metadata": {
    "collapsed": false
   }
  },
  {
   "cell_type": "code",
   "execution_count": 52,
   "outputs": [],
   "source": [
    "def serch(now_driection, distance,wow , cheak_direction ):  # wow = 정방향 역방향\n",
    "\n",
    "    if cheak_direction == 1:\n",
    "        for i in range(-direction[now_driection][2], 0):\n",
    "            i = abs(i)\n",
    "            distance = distance + 1\n",
    "            try:\n",
    "                cheak_logic = dic[now_driection,i]\n",
    "                return distance, int(direction[now_driection][wow][0]), wow, cheak_direction\n",
    "\n",
    "            except:\n",
    "                pass\n",
    "    else:\n",
    "        for i in range(0,direction[now_driection][2]):\n",
    "            distance = distance + 1\n",
    "            try:\n",
    "                cheak_logic = dic[now_driection,i]\n",
    "                return distance, int(direction[now_driection][wow][0]), wow, cheak_direction\n",
    "\n",
    "            except:\n",
    "                pass\n",
    "\n",
    "    if (len(direction[now_driection][wow]) == 1):  # 정방향 역방향 =>wow\n",
    "        cheak_direction = 0\n",
    "    else:\n",
    "        cheak_direction = 1\n",
    "\n",
    "    serch(int(direction[now_driection][wow][0]), distance, wow, cheak_direction)# @@"
   ],
   "metadata": {
    "collapsed": false
   }
  },
  {
   "cell_type": "code",
   "execution_count": 53,
   "outputs": [
    {
     "name": "stdout",
     "output_type": "stream",
     "text": [
      "0 3\n",
      "4 3 0 0\n"
     ]
    },
    {
     "ename": "TypeError",
     "evalue": "cannot unpack non-iterable NoneType object",
     "output_type": "error",
     "traceback": [
      "\u001B[1;31m---------------------------------------------------------------------------\u001B[0m",
      "\u001B[1;31mTypeError\u001B[0m                                 Traceback (most recent call last)",
      "Cell \u001B[1;32mIn[53], line 22\u001B[0m\n\u001B[0;32m     20\u001B[0m     cheak_direction \u001B[38;5;241m=\u001B[39m \u001B[38;5;241m1\u001B[39m \u001B[38;5;66;03m# 다음 정/역 방향 판단\u001B[39;00m\n\u001B[0;32m     21\u001B[0m \u001B[38;5;28mprint\u001B[39m(\u001B[38;5;28mint\u001B[39m(direction[x_start][wow][\u001B[38;5;241m0\u001B[39m]),distance_1,wow, cheak_direction)\n\u001B[1;32m---> 22\u001B[0m distance_1,aa,wow ,cheak_direction \u001B[38;5;241m=\u001B[39m serch(\u001B[38;5;28mint\u001B[39m(direction[x_start][wow][\u001B[38;5;241m0\u001B[39m]),distance_1,wow, cheak_direction)\n",
      "\u001B[1;31mTypeError\u001B[0m: cannot unpack non-iterable NoneType object"
     ]
    }
   ],
   "source": [
    "wow = 0 # 시계 방향 판단. 시계방향\n",
    "distance_1 = 0\n",
    "cheak_logic_1 = 0\n",
    "print(0,y_start)\n",
    "\n",
    "for i in range(0,y_start): # 반시계 방향\n",
    "    distance_1 = distance_1 + 1\n",
    "    try:\n",
    "        cheak_logic_1 = dic[x_start,i]\n",
    "        break\n",
    "    except:\n",
    "        pass\n",
    "\n",
    "\n",
    "if cheak_logic_1 == 0:\n",
    "\n",
    "    if (len(direction[x_start][wow]) == 1): # 정방향 역방향 =>wow\n",
    "        cheak_direction = 0 # 다음 정/역 방향 판단\n",
    "    else:\n",
    "        cheak_direction = 1 # 다음 정/역 방향 판단\n",
    "    print(int(direction[x_start][wow][0]),distance_1,wow, cheak_direction)\n",
    "    distance_1,aa,wow ,cheak_direction = serch(int(direction[x_start][wow][0]),distance_1,wow, cheak_direction)"
   ],
   "metadata": {
    "collapsed": false
   }
  },
  {
   "cell_type": "code",
   "execution_count": 54,
   "outputs": [],
   "source": [
    "now_driection, distance,wow , cheak_direction = int(direction[x_start][wow][0]),distance_1,wow, cheak_direction"
   ],
   "metadata": {
    "collapsed": false
   }
  },
  {
   "cell_type": "code",
   "execution_count": 63,
   "outputs": [
    {
     "data": {
      "text/plain": "(4, 19, 0, 1)"
     },
     "execution_count": 63,
     "metadata": {},
     "output_type": "execute_result"
    }
   ],
   "source": [
    "now_driection, distance, wow , cheak_direction"
   ],
   "metadata": {
    "collapsed": false
   }
  },
  {
   "cell_type": "code",
   "execution_count": 62,
   "outputs": [],
   "source": [
    "if cheak_direction == 1:\n",
    "    for i in range(-direction[now_driection][2], 0):\n",
    "        i = abs(i)\n",
    "        distance = distance + 1\n",
    "        try:\n",
    "            cheak_logic = dic[now_driection,i]\n",
    "            print(now_driection,i)\n",
    "            now_driection, distance,wow , cheak_direction =  distance, int(direction[now_driection][wow][0]), wow, cheak_direction\n",
    "\n",
    "        except:\n",
    "            pass\n",
    "else:\n",
    "    for i in range(0,direction[now_driection][2]):\n",
    "        distance = distance + 1\n",
    "        try:\n",
    "            cheak_logic = dic[now_driection,i]\n",
    "            print(now_driection,i)\n",
    "            now_driection, distance,wow , cheak_direction =  distance, int(direction[now_driection][wow][0]), wow, cheak_direction\n",
    "\n",
    "        except:\n",
    "            pass\n",
    "\n",
    "if (len(direction[now_driection][wow]) == 1):  # 정방향 역방향 =>wow\n",
    "    cheak_direction = 0\n",
    "else:\n",
    "    cheak_direction = 1\n"
   ],
   "metadata": {
    "collapsed": false
   }
  },
  {
   "cell_type": "code",
   "execution_count": null,
   "outputs": [],
   "source": [
    "\n",
    "\n",
    "while True:\n",
    "    wow = 0 # 시계 방향 판단. 시계방향\n",
    "    distance_1 = 0\n",
    "    cheak_logic_1 = 0\n",
    "    print(0,y_start)\n",
    "\n",
    "    for i in range(0,y_start): # 반시계 방향\n",
    "        distance_1 = distance_1 + 1\n",
    "        try:\n",
    "            cheak_logic_1 = dic[x_start,i]\n",
    "            break\n",
    "        except:\n",
    "            pass\n",
    "\n",
    "\n",
    "    if cheak_logic_1 == 0:\n",
    "\n",
    "        if (len(direction[x_start][wow]) == 1): # 정방향 역방향 =>wow\n",
    "            cheak_direction = 0 # 다음 정/역 방향 판단\n",
    "        else:\n",
    "            cheak_direction = 1 # 다음 정/역 방향 판단\n",
    "        print(int(direction[x_start][wow][0]),distance_1,wow, cheak_direction)\n",
    "        distance_1,aa,wow ,cheak_direction = serch(int(direction[x_start][wow][0]),distance_1,wow, cheak_direction)\n",
    "    break\n",
    "\n",
    "while True:\n",
    "    wow =1 # 시계 방향 판단. 반시계 방향\n",
    "    distance_2 = 0  # 시계\n",
    "    cheak_logic_2 = 0\n",
    "    print(y_start,x_max-1)\n",
    "    for i in range(y_start,x_max-1): #시계 방향\n",
    "        distance_2 = distance_2 + 1\n",
    "        try:\n",
    "            cheak_logic_2 = dic[x_start,i]\n",
    "            break\n",
    "        except:\n",
    "            pass\n",
    "\n",
    "    if cheak_logic_2 == 0:\n",
    "        if (len(direction[x_start][wow]) == 1): # 정방향 역방향\n",
    "            cheak_direction = 0 # 다음 정/역 방향 판단\n",
    "        else:\n",
    "            cheak_direction = 1 # 다음 정/역 방향 판단\n",
    "\n",
    "        distance_2, aa, wow, cheak_direction = serch(int(direction[x_start][wow][0]), distance_2, wow, cheak_direction)\n",
    "    break\n",
    "print(distance_1,distance_2)\n",
    "print((x_max -1 ) * 2 + (y_max - 1)* 2)\n",
    "print(max(distance_1,distance_2))\n",
    "print((x_max -1 ) * 2 + (y_max - 1)* 2 - max(distance_1,distance_2))"
   ],
   "metadata": {
    "collapsed": false
   }
  }
 ],
 "metadata": {
  "kernelspec": {
   "display_name": "Python 3",
   "language": "python",
   "name": "python3"
  },
  "language_info": {
   "codemirror_mode": {
    "name": "ipython",
    "version": 2
   },
   "file_extension": ".py",
   "mimetype": "text/x-python",
   "name": "python",
   "nbconvert_exporter": "python",
   "pygments_lexer": "ipython2",
   "version": "2.7.6"
  }
 },
 "nbformat": 4,
 "nbformat_minor": 0
}
