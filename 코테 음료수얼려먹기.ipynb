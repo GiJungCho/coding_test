{
 "cells": [
  {
   "cell_type": "markdown",
   "source": [
    "셀 바깥 쪽 빈공간을 마우스로 클릭하거나 Ctrl + m 또는 Esc 키를 누르면 편집모드로 변경\n",
    "[입력모드 단축키]\n",
    "Ctrl + a -> 해당 셀 전체 선택\n",
    "Ctrl + c,v,x -> 셀 내용 복사, 붙여넣기,잘라내기\n",
    "Ctrl + z -> 해당 셀 실행 취소\n",
    "Ctrl + / -> 해당 셀 커서가 위치 된 곳 주석 처리, 주석처리 해제\n",
    "Ctrl + ] -> 커서위치한 곳에서 들여쓰기(Tab)\n",
    "Ctrl + enter -> 해당 셀 실행\n",
    "Ctrl + y -> 해당 셀 다시 실행(실행취소 반대)\n",
    "shift + enter -> 해당 셀 실행 후 셀 새로 추가 또는 아래 셀로 이동\n",
    "Ctrl + s -> 저장\\\n",
    "\n",
    "[편집모드 단축키]\n",
    "a - 셀 추가(위로 추가)\n",
    "b - 셀 추가(아래로 추가)\n",
    "c, v, x- 셀 복사, 붙여넣기, 잘라내기\n",
    "\n",
    "dd (d 두번) - 해당 셀 삭제\n",
    "m - 해당셀 Markdown으로 변경\n",
    "y - 해당셀 code로 변경\n",
    "h - 단축키 목록 펼쳐 보기\n",
    "Shift + m - 해당 셀 &  아래 셀 합치기\n",
    "s - 저장\n",
    "' -> 빠른 검색\n",
    "l -> 셀 내에 코드번호 추가"
   ],
   "metadata": {
    "collapsed": false
   }
  },
  {
   "cell_type": "code",
   "execution_count": null,
   "outputs": [],
   "source": [],
   "metadata": {
    "collapsed": false
   }
  },
  {
   "cell_type": "code",
   "execution_count": null,
   "outputs": [],
   "source": [],
   "metadata": {
    "collapsed": false
   }
  },
  {
   "cell_type": "code",
   "execution_count": null,
   "outputs": [],
   "source": [],
   "metadata": {
    "collapsed": false
   }
  }
 ],
 "metadata": {
  "kernelspec": {
   "display_name": "Python 3",
   "language": "python",
   "name": "python3"
  },
  "language_info": {
   "codemirror_mode": {
    "name": "ipython",
    "version": 2
   },
   "file_extension": ".py",
   "mimetype": "text/x-python",
   "name": "python",
   "nbconvert_exporter": "python",
   "pygments_lexer": "ipython2",
   "version": "2.7.6"
  }
 },
 "nbformat": 4,
 "nbformat_minor": 0
}
