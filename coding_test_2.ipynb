{
 "cells": [
  {
   "cell_type": "markdown",
   "source": [
    "빨강 방울 초록방울 동일 개수 추출하기 빨강 = 1 초롟 = 2"
   ],
   "metadata": {
    "collapsed": false
   }
  },
  {
   "cell_type": "code",
   "execution_count": 1,
   "metadata": {
    "collapsed": true
   },
   "outputs": [],
   "source": [
    "N = int(input())\n",
    "bell_data = [list(map(int,input().split())) for i in range(N)]"
   ]
  },
  {
   "cell_type": "code",
   "execution_count": null,
   "outputs": [],
   "source": [
    "N, bell_data = (3,\n",
    " [[1, 2, 1, 1, 1, 2, 2, 1],\n",
    "  [1, 1, 1, 1, 1, 1],\n",
    "  [2, 2, 1, 1, 2, 2, 2, 2, 2, 2, 2, 1]])\n",
    "\n",
    "data = bell_data[0] # @ 지우기\n",
    "\n"
   ],
   "metadata": {
    "collapsed": false
   }
  },
  {
   "cell_type": "code",
   "execution_count": 18,
   "outputs": [],
   "source": [
    "\n",
    "for i in range(len(data)):\n",
    "    now_data = data[i]\n",
    "    if i == 0: # 첫번쨰 for문의 경우\n",
    "        before_data = [now_data]\n",
    "\n",
    "    elif now_data == before_data[0]: # 현재 데이터가 같다면\n",
    "        before_data.append(now_data)\n",
    "\n",
    "    if i != 0 and before_data[0] != now_data: # @@ == else라고 해도 되나?\n",
    "        if before_data[0] == 1: # 1번 풍선\n",
    "            cheak_1_data = before_data\n",
    "            before_data = [now_data]\n",
    "\n",
    "            if len(cheak_1_data)>0 and len(cheak_2_data)>0 :# 둘다 0 이상의 경우\n",
    "                sum_result = sum_result + min(len(cheak_1_data),len(cheak_2_data))\n",
    "\n",
    "                cheak_1_data = [] # 초기화\n",
    "                cheak_2_data = []\n",
    "\n",
    "        elif before_data[0] == 2: # 2번 풍선의 경우\n",
    "            cheak_2_data = before_data\n",
    "            before_data = [now_data]\n",
    "\n",
    "            if len(cheak_1_data)>0 and len(cheak_2_data)>0 :# 둘다 0 이상의 경우\n",
    "                sum_result = sum_result + min(len(cheak_1_data),len(cheak_2_data))\n",
    "\n",
    "                cheak_1_data = [] # 초기화\n",
    "                cheak_2_data = []\n",
    "print(sum_result * 2)"
   ],
   "metadata": {
    "collapsed": false
   }
  },
  {
   "cell_type": "code",
   "execution_count": null,
   "outputs": [],
   "source": [],
   "metadata": {
    "collapsed": false
   }
  },
  {
   "cell_type": "code",
   "execution_count": 31,
   "outputs": [
    {
     "data": {
      "text/plain": "6"
     },
     "execution_count": 31,
     "metadata": {},
     "output_type": "execute_result"
    }
   ],
   "source": [
    "result_fun(bell_data[0])"
   ],
   "metadata": {
    "collapsed": false
   }
  },
  {
   "cell_type": "code",
   "execution_count": 27,
   "outputs": [],
   "source": [
    "\n",
    "def result_fun(bell):\n",
    "    cheak_1_data = []\n",
    "    cheak_2_data = []\n",
    "    sum_result = 0\n",
    "    before_data = [0]\n",
    "\n",
    "    for i in range(len(data)):\n",
    "        now_data = data[i]\n",
    "        if i == 0: # 첫번쨰 for문의 경우\n",
    "            before_data = [now_data]\n",
    "\n",
    "        elif now_data == before_data[0]: # 현재 데이터가 같다면\n",
    "            before_data.append(now_data)\n",
    "\n",
    "\n",
    "\n",
    "        if i != 0 and before_data[0] != now_data: # @@ == else라고 해도 되나?\n",
    "            if before_data[0] == 1: # 1번 풍선\n",
    "                cheak_1_data = before_data\n",
    "                before_data = [now_data]\n",
    "\n",
    "                if len(cheak_1_data)>0 and len(cheak_2_data)>0 :# 둘다 0 이상의 경우\n",
    "                    sum_result = sum_result + min(len(cheak_1_data),len(cheak_2_data))\n",
    "\n",
    "                    cheak_1_data = [] # 초기화\n",
    "                    cheak_2_data = []\n",
    "\n",
    "            elif before_data[0] == 2: # 2번 풍선의 경우\n",
    "                cheak_2_data = before_data\n",
    "                before_data = [now_data]\n",
    "\n",
    "                if len(cheak_1_data)>0 and len(cheak_2_data)>0 :# 둘다 0 이상의 경우\n",
    "                    sum_result = sum_result + min(len(cheak_1_data),len(cheak_2_data))\n",
    "\n",
    "                    cheak_1_data = [] # 초기화\n",
    "                    cheak_2_data = []\n",
    "\n",
    "    return int(sum_result * 2)\n"
   ],
   "metadata": {
    "collapsed": false
   }
  },
  {
   "cell_type": "code",
   "execution_count": null,
   "outputs": [],
   "source": [],
   "metadata": {
    "collapsed": false
   }
  },
  {
   "cell_type": "code",
   "execution_count": null,
   "outputs": [],
   "source": [],
   "metadata": {
    "collapsed": false
   }
  },
  {
   "cell_type": "code",
   "execution_count": null,
   "outputs": [],
   "source": [],
   "metadata": {
    "collapsed": false
   }
  },
  {
   "cell_type": "code",
   "execution_count": null,
   "outputs": [],
   "source": [],
   "metadata": {
    "collapsed": false
   }
  }
 ],
 "metadata": {
  "kernelspec": {
   "display_name": "Python 3",
   "language": "python",
   "name": "python3"
  },
  "language_info": {
   "codemirror_mode": {
    "name": "ipython",
    "version": 2
   },
   "file_extension": ".py",
   "mimetype": "text/x-python",
   "name": "python",
   "nbconvert_exporter": "python",
   "pygments_lexer": "ipython2",
   "version": "2.7.6"
  }
 },
 "nbformat": 4,
 "nbformat_minor": 0
}
