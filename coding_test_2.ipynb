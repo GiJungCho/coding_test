{
 "cells": [
  {
   "cell_type": "markdown",
   "source": [
    "# 자료형 공부하기 다른 사람 이름 제외하기."
   ],
   "metadata": {
    "collapsed": false
   }
  },
  {
   "cell_type": "code",
   "execution_count": 5,
   "outputs": [],
   "source": [
    "from collections import Counter\n",
    "def solution(participant, completion):\n",
    "    answer = ''\n",
    "    a = Counter(participant)\n",
    "    b = Counter(completion)\n",
    "    answer = a-b\n",
    "    answer = answer.most_common(1)\n",
    "    # print(answer.most_common(1))\n",
    "    return answer[0][0]"
   ],
   "metadata": {
    "collapsed": false
   }
  },
  {
   "cell_type": "markdown",
   "source": [
    "# 빨강 방울 초록방울 동일 개수 추출하기 빨강 = 1 초롟 = 2"
   ],
   "metadata": {
    "collapsed": false
   }
  },
  {
   "cell_type": "code",
   "execution_count": 7,
   "outputs": [],
   "source": [
    "from itertools import accumulate\n",
    "\n",
    "def solution(bell):\n",
    "    coors_start = {}\n",
    "    coors_end = {}\n",
    "    for i, x in enumerate(accumulate([0] + [-1 if b == 1 else 1 for b in bell])):\n",
    "        if x not in coors_start:\n",
    "            coors_start[x] = i\n",
    "        coors_end[x] = i\n",
    "    return max(coors_end[x] - coors_start[x] for x in coors_end)"
   ],
   "metadata": {
    "collapsed": false
   }
  },
  {
   "cell_type": "code",
   "execution_count": 1,
   "metadata": {
    "collapsed": true
   },
   "outputs": [],
   "source": [
    "N = int(input())\n",
    "bell_data = [list(map(int,input().split())) for i in range(N)]"
   ]
  },
  {
   "cell_type": "code",
   "execution_count": 222,
   "outputs": [],
   "source": [
    "N, bell_data = (3,\n",
    " [[1, 2, 1, 1, 1, 2, 2, 1],\n",
    "  [1, 1, 1, 1, 1, 1],\n",
    "  [2, 2, 1, 1, 2, 2, 2, 2, 2, 2, 2, 1]])\n",
    "\n",
    "data = bell_data[2] # @ 지우기\n",
    "\n",
    "N, bell_data = (3,\n",
    " [[1, 2, 1, 1, 1, 2, 2, 1],\n",
    "  [1, 1, 1, 1, 1, 1],\n",
    "  [2, 2, 1, 1, 2, 2, 2, 2, 2, 2, 2, 1]])\n",
    "\n",
    "data = bell_data[2] # @ 지우기\n",
    "\n"
   ],
   "metadata": {
    "collapsed": false
   }
  },
  {
   "cell_type": "markdown",
   "source": [
    "# 점심시간 도둑이 들어 일부 학생이 체육복 도난"
   ],
   "metadata": {
    "collapsed": false
   }
  },
  {
   "cell_type": "code",
   "execution_count": 95,
   "outputs": [],
   "source": [
    "# my solution"
   ],
   "metadata": {
    "collapsed": false
   }
  },
  {
   "cell_type": "code",
   "execution_count": null,
   "outputs": [],
   "source": [
    "# N = int(input())\n",
    "# data = [1 for i in range(N)]\n",
    "# lost = list(map(int,input().split()))\n",
    "# reserve = list(map(int,input().split()))\n",
    "def solution(N, lost, reserve):\n",
    "    data = [1 for i in range(N)]\n",
    "    for i in range(len(data)):\n",
    "        if (i+1 in reserve):  # reserve 데이터의 인덱스와 같다면 == 데이터에 접근할 수 있다면,\n",
    "            data[i]= data[i] + 1\n",
    "        if (i+1 in lost):\n",
    "            data[i]= data[i] - 1\n",
    "\n",
    "    for i in range(len(data)):\n",
    "        if data[i] == 0 :\n",
    "            try: # 앞에 데이터에서 먼저 가져 올 수 있따면 가져오고\n",
    "                if data[i - 1] == 2 and data[i] == 0 and i != 0 : # 2의 경우 - 1, 현재 셀은 + 1 # 음수로 맨 마지막을 호출하면 안됨!\n",
    "                    data[i - 1] = data[i - 1] - 1\n",
    "                    data[i] = data[i] + 1\n",
    "            except:\n",
    "                try:# 앞에 데이터에서 못 가져오면 뒤의 데이터에서 가져온다.\n",
    "                    if data[i + 1] == 2 and data[i] == 0 : # 2의 경우 - 1\n",
    "                        data[i + 1] = data[i + 1] + 1\n",
    "                        data[i] = data[i] + 1\n",
    "                except:\n",
    "                    pass\n",
    "    result = [1 for i in range(N)  if data[i] == 1 or data[i] == 2]\n",
    "    return int(sum(result))\n",
    "# print(solution(N, lost, reserve))\n",
    "print(solution(N = 5, lost = [1,2], reserve = [4,5]))\n"
   ],
   "metadata": {
    "collapsed": false
   }
  },
  {
   "cell_type": "code",
   "execution_count": 82,
   "outputs": [],
   "source": [
    "N = int(input())\n",
    "data = [1 for i in range(N)]\n",
    "lost = list(map(int,input().split()))\n",
    "reserve = list(map(int,input().split()))"
   ],
   "metadata": {
    "collapsed": false
   }
  },
  {
   "cell_type": "code",
   "execution_count": 93,
   "outputs": [],
   "source": [
    "N, data, lost, reserve = (5, [1, 1, 1, 1, 1], [2, 4], [1, 3, 5])"
   ],
   "metadata": {
    "collapsed": false
   }
  },
  {
   "cell_type": "code",
   "execution_count": 1,
   "outputs": [],
   "source": [
    "N, data, lost, reserve = (3, [1, 1, 1], [3], [1]) # 답 5"
   ],
   "metadata": {
    "collapsed": false
   }
  },
  {
   "cell_type": "code",
   "execution_count": 2,
   "outputs": [
    {
     "name": "stdout",
     "output_type": "stream",
     "text": [
      "2\n"
     ]
    }
   ],
   "source": [
    "for i in range(len(data)):\n",
    "    if (i+1 in reserve):  # reserve 데이터의 인덱스와 같다면 == 데이터에 접근할 수 있다면,\n",
    "        data[i]= data[i] + 1\n",
    "    if (i+1 in lost):\n",
    "        data[i]= data[i] - 1\n",
    "\n",
    "for i in range(len(data)):\n",
    "    if data[i] == 0 :\n",
    "        try: # 앞에 데이터에서 먼저 가져 올 수 있따면 가져오고\n",
    "            if data[i - 1] == 2 and data[i] == 0: # 2의 경우 - 1, 현재 셀은 + 1\n",
    "                data[i - 1] = data[i - 1] - 1\n",
    "                data[i] = data[i] + 1\n",
    "        except:\n",
    "            try:# 앞에 데이터에서 못 가져오면 뒤의 데이터에서 가져온다.\n",
    "                if data[i + 1] == 2 and data[i] == 0: # 2의 경우 - 1\n",
    "                    data[i + 1] = data[i + 1] + 1\n",
    "                    data[i] = data[i] + 1\n",
    "            except:\n",
    "                pass\n",
    "result = [1 for i in range(N)  if data[i] == 1 or data[i] ==  2]\n",
    "print(int(sum(result)))"
   ],
   "metadata": {
    "collapsed": false
   }
  },
  {
   "cell_type": "code",
   "execution_count": 89,
   "outputs": [
    {
     "data": {
      "text/plain": "1"
     },
     "execution_count": 89,
     "metadata": {},
     "output_type": "execute_result"
    }
   ],
   "source": [
    "N = int(input())\n",
    "data = [1 for i in range(N)]\n",
    "lost = list(map(int,input().split()))\n",
    "reserve = list(map(int,input().split()))\n",
    "def solution(N, lost, reserve):\n",
    "    data = [1 for i in range(N)]\n",
    "    for i in range(len(data)):\n",
    "        if (i+1 in reserve):  # reserve 데이터의 인덱스와 같다면 == 데이터에 접근할 수 있다면,\n",
    "            data[i]= data[i] + 1\n",
    "        if (i+1 in lost):\n",
    "            data[i]= data[i] - 1\n",
    "\n",
    "    for i in range(len(data)):\n",
    "        if data[i] == 0 :\n",
    "            try: # 앞에 데이터에서 먼저 가져 올 수 있따면 가져오고\n",
    "                if data[i - 1] == 2 and data[i] == 0: # 2의 경우 - 1, 현재 셀은 + 1\n",
    "                    data[i - 1] = data[i - 1] - 1\n",
    "                    data[i] = data[i] + 1\n",
    "            except:\n",
    "                try:# 앞에 데이터에서 못 가져오면 뒤의 데이터에서 가져온다.\n",
    "                    if data[i + 1] == 2 and data[i] == 0: # 2의 경우 - 1\n",
    "                        data[i + 1] = data[i + 1] + 1\n",
    "                        data[i] = data[i] + 1\n",
    "                except:\n",
    "                    pass\n",
    "    result = [1 for i in range(N)  if data[i] == 1 or data[i] ==  2]\n",
    "    return int(sum(result))\n",
    "print(solution(N, lost, reserve))\n"
   ],
   "metadata": {
    "collapsed": false
   }
  },
  {
   "cell_type": "code",
   "execution_count": null,
   "outputs": [],
   "source": [
    "# 정답 풀이\n"
   ],
   "metadata": {
    "collapsed": false
   }
  },
  {
   "cell_type": "markdown",
   "source": [
    "# step1-2 자전거 공장"
   ],
   "metadata": {
    "collapsed": false
   }
  },
  {
   "cell_type": "code",
   "execution_count": null,
   "outputs": [],
   "source": [
    "# my solution"
   ],
   "metadata": {
    "collapsed": false
   }
  },
  {
   "cell_type": "code",
   "execution_count": 100,
   "outputs": [],
   "source": [
    "N1 = int(input())\n",
    "N2 = int(input())\n",
    "cost = [list(map(int,input().split())) for i in range(N1)]\n",
    "order = [list(map(int,input().split())) for i in range(N2)]"
   ],
   "metadata": {
    "collapsed": false
   }
  },
  {
   "cell_type": "code",
   "execution_count": 242,
   "outputs": [],
   "source": [
    "cost ,order = ([[0, 10], [50, 20], [100, 30], [200, 40]], [[3, 50], [7, 200], [8, 200]])"
   ],
   "metadata": {
    "collapsed": false
   }
  },
  {
   "cell_type": "code",
   "execution_count": 263,
   "outputs": [
    {
     "name": "stdout",
     "output_type": "stream",
     "text": [
      "3 100\n",
      "0 v1이 0 이 될 자리\n",
      "0 v1이 0 이 될 자리\n",
      "0 v1이 0 이 될 자리\n",
      "4 200\n",
      "50 50 100 여기 들어올 수는 ..앞에 두갠 같고 마지막은 0 이상 50 3\n",
      "0 v1이 0 이 될 자리\n",
      "0 v1이 0 이 될 자리\n",
      "[50]\n",
      "50\n",
      "10\n",
      "50\n",
      "10\n",
      "50\n",
      "10\n",
      "150\n",
      "10\n",
      "[10, 20]\n",
      "3000\n",
      "300\n",
      "{0: {50: 50}, 1: {50: 50}, 2: {50: 50}, 3: {50: 150}}\n"
     ]
    }
   ],
   "source": [
    "def solution(cost, order):\n",
    "    fuck = 0\n",
    "\n",
    "    a = [cost[i][0] for i in range(1, len(cost))]\n",
    "    b = [cost[i][1] for i in range(len(cost))]\n",
    "    c = [order[i][0] for i in range(len(order))]\n",
    "    data_stack = {}\n",
    "\n",
    "    from collections import Counter\n",
    "\n",
    "    for i in range(max(c)):\n",
    "        a_dict = dict(Counter(a))\n",
    "        a_key = list(a_dict.keys())\n",
    "        for j in a_key:  # 키값 0 으로 업데이트\n",
    "            a_dict[j] = 0\n",
    "\n",
    "        data_stack[i] = a_dict\n",
    "\n",
    "    for k, order_value in enumerate(order):\n",
    "\n",
    "        v1 = order_value[0]\n",
    "        v2 = order_value[1]\n",
    "        print(v1, v2)\n",
    "        while True:\n",
    "\n",
    "            # 다음 키를 먼저 가야함\n",
    "            # break 가 안좋음\n",
    "\n",
    "            for a_key_i in a_key:\n",
    "                for i in range(v1):\n",
    "\n",
    "                    if i + 1 == v1 and data_stack[i][a_key[len(a_key) - 1]] == a_key[len(a_key) - 1] and v2 >= 0:  # 맨 마지막 달에 왔고 해당 마지막 값이 꽉 찻다면,\n",
    "                        print(data_stack[i][a_key[len(a_key) - 1]], a_key[len(a_key) - 1], v2, \"여기 들어올 수는 ..앞에 두갠 같고 마지막은 0 이상\", a_key_i, i)\n",
    "                        # data_stack[i][a_key[len(a_key) - 1]] = data_stack[i][a_key[len(a_key) - 1]] + v2  # @@ 맨 마지막 키값 데이터에 다 떄려 박는다\n",
    "                        fuck = fuck + v2\n",
    "                        v2 = v2 - v2\n",
    "                        break\n",
    "\n",
    "                    elif data_stack[i][a_key_i] - a_key_i != 0 and v2 > 0 and a_key_i > data_stack[i][a_key_i]:\n",
    "                        # elif a_key_i > data_stack[i][a_key_i] and v2 > 0 :\n",
    "                        # print(a_key_i , data_stack[i][a_key_i])\n",
    "                        remaining_value = a_key_i - data_stack[i][a_key_i]  # remaining_value = 남은 수량\n",
    "\n",
    "                        v2 = v2 - remaining_value\n",
    "                        if v2 < 0:  # 0보다 작을떄\n",
    "                            data_stack[i][a_key_i] = data_stack[i][a_key_i] + remaining_value + v2\n",
    "                            v2 = 0\n",
    "                        else:\n",
    "                            data_stack[i][a_key_i] = data_stack[i][a_key_i] + remaining_value\n",
    "\n",
    "                        # remaining_value = data_stack[i][a_key_i] - a_key_i  # remaining_value = 남은 수량\n",
    "                        # data_stack[i][a_key_i] = - remaining_value\n",
    "                        # v2 = remaining_value + v2\n",
    "\n",
    "                    else:\n",
    "                        pass\n",
    "\n",
    "                    if v2 <= 0:\n",
    "                        print(v2, \"v1이 0 이 될 자리\")\n",
    "                        break\n",
    "                if v2 <= 0:\n",
    "                    print(v2, \"v1이 0 이 될 자리\")\n",
    "                    break\n",
    "            if v2 <= 0:\n",
    "                print(v2, \"v1이 0 이 될 자리\")\n",
    "                break\n",
    "    result = 0\n",
    "    cheak_logic = 0\n",
    "    print(a_key)\n",
    "\n",
    "    for i in range(len(data_stack)):\n",
    "        for j in range(len(a_key)):\n",
    "            result = result + data_stack[i][a_key[j]] * b[j]\n",
    "            cheak_logic = cheak_logic + data_stack[i][a_key[j]]\n",
    "\n",
    "    result = result + b[len(b) - 1] * fuck\n",
    "\n",
    "    return result"
   ],
   "metadata": {
    "collapsed": false
   }
  },
  {
   "cell_type": "code",
   "execution_count": null,
   "outputs": [],
   "source": [
    "fuck= 0\n",
    "\n",
    "a =[cost[i][0] for i in range(1,len(cost))]\n",
    "b =[cost[i][1] for i in range(len(cost))]\n",
    "c =[order[i][0] for i in range(len(order))]\n",
    "data_stack = {}\n",
    "\n",
    "from collections import Counter\n",
    "\n",
    "for i in range(max(c)):\n",
    "    a_dict = dict(Counter(a))\n",
    "    a_key = list(a_dict.keys())\n",
    "    for j in a_key: # 키값 0 으로 업데이트\n",
    "        a_dict[j] = 0\n",
    "\n",
    "    data_stack[i] = a_dict\n",
    "\n",
    "\n",
    "for k,order_value in enumerate(order):\n",
    "\n",
    "    v1 = order_value[0]\n",
    "    v2 = order_value[1]\n",
    "    print(v1,v2)\n",
    "    while True:\n",
    "\n",
    "        # 다음 키를 먼저 가야함\n",
    "        # break 가 안좋음\n",
    "\n",
    "        for a_key_i in a_key:\n",
    "            for i in range(v1):\n",
    "\n",
    "                if i+1 == v1 and data_stack[i][a_key[len(a_key) - 1]] == a_key[len(a_key) - 1] and v2 >= 0:  # 맨 마지막 달에 왔고 해당 마지막 값이 꽉 찻다면,\n",
    "                    print(data_stack[i][a_key[len(a_key) - 1]],a_key[len(a_key) - 1],v2,\"여기 들어올 수는 ..앞에 두갠 같고 마지막은 0 이상\",a_key_i,i)\n",
    "                    # data_stack[i][a_key[len(a_key) - 1]] = data_stack[i][a_key[len(a_key) - 1]] + v2  # @@ 맨 마지막 키값 데이터에 다 떄려 박는다\n",
    "                    fuck = fuck + v2\n",
    "                    v2 = v2 - v2\n",
    "                    break\n",
    "\n",
    "                elif data_stack[i][a_key_i] - a_key_i != 0 and v2 > 0 and a_key_i > data_stack[i][a_key_i]:\n",
    "                # elif a_key_i > data_stack[i][a_key_i] and v2 > 0 :\n",
    "                    # print(a_key_i , data_stack[i][a_key_i])\n",
    "                    remaining_value = a_key_i - data_stack[i][a_key_i]  # remaining_value = 남은 수량\n",
    "\n",
    "                    v2 = v2 - remaining_value\n",
    "                    if v2 < 0: # 0보다 작을떄\n",
    "                        data_stack[i][a_key_i] = data_stack[i][a_key_i] + remaining_value + v2\n",
    "                        v2 = 0\n",
    "                    else:\n",
    "                        data_stack[i][a_key_i] = data_stack[i][a_key_i] + remaining_value\n",
    "\n",
    "\n",
    "                    # remaining_value = data_stack[i][a_key_i] - a_key_i  # remaining_value = 남은 수량\n",
    "                    # data_stack[i][a_key_i] = - remaining_value\n",
    "                    # v2 = remaining_value + v2\n",
    "\n",
    "                else:\n",
    "                    pass\n",
    "\n",
    "\n",
    "\n",
    "                if v2 <= 0:\n",
    "                    print(v2, \"v1이 0 이 될 자리\")\n",
    "                    break\n",
    "            if v2 <= 0:\n",
    "                print(v2, \"v1이 0 이 될 자리\")\n",
    "                break\n",
    "        if v2 <= 0:\n",
    "            print(v2, \"v1이 0 이 될 자리\")\n",
    "            break\n",
    "result = 0\n",
    "cheak_logic = 0\n",
    "print(a_key)\n",
    "\n",
    "for i in range(len(data_stack)):\n",
    "    for j in range(len(a_key)):\n",
    "        result = result + data_stack[i][a_key[j]] * b[j]\n",
    "        cheak_logic = cheak_logic + data_stack[i][a_key[j]]\n",
    "\n",
    "\n",
    "result = result + b[len(b)-1]*fuck\n",
    "\n",
    "return result"
   ],
   "metadata": {
    "collapsed": false
   }
  },
  {
   "cell_type": "code",
   "execution_count": 243,
   "outputs": [],
   "source": [
    "\n",
    "a =[cost[i][0] for i in range(1,len(cost))]\n",
    "b =[cost[i][1] for i in range(len(cost))]\n",
    "c =[order[i][0] for i in range(len(order))]\n",
    "data_stack = {}"
   ],
   "metadata": {
    "collapsed": false
   }
  },
  {
   "cell_type": "code",
   "execution_count": 244,
   "outputs": [],
   "source": [
    "from collections import Counter\n",
    "for i in range(max(c)):\n",
    "    a_dict = dict(Counter(a))\n",
    "    a_key = list(a_dict.keys())\n",
    "    for j in a_key: # 키값 0 으로 업데이트\n",
    "        a_dict[j] = 0\n",
    "\n",
    "    data_stack[i] = a_dict"
   ],
   "metadata": {
    "collapsed": false
   }
  },
  {
   "cell_type": "code",
   "execution_count": 245,
   "outputs": [
    {
     "data": {
      "text/plain": "{0: {50: 0, 100: 0, 200: 0},\n 1: {50: 0, 100: 0, 200: 0},\n 2: {50: 0, 100: 0, 200: 0},\n 3: {50: 0, 100: 0, 200: 0},\n 4: {50: 0, 100: 0, 200: 0},\n 5: {50: 0, 100: 0, 200: 0},\n 6: {50: 0, 100: 0, 200: 0},\n 7: {50: 0, 100: 0, 200: 0}}"
     },
     "execution_count": 245,
     "metadata": {},
     "output_type": "execute_result"
    }
   ],
   "source": [
    "data_stack"
   ],
   "metadata": {
    "collapsed": false
   }
  },
  {
   "cell_type": "code",
   "execution_count": 147,
   "outputs": [],
   "source": [],
   "metadata": {
    "collapsed": false
   }
  },
  {
   "cell_type": "code",
   "execution_count": null,
   "outputs": [],
   "source": [],
   "metadata": {
    "collapsed": false
   }
  },
  {
   "cell_type": "code",
   "execution_count": 137,
   "outputs": [
    {
     "data": {
      "text/plain": "8"
     },
     "execution_count": 137,
     "metadata": {},
     "output_type": "execute_result"
    }
   ],
   "source": [],
   "metadata": {
    "collapsed": false
   }
  },
  {
   "cell_type": "code",
   "execution_count": 256,
   "outputs": [
    {
     "name": "stdout",
     "output_type": "stream",
     "text": [
      "0 [3, 50]\n",
      "1 [7, 200]\n",
      "2 [8, 200]\n"
     ]
    }
   ],
   "source": [
    "\n",
    "for k,order_value in enumerate(order):\n",
    "    print(k,order_value)"
   ],
   "metadata": {
    "collapsed": false
   }
  },
  {
   "cell_type": "code",
   "execution_count": 257,
   "outputs": [],
   "source": [
    "order_value = [3,50]"
   ],
   "metadata": {
    "collapsed": false
   }
  },
  {
   "cell_type": "code",
   "execution_count": 258,
   "outputs": [],
   "source": [
    "v1 = order_value[0]\n",
    "v2 = order_value[1]"
   ],
   "metadata": {
    "collapsed": false
   }
  },
  {
   "cell_type": "code",
   "execution_count": null,
   "outputs": [],
   "source": [
    "for i in range(v1+1):"
   ],
   "metadata": {
    "collapsed": false
   }
  },
  {
   "cell_type": "code",
   "execution_count": null,
   "outputs": [],
   "source": [],
   "metadata": {
    "collapsed": false
   }
  },
  {
   "cell_type": "code",
   "execution_count": null,
   "outputs": [],
   "source": [
    "# data_stack[i]\n",
    "for a_key_i in a_key:\n",
    "    if data_stack[i][a_key_i] - a_key_i != 0:\n",
    "        remaining_value = data_stack[i][a_key_i] - a_key_i  # remaining_value = 남은 수량\n",
    "        data_stack[i][a_key_i] = - remaining_value\n",
    "        v2 = remaining_value + v2\n",
    "    else:\n",
    "        pass"
   ],
   "metadata": {
    "collapsed": false
   }
  },
  {
   "cell_type": "code",
   "execution_count": 260,
   "outputs": [
    {
     "ename": "KeyboardInterrupt",
     "evalue": "",
     "output_type": "error",
     "traceback": [
      "\u001B[1;31m---------------------------------------------------------------------------\u001B[0m",
      "\u001B[1;31mKeyboardInterrupt\u001B[0m                         Traceback (most recent call last)",
      "Cell \u001B[1;32mIn[260], line 8\u001B[0m\n\u001B[0;32m      4\u001B[0m     \u001B[38;5;28;01mbreak\u001B[39;00m\n\u001B[0;32m      6\u001B[0m \u001B[38;5;28;01mfor\u001B[39;00m i \u001B[38;5;129;01min\u001B[39;00m \u001B[38;5;28mrange\u001B[39m(v1\u001B[38;5;241m+\u001B[39m\u001B[38;5;241m1\u001B[39m):\n\u001B[0;32m      7\u001B[0m \u001B[38;5;66;03m# data_stack[i]\u001B[39;00m\n\u001B[1;32m----> 8\u001B[0m     \u001B[38;5;28;01mfor\u001B[39;00m a_key_i \u001B[38;5;129;01min\u001B[39;00m a_key:\n\u001B[0;32m      9\u001B[0m         \u001B[38;5;28;01mif\u001B[39;00m data_stack[i][a_key_i] \u001B[38;5;241m-\u001B[39m a_key_i \u001B[38;5;241m!=\u001B[39m \u001B[38;5;241m0\u001B[39m:\n\u001B[0;32m     10\u001B[0m             remaining_value \u001B[38;5;241m=\u001B[39m data_stack[i][a_key_i] \u001B[38;5;241m-\u001B[39m a_key_i  \u001B[38;5;66;03m# remaining_value = 남은 수량\u001B[39;00m\n",
      "\u001B[1;31mKeyboardInterrupt\u001B[0m: "
     ]
    }
   ],
   "source": [
    "while True:\n",
    "    if v1 <= 0:\n",
    "        print(v1,\"v1이 0 이 될 자리\")\n",
    "        break\n",
    "    # 다음 키를 먼저 가야함\n",
    "    # break 가 안좋음\n",
    "\n",
    "\n",
    "    for a_key_i in a_key:\n",
    "        for i in range(v1+1):\n",
    "            if data_stack[i][a_key_i] - a_key_i != 0:\n",
    "                remaining_value = data_stack[i][a_key_i] - a_key_i  # remaining_value = 남은 수량\n",
    "                data_stack[i][a_key_i] = - remaining_value\n",
    "                v2 = remaining_value + v2\n",
    "            else:\n",
    "                pass\n",
    "\n",
    "            if i == v1+1 and a_key[len(a_key)-1]:# 맨 마지막 달에 왔을때\n",
    "                data_stack[i-1][a_key[len(a_key)-1]] = data_stack[i-1][a_key[len(a_key)-1]] + v2 # 맨 마지막 키값 데이터에 다 떄려 박는다\n",
    "                v2 = v2 - v2\n",
    "                break\n",
    "\n",
    "    # data_stack[i]\n",
    "\n",
    "\n"
   ],
   "metadata": {
    "collapsed": false
   }
  },
  {
   "cell_type": "code",
   "execution_count": 262,
   "outputs": [
    {
     "data": {
      "text/plain": "200"
     },
     "execution_count": 262,
     "metadata": {},
     "output_type": "execute_result"
    }
   ],
   "source": [],
   "metadata": {
    "collapsed": false
   }
  },
  {
   "cell_type": "code",
   "execution_count": 130,
   "outputs": [
    {
     "data": {
      "text/plain": "[50, 100, 200]"
     },
     "execution_count": 130,
     "metadata": {},
     "output_type": "execute_result"
    }
   ],
   "source": [
    "for i in range()"
   ],
   "metadata": {
    "collapsed": false
   }
  },
  {
   "cell_type": "code",
   "execution_count": 196,
   "outputs": [
    {
     "ename": "IndexError",
     "evalue": "list index out of range",
     "output_type": "error",
     "traceback": [
      "\u001B[1;31m---------------------------------------------------------------------------\u001B[0m",
      "\u001B[1;31mIndexError\u001B[0m                                Traceback (most recent call last)",
      "Cell \u001B[1;32mIn[196], line 1\u001B[0m\n\u001B[1;32m----> 1\u001B[0m \u001B[43ma_key\u001B[49m\u001B[43m[\u001B[49m\u001B[38;5;28;43mlen\u001B[39;49m\u001B[43m(\u001B[49m\u001B[43ma_key\u001B[49m\u001B[43m)\u001B[49m\u001B[43m]\u001B[49m\n",
      "\u001B[1;31mIndexError\u001B[0m: list index out of range"
     ]
    }
   ],
   "source": [
    "a_key[len(a_key)]\n",
    "# for i in a_key:"
   ],
   "metadata": {
    "collapsed": false
   }
  },
  {
   "cell_type": "code",
   "execution_count": 200,
   "outputs": [
    {
     "data": {
      "text/plain": "200"
     },
     "execution_count": 200,
     "metadata": {},
     "output_type": "execute_result"
    }
   ],
   "source": [],
   "metadata": {
    "collapsed": false
   }
  },
  {
   "cell_type": "code",
   "execution_count": 42,
   "outputs": [
    {
     "ename": "NameError",
     "evalue": "name 'answer' is not defined",
     "output_type": "error",
     "traceback": [
      "\u001B[1;31m---------------------------------------------------------------------------\u001B[0m",
      "\u001B[1;31mNameError\u001B[0m                                 Traceback (most recent call last)",
      "Cell \u001B[1;32mIn[42], line 1\u001B[0m\n\u001B[1;32m----> 1\u001B[0m \u001B[43manswer\u001B[49m\n",
      "\u001B[1;31mNameError\u001B[0m: name 'answer' is not defined"
     ]
    }
   ],
   "source": [],
   "metadata": {
    "collapsed": false
   }
  },
  {
   "cell_type": "code",
   "execution_count": 5,
   "outputs": [],
   "source": [
    "scoville = list(map(int,input().split()))\n",
    "K = int(input())"
   ],
   "metadata": {
    "collapsed": false
   }
  },
  {
   "cell_type": "code",
   "execution_count": 45,
   "outputs": [
    {
     "name": "stdout",
     "output_type": "stream",
     "text": [
      "2\n"
     ]
    }
   ],
   "source": [
    "# 내 풀이\n",
    "scoville, K = ([1,2,3,4,5,6,7,8,8,9], 9)\n",
    "# scoville,K = ([1, 2, 6, 9, 10, 12], 7) # 2\n",
    "\n",
    "# scoville,K = ([1, 2, 6, 7, 9, 10, 12,6,6,6], 7)\n",
    "def return_Scorvill_mix(a, b):\n",
    "    return a + (b * 2)\n",
    "\n",
    "\n",
    "def solution(scoville, K):\n",
    "    answer = 0\n",
    "    while True:\n",
    "        print(scoville)\n",
    "        if min(scoville) < K and (len(scoville) <= 1) == False:  # k 보다 다 커야함\n",
    "\n",
    "            scoville_min_1 = min(scoville)\n",
    "            scoville.remove(scoville_min_1)\n",
    "\n",
    "            scoville_min_2 = min(scoville)\n",
    "            scoville.remove(scoville_min_2)\n",
    "\n",
    "            scoville.append(return_Scorvill_mix(scoville_min_1, scoville_min_2))\n",
    "            answer = answer + 1\n",
    "\n",
    "        elif len(scoville) <= 1:  # 스코빌 지수가 다 안나온다면\n",
    "            return -1\n",
    "\n",
    "        else:\n",
    "            return answer\n",
    "\n",
    "\n",
    "print(solution(scoville, K))"
   ],
   "metadata": {
    "collapsed": false
   }
  },
  {
   "cell_type": "code",
   "execution_count": null,
   "outputs": [],
   "source": [],
   "metadata": {
    "collapsed": false
   }
  },
  {
   "cell_type": "code",
   "execution_count": 68,
   "outputs": [],
   "source": [
    "t = int(input())\n",
    "k = int(input()) # pstudy가능 수\n",
    "study = list(map(int,input().split()))\n",
    "pstudy = list(map(int,input().split()))\n",
    "\n",
    "# 1. pstudy에서 최소값 k개를 찾고 여기서 나오는 시간이 t보다 작아야 함\n",
    "# 2. study에서 최소값 k개를 찾는다\n",
    "#\n",
    "# ? study에서 최소값 찾았는데 p study와 같은경우 좆댐.\n"
   ],
   "metadata": {
    "collapsed": false
   }
  },
  {
   "cell_type": "code",
   "execution_count": 106,
   "outputs": [],
   "source": [
    "t, k, study, pstudy = (10, 2, [8, 13, 8, 9, 5], [1, 3, 4, 7, 4]) # 3\n",
    "# t, k, study, pstudy = (100, 3, [90, 100, 90, 80, 40, 50], [1, 2, 3, 10, 20, 30]) # 5\n"
   ],
   "metadata": {
    "collapsed": false
   }
  },
  {
   "cell_type": "code",
   "execution_count": 107,
   "outputs": [],
   "source": [
    "mstudy = [study[i] - pstudy[i] for i in range(len(study))]"
   ],
   "metadata": {
    "collapsed": false
   }
  },
  {
   "cell_type": "code",
   "execution_count": 110,
   "outputs": [
    {
     "data": {
      "text/plain": "[7, 10, 4, 2, 1]"
     },
     "execution_count": 110,
     "metadata": {},
     "output_type": "execute_result"
    }
   ],
   "source": [
    "mstudy"
   ],
   "metadata": {
    "collapsed": false
   }
  },
  {
   "cell_type": "code",
   "execution_count": 109,
   "outputs": [
    {
     "data": {
      "text/plain": "1"
     },
     "execution_count": 109,
     "metadata": {},
     "output_type": "execute_result"
    }
   ],
   "source": [
    "mstudy.index(10)"
   ],
   "metadata": {
    "collapsed": false
   }
  },
  {
   "cell_type": "code",
   "execution_count": 84,
   "outputs": [],
   "source": [
    "ppstudy = pstudy.copy()"
   ],
   "metadata": {
    "collapsed": false
   }
  },
  {
   "cell_type": "code",
   "execution_count": 85,
   "outputs": [],
   "source": [
    "ppstudy.sort()"
   ],
   "metadata": {
    "collapsed": false
   }
  },
  {
   "cell_type": "code",
   "execution_count": 86,
   "outputs": [
    {
     "data": {
      "text/plain": "[1, 3, 4, 4, 7]"
     },
     "execution_count": 86,
     "metadata": {},
     "output_type": "execute_result"
    }
   ],
   "source": [
    "\n",
    "for i in range(k):\n",
    "    if t > 0:\n",
    "        t = t - ppstudy[i]\n",
    "\n",
    "\n"
   ],
   "metadata": {
    "collapsed": false
   }
  },
  {
   "cell_type": "code",
   "execution_count": 113,
   "outputs": [
    {
     "name": "stdout",
     "output_type": "stream",
     "text": [
      "3\n"
     ]
    },
    {
     "data": {
      "text/plain": "3"
     },
     "execution_count": 113,
     "metadata": {},
     "output_type": "execute_result"
    }
   ],
   "source": [
    "i = 1\n",
    "print(ppstudy[i])\n",
    "pstudy[pstudy.index(ppstudy[i])]"
   ],
   "metadata": {
    "collapsed": false
   }
  },
  {
   "cell_type": "code",
   "execution_count": 95,
   "outputs": [
    {
     "data": {
      "text/plain": "([1, 3, 4, 7, 4], [1, 3, 4, 4, 7])"
     },
     "execution_count": 95,
     "metadata": {},
     "output_type": "execute_result"
    }
   ],
   "source": [
    "pstudy,ppstudy"
   ],
   "metadata": {
    "collapsed": false
   }
  },
  {
   "cell_type": "code",
   "execution_count": 87,
   "outputs": [
    {
     "name": "stdout",
     "output_type": "stream",
     "text": [
      "['__add__', '__class__', '__class_getitem__', '__contains__', '__delattr__', '__delitem__', '__dir__', '__doc__', '__eq__', '__format__', '__ge__', '__getattribute__', '__getitem__', '__gt__', '__hash__', '__iadd__', '__imul__', '__init__', '__init_subclass__', '__iter__', '__le__', '__len__', '__lt__', '__mul__', '__ne__', '__new__', '__reduce__', '__reduce_ex__', '__repr__', '__reversed__', '__rmul__', '__setattr__', '__setitem__', '__sizeof__', '__str__', '__subclasshook__', 'append', 'clear', 'copy', 'count', 'extend', 'index', 'insert', 'pop', 'remove', 'reverse', 'sort']\n"
     ]
    }
   ],
   "source": [
    "print(dir(pstudy))"
   ],
   "metadata": {
    "collapsed": false
   }
  },
  {
   "cell_type": "markdown",
   "source": [
    "step_4_7 큰 수 만들기"
   ],
   "metadata": {
    "collapsed": false
   }
  },
  {
   "cell_type": "code",
   "execution_count": 12,
   "outputs": [],
   "source": [
    "number = str(input())\n",
    "k = int(input())"
   ],
   "metadata": {
    "collapsed": false
   }
  },
  {
   "cell_type": "code",
   "execution_count": 15,
   "outputs": [],
   "source": [
    "number,k = '1924',2"
   ],
   "metadata": {
    "collapsed": false
   }
  },
  {
   "cell_type": "code",
   "execution_count": 18,
   "outputs": [],
   "source": [
    "use_k = len(number) - k"
   ],
   "metadata": {
    "collapsed": false
   }
  },
  {
   "cell_type": "code",
   "execution_count": 19,
   "outputs": [],
   "source": [
    "cheak_list = []"
   ],
   "metadata": {
    "collapsed": false
   }
  },
  {
   "cell_type": "code",
   "execution_count": 21,
   "outputs": [
    {
     "data": {
      "text/plain": "2"
     },
     "execution_count": 21,
     "metadata": {},
     "output_type": "execute_result"
    }
   ],
   "source": [
    "use_k"
   ],
   "metadata": {
    "collapsed": false
   }
  },
  {
   "cell_type": "code",
   "execution_count": 22,
   "outputs": [
    {
     "data": {
      "text/plain": "'1924'"
     },
     "execution_count": 22,
     "metadata": {},
     "output_type": "execute_result"
    }
   ],
   "source": [
    "number"
   ],
   "metadata": {
    "collapsed": false
   }
  },
  {
   "cell_type": "code",
   "execution_count": 35,
   "outputs": [],
   "source": [
    "for i,v in enumerate(number):\n",
    "    v = v[i:]\n",
    "    number[i]\n",
    "    for j in range(len(v)):\n",
    "        now_data = number[i] + v[j]\n",
    "        cheak_list.append(now_data)\n"
   ],
   "metadata": {
    "collapsed": false
   }
  },
  {
   "cell_type": "code",
   "execution_count": 42,
   "outputs": [
    {
     "data": {
      "text/plain": "''"
     },
     "execution_count": 42,
     "metadata": {},
     "output_type": "execute_result"
    }
   ],
   "source": [
    "v"
   ],
   "metadata": {
    "collapsed": false
   }
  },
  {
   "cell_type": "code",
   "execution_count": 41,
   "outputs": [
    {
     "ename": "IndexError",
     "evalue": "string index out of range",
     "output_type": "error",
     "traceback": [
      "\u001B[1;31m---------------------------------------------------------------------------\u001B[0m",
      "\u001B[1;31mIndexError\u001B[0m                                Traceback (most recent call last)",
      "Cell \u001B[1;32mIn[41], line 1\u001B[0m\n\u001B[1;32m----> 1\u001B[0m number[i],\u001B[43mv\u001B[49m\u001B[43m[\u001B[49m\u001B[43mj\u001B[49m\u001B[43m]\u001B[49m\n",
      "\u001B[1;31mIndexError\u001B[0m: string index out of range"
     ]
    }
   ],
   "source": [
    "number[i],v[j]"
   ],
   "metadata": {
    "collapsed": false
   }
  },
  {
   "cell_type": "code",
   "execution_count": 38,
   "outputs": [
    {
     "data": {
      "text/plain": "''"
     },
     "execution_count": 38,
     "metadata": {},
     "output_type": "execute_result"
    }
   ],
   "source": [
    "v"
   ],
   "metadata": {
    "collapsed": false
   }
  },
  {
   "cell_type": "code",
   "execution_count": 36,
   "outputs": [
    {
     "data": {
      "text/plain": "['11', '11']"
     },
     "execution_count": 36,
     "metadata": {},
     "output_type": "execute_result"
    }
   ],
   "source": [
    "cheak_list"
   ],
   "metadata": {
    "collapsed": false
   }
  },
  {
   "cell_type": "code",
   "execution_count": 33,
   "outputs": [
    {
     "data": {
      "text/plain": "'11'"
     },
     "execution_count": 33,
     "metadata": {},
     "output_type": "execute_result"
    }
   ],
   "source": [
    "now_data"
   ],
   "metadata": {
    "collapsed": false
   }
  },
  {
   "cell_type": "code",
   "execution_count": 31,
   "outputs": [
    {
     "data": {
      "text/plain": "True"
     },
     "execution_count": 31,
     "metadata": {},
     "output_type": "execute_result"
    }
   ],
   "source": [
    "if len(now_data) == use_k:\n",
    "    break\n",
    "else:\n"
   ],
   "metadata": {
    "collapsed": false
   }
  },
  {
   "cell_type": "code",
   "execution_count": 32,
   "outputs": [
    {
     "data": {
      "text/plain": "'11'"
     },
     "execution_count": 32,
     "metadata": {},
     "output_type": "execute_result"
    }
   ],
   "source": [
    "now_data"
   ],
   "metadata": {
    "collapsed": false
   }
  }
 ],
 "metadata": {
  "kernelspec": {
   "display_name": "Python 3",
   "language": "python",
   "name": "python3"
  },
  "language_info": {
   "codemirror_mode": {
    "name": "ipython",
    "version": 2
   },
   "file_extension": ".py",
   "mimetype": "text/x-python",
   "name": "python",
   "nbconvert_exporter": "python",
   "pygments_lexer": "ipython2",
   "version": "2.7.6"
  }
 },
 "nbformat": 4,
 "nbformat_minor": 0
}
