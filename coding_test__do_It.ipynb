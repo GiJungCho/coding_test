{
 "cells": [
  {
   "cell_type": "markdown",
   "metadata": {},
   "source": [
    "셀 바깥 쪽 빈공간을 마우스로 클릭하거나 Ctrl + m 또는 Esc 키를 누르면 편집모드로 변경\n",
    "[입력모드 단축키]\n",
    "Ctrl + a -> 해당 셀 전체 선택\n",
    "Ctrl + c,v,x -> 셀 내용 복사, 붙여넣기,잘라내기\n",
    "Ctrl + z -> 해당 셀 실행 취소\n",
    "Ctrl + / -> 해당 셀 커서가 위치 된 곳 주석 처리, 주석처리 해제\n",
    "Ctrl + ] -> 커서위치한 곳에서 들여쓰기(Tab)\n",
    "Ctrl + enter -> 해당 셀 실행\n",
    "Ctrl + y -> 해당 셀 다시 실행(실행취소 반대)\n",
    "shift + enter -> 해당 셀 실행 후 셀 새로 추가 또는 아래 셀로 이동\n",
    "Ctrl + s -> 저장\\\n",
    "\n",
    "[편집모드 단축키]\n",
    "a - 셀 추가(위로 추가)\n",
    "b - 셀 추가(아래로 추가)\n",
    "c, v, x- 셀 복사, 붙여넣기, 잘라내기\n",
    "\n",
    "dd (d 두번) - 해당 셀 삭제\n",
    "m - 해당셀 Markdown으로 변경\n",
    "y - 해당셀 code로 변경\n",
    "h - 단축키 목록 펼쳐 보기\n",
    "Shift + m - 해당 셀 &  아래 셀 합치기\n",
    "s - 저장\n",
    "' -> 빠른 검색\n",
    "l -> 셀 내에 코드번호 추가"
   ]
  },
  {
   "cell_type": "markdown",
   "metadata": {},
   "source": [
    "#  구간 합 구하기\n",
    "### 수 n개가 주어졌을 떄 i~j까지의 수를 합하는 프로그램 작성"
   ]
  },
  {
   "cell_type": "code",
   "execution_count": 8,
   "metadata": {},
   "outputs": [
    {
     "data": {
      "text/plain": [
       "(int, [])"
      ]
     },
     "execution_count": 8,
     "metadata": {},
     "output_type": "execute_result"
    }
   ],
   "source": [
    "import sys\n",
    "input = sys.stdin.readline\n",
    "suNo, quizNo = map(int, input().split())\n",
    "numbers = list(map(int, input().split()))\n",
    "prefix_sum = [0]\n",
    "temp = 0\n",
    "\n",
    "for i in numbers:#합 배열 만들기\n",
    "    temp = temp + i\n",
    "    prefix_sum.append(temp)\n",
    "\n",
    "for i in range(quizNo):#합 배열에서 구간 합 구하기\n",
    "    s,e = map(int, input().split())\n",
    "    print(prefix_sum[e] - prefix_sum[s-1])"
   ]
  },
  {
   "cell_type": "code",
   "execution_count": 8,
   "metadata": {},
   "outputs": [],
   "source": [
    "# 5 3\n",
    "# 5 3 3 2 1\n",
    "# 1 3\n",
    "# 2 4\n",
    "# 5 5\n",
    "\n"
   ]
  },
  {
   "cell_type": "code",
   "execution_count": 9,
   "metadata": {},
   "outputs": [
    {
     "name": "stdout",
     "output_type": "stream",
     "text": [
      "70\n"
     ]
    }
   ],
   "source": [
    "# 데이터의 개수 N과 전체 데이터 선언\n",
    "n = 5\n",
    "data = [10, 20, 30, 40, 50]\n",
    "\n",
    "# 접두사 합(Prefix Sum) 배열 계산\n",
    "sum_value = 0\n",
    "prefix_sum = [0]\n",
    "for i in data:\n",
    "    sum_value += i\n",
    "    prefix_sum.append(sum_value)\n",
    "\n",
    "# 구간 합 계산 (세 번째 수부터 네 번째 수까지)\n",
    "left = 3\n",
    "right = 4\n",
    "print(prefix_sum[right] - prefix_sum[left - 1])"
   ]
  },
  {
   "cell_type": "markdown",
   "metadata": {},
   "source": [
    "## 깊이 우선 탐색 dfs 134p\n",
    "# dfs bfs 차이  https://iancoding.tistory.com/329\n",
    "백준 좌표 : https://www.acmicpc.net/problem/11724\n",
    "연결 요소의 개수\n",
    "문제:방향 없는 그래프가 주어졌을 때, 연결 요소 (Connected Component)의 개수를 구하는 프로그램을 작성하시오.\n",
    "입력:첫째 줄에 정점의 개수 N과 간선의 개수 M이 주어진다. (1 ≤ N ≤ 1,000, 0 ≤ M ≤ N×(N-1)/2) 둘째 줄부터 M개의 줄에 간선의 양 끝점 u와 v가 주어진다. (1 ≤ u, v ≤ N, u ≠ v) 같은 간선은 한 번만 주어진다."
   ]
  },
  {
   "cell_type": "code",
   "execution_count": null,
   "metadata": {},
   "outputs": [],
   "source": [
    "# 노드의 최대 개수가 1000이므로 시간 복잡도 N^2이하의 알고리즘 모두 사용가능\n"
   ]
  },
  {
   "cell_type": "code",
   "execution_count": 1,
   "metadata": {
    "pycharm": {
     "is_executing": true
    }
   },
   "outputs": [
    {
     "ename": "ValueError",
     "evalue": "not enough values to unpack (expected 2, got 0)",
     "output_type": "error",
     "traceback": [
      "\u001b[1;31m---------------------------------------------------------------------------\u001b[0m",
      "\u001b[1;31mValueError\u001b[0m                                Traceback (most recent call last)",
      "Input \u001b[1;32mIn [1]\u001b[0m, in \u001b[0;36m<cell line: 4>\u001b[1;34m()\u001b[0m\n\u001b[0;32m      2\u001b[0m sys\u001b[38;5;241m.\u001b[39msetrecursionlimit(\u001b[38;5;241m10000\u001b[39m)\n\u001b[0;32m      3\u001b[0m \u001b[38;5;28minput\u001b[39m \u001b[38;5;241m=\u001b[39m sys\u001b[38;5;241m.\u001b[39mstdin\u001b[38;5;241m.\u001b[39mreadline\n\u001b[1;32m----> 4\u001b[0m n, m \u001b[38;5;241m=\u001b[39m \u001b[38;5;28mmap\u001b[39m(\u001b[38;5;28mint\u001b[39m, \u001b[38;5;28minput\u001b[39m()\u001b[38;5;241m.\u001b[39msplit())\n\u001b[0;32m      5\u001b[0m A \u001b[38;5;241m=\u001b[39m [[]\u001b[38;5;28;01mfor\u001b[39;00m _ \u001b[38;5;129;01min\u001b[39;00m \u001b[38;5;28mrange\u001b[39m(n\u001b[38;5;241m+\u001b[39m\u001b[38;5;241m1\u001b[39m)]\n\u001b[0;32m      6\u001b[0m visited \u001b[38;5;241m=\u001b[39m [\u001b[38;5;28;01mFalse\u001b[39;00m] \u001b[38;5;241m*\u001b[39m (n\u001b[38;5;241m+\u001b[39m\u001b[38;5;241m1\u001b[39m)\n",
      "\u001b[1;31mValueError\u001b[0m: not enough values to unpack (expected 2, got 0)"
     ]
    }
   ],
   "source": [
    "import sys\n",
    "sys.setrecursionlimit(10000)\n",
    "input = sys.stdin.readline\n",
    "n, m = map(int, input().split())\n",
    "A = [[]for _ in range(n+1)]\n",
    "visited = [False] * (n+1)\n",
    "def DFS(v):\n",
    "    visited[v] = True\n",
    "    for i in A[v]:\n",
    "        if not visited[i]:\n",
    "            DFS(i)\n",
    "\n",
    "for _ in range(m):\n",
    "    s, e= map(int,input().split())\n",
    "    A[s].appned(e)\n",
    "    A[s].appned(s)\n",
    "\n",
    "count = 0\n",
    "for i in range(1,n+1):\n",
    "    if not visited[i]:\n",
    "        count += 1\n",
    "        DFS(i)\n",
    "\n",
    "print(count)"
   ]
  },
  {
   "cell_type": "code",
   "execution_count": 7,
   "metadata": {
    "pycharm": {
     "is_executing": true
    }
   },
   "outputs": [
    {
     "ename": "ValueError",
     "evalue": "invalid literal for int() with base 10: ''",
     "output_type": "error",
     "traceback": [
      "\u001b[1;31m---------------------------------------------------------------------------\u001b[0m",
      "\u001b[1;31mValueError\u001b[0m                                Traceback (most recent call last)",
      "Input \u001b[1;32mIn [7]\u001b[0m, in \u001b[0;36m<cell line: 6>\u001b[1;34m()\u001b[0m\n\u001b[0;32m      4\u001b[0m n \u001b[38;5;241m=\u001b[39m \u001b[38;5;28minput\u001b[39m(\u001b[38;5;241m6\u001b[39m)\n\u001b[0;32m      5\u001b[0m m \u001b[38;5;241m=\u001b[39m \u001b[38;5;28minput\u001b[39m(\u001b[38;5;241m5\u001b[39m)\n\u001b[1;32m----> 6\u001b[0m A \u001b[38;5;241m=\u001b[39m [[]\u001b[38;5;28;01mfor\u001b[39;00m _ \u001b[38;5;129;01min\u001b[39;00m \u001b[38;5;28mrange\u001b[39m(\u001b[38;5;28;43mint\u001b[39;49m\u001b[43m(\u001b[49m\u001b[43mn\u001b[49m\u001b[43m)\u001b[49m\u001b[38;5;241m+\u001b[39m\u001b[38;5;241m1\u001b[39m)]\n\u001b[0;32m      7\u001b[0m visited \u001b[38;5;241m=\u001b[39m [\u001b[38;5;28;01mFalse\u001b[39;00m] \u001b[38;5;241m*\u001b[39m (n\u001b[38;5;241m+\u001b[39m\u001b[38;5;241m1\u001b[39m)\n\u001b[0;32m      8\u001b[0m \u001b[38;5;28;01mdef\u001b[39;00m \u001b[38;5;21mDFS\u001b[39m(v):\n",
      "\u001b[1;31mValueError\u001b[0m: invalid literal for int() with base 10: ''"
     ]
    }
   ],
   "source": [
    "import sys\n",
    "sys.setrecursionlimit(10000)\n",
    "input = sys.stdin.readline\n",
    "n = input(6)\n",
    "m = input(5)\n",
    "A = [[]for _ in range(int(n)+1)]\n",
    "visited = [False] * (n+1)\n",
    "def DFS(v):\n",
    "    visited[v] = True\n",
    "    for i in A[v]:\n",
    "        if not visited[i]:\n",
    "            DFS(i)\n",
    "\n",
    "for _ in range(m):\n",
    "    s, e= map(int,input().split())\n",
    "    A[s].appned(e)\n",
    "    A[s].appned(s)\n",
    "\n",
    "count = 0\n",
    "for i in range(1,n+1):\n",
    "    if not visited[i]:\n",
    "        count += 1\n",
    "        DFS(i)\n",
    "\n",
    "print(count)"
   ]
  },
  {
   "cell_type": "code",
   "execution_count": null,
   "metadata": {},
   "outputs": [],
   "source": []
  }
 ],
 "metadata": {
  "kernelspec": {
   "display_name": "Python 3 (ipykernel)",
   "language": "python",
   "name": "python3"
  },
  "language_info": {
   "codemirror_mode": {
    "name": "ipython",
    "version": 3
   },
   "file_extension": ".py",
   "mimetype": "text/x-python",
   "name": "python",
   "nbconvert_exporter": "python",
   "pygments_lexer": "ipython3",
   "version": "3.9.12"
  }
 },
 "nbformat": 4,
 "nbformat_minor": 1
}
