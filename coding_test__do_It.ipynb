{
 "cells": [
  {
   "cell_type": "markdown",
   "metadata": {},
   "source": [
    "셀 바깥 쪽 빈공간을 마우스로 클릭하거나 Ctrl + m 또는 Esc 키를 누르면 편집모드로 변경\n",
    "[입력모드 단축키]\n",
    "Ctrl + a -> 해당 셀 전체 선택\n",
    "Ctrl + c,v,x -> 셀 내용 복사, 붙여넣기,잘라내기\n",
    "Ctrl + z -> 해당 셀 실행 취소\n",
    "Ctrl + / -> 해당 셀 커서가 위치 된 곳 주석 처리, 주석처리 해제\n",
    "Ctrl + ] -> 커서위치한 곳에서 들여쓰기(Tab)\n",
    "Ctrl + enter -> 해당 셀 실행\n",
    "Ctrl + y -> 해당 셀 다시 실행(실행취소 반대)\n",
    "shift + enter -> 해당 셀 실행 후 셀 새로 추가 또는 아래 셀로 이동\n",
    "Ctrl + s -> 저장\\\n",
    "\n",
    "[편집모드 단축키]\n",
    "a - 셀 추가(위로 추가)\n",
    "b - 셀 추가(아래로 추가)\n",
    "c, v, x- 셀 복사, 붙여넣기, 잘라내기\n",
    "\n",
    "dd (d 두번) - 해당 셀 삭제\n",
    "m - 해당셀 Markdown으로 변경\n",
    "y - 해당셀 code로 변경\n",
    "h - 단축키 목록 펼쳐 보기\n",
    "Shift + m - 해당 셀 &  아래 셀 합치기\n",
    "s - 저장\n",
    "' -> 빠른 검색\n",
    "l -> 셀 내에 코드번호 추가"
   ]
  },
  {
   "cell_type": "markdown",
   "metadata": {},
   "source": [
    "#  구간 합 구하기\n",
    "### 수 n개가 주어졌을 떄 i~j까지의 수를 합하는 프로그램 작성"
   ]
  },
  {
   "cell_type": "code",
   "execution_count": 1,
   "metadata": {},
   "outputs": [
    {
     "ename": "ValueError",
     "evalue": "not enough values to unpack (expected 2, got 0)",
     "output_type": "error",
     "traceback": [
      "\u001B[1;31m---------------------------------------------------------------------------\u001B[0m",
      "\u001B[1;31mValueError\u001B[0m                                Traceback (most recent call last)",
      "Cell \u001B[1;32mIn[1], line 3\u001B[0m\n\u001B[0;32m      1\u001B[0m \u001B[38;5;28;01mimport\u001B[39;00m \u001B[38;5;21;01msys\u001B[39;00m\n\u001B[0;32m      2\u001B[0m \u001B[38;5;28minput\u001B[39m \u001B[38;5;241m=\u001B[39m sys\u001B[38;5;241m.\u001B[39mstdin\u001B[38;5;241m.\u001B[39mreadline \u001B[38;5;66;03m# 주피터 놋북에서는 readline 대신에 input()을 쓸것\u001B[39;00m\n\u001B[1;32m----> 3\u001B[0m suNo, quizNo \u001B[38;5;241m=\u001B[39m \u001B[38;5;28mmap\u001B[39m(\u001B[38;5;28mint\u001B[39m, \u001B[38;5;28minput\u001B[39m()\u001B[38;5;241m.\u001B[39msplit()) \u001B[38;5;66;03m# 주피터 놋북에서는 readline 대신에 input()을 쓸것\u001B[39;00m\n\u001B[0;32m      4\u001B[0m numbers \u001B[38;5;241m=\u001B[39m \u001B[38;5;28mlist\u001B[39m(\u001B[38;5;28mmap\u001B[39m(\u001B[38;5;28mint\u001B[39m, \u001B[38;5;28minput\u001B[39m()\u001B[38;5;241m.\u001B[39msplit()))\n\u001B[0;32m      5\u001B[0m prefix_sum \u001B[38;5;241m=\u001B[39m [\u001B[38;5;241m0\u001B[39m]\n",
      "\u001B[1;31mValueError\u001B[0m: not enough values to unpack (expected 2, got 0)"
     ]
    }
   ],
   "source": [
    "import sys\n",
    "input = sys.stdin.readline # 주피터 놋북에서는 readline 대신에 input()을 쓸것\n",
    "suNo, quizNo = map(int, input().split()) # 주피터 놋북에서는 readline 대신에 input()을 쓸것\n",
    "numbers = list(map(int, input().split()))\n",
    "prefix_sum = [0]\n",
    "temp = 0\n",
    "\n",
    "for i in numbers:#합 배열 만들기\n",
    "    temp = temp + i\n",
    "    prefix_sum.append(temp)\n",
    "\n",
    "for i in range(quizNo):#합 배열에서 구간 합 구하기\n",
    "    s,e = map(int, input().split())\n",
    "    print(prefix_sum[e] - prefix_sum[s-1])"
   ]
  },
  {
   "cell_type": "code",
   "execution_count": 8,
   "metadata": {},
   "outputs": [],
   "source": [
    "# 5 3\n",
    "# 5 3 3 2 1\n",
    "# 1 3\n",
    "# 2 4\n",
    "# 5 5\n",
    "\n"
   ]
  },
  {
   "cell_type": "code",
   "execution_count": 9,
   "metadata": {},
   "outputs": [
    {
     "name": "stdout",
     "output_type": "stream",
     "text": [
      "70\n"
     ]
    }
   ],
   "source": [
    "# 데이터의 개수 N과 전체 데이터 선언\n",
    "n = 5\n",
    "data = [10, 20, 30, 40, 50]\n",
    "\n",
    "# 접두사 합(Prefix Sum) 배열 계산\n",
    "sum_value = 0\n",
    "prefix_sum = [0]\n",
    "for i in data:\n",
    "    sum_value += i\n",
    "    prefix_sum.append(sum_value)\n",
    "\n",
    "# 구간 합 계산 (세 번째 수부터 네 번째 수까지)\n",
    "left = 3\n",
    "right = 4\n",
    "print(prefix_sum[right] - prefix_sum[left - 1])"
   ]
  },
  {
   "cell_type": "markdown",
   "metadata": {},
   "source": [
    "## 깊이 우선 탐색 dfs 134p\n",
    "# dfs bfs 차이  https://iancoding.tistory.com/329\n",
    "백준 좌표 : https://www.acmicpc.net/problem/11724\n",
    "연결 요소의 개수\n",
    "문제:방향 없는 그래프가 주어졌을 때, 연결 요소 (Connected Component)의 개수를 구하는 프로그램을 작성하시오.\n",
    "입력:첫째 줄에 정점의 개수 N과 간선의 개수 M이 주어진다. (1 ≤ N ≤ 1,000, 0 ≤ M ≤ N×(N-1)/2) 둘째 줄부터 M개의 줄에 간선의 양 끝점 u와 v가 주어진다. (1 ≤ u, v ≤ N, u ≠ v) 같은 간선은 한 번만 주어진다."
   ]
  },
  {
   "cell_type": "code",
   "execution_count": null,
   "metadata": {},
   "outputs": [],
   "source": [
    "# 노드의 최대 개수가 1000이므로 시간 복잡도 N^2이하의 알고리즘 모두 사용가능\n"
   ]
  },
  {
   "cell_type": "code",
   "execution_count": 6,
   "metadata": {},
   "outputs": [
    {
     "ename": "ValueError",
     "evalue": "not enough values to unpack (expected 2, got 0)",
     "output_type": "error",
     "traceback": [
      "\u001B[1;31m---------------------------------------------------------------------------\u001B[0m",
      "\u001B[1;31mValueError\u001B[0m                                Traceback (most recent call last)",
      "\u001B[1;32m~\\AppData\\Local\\Temp\\ipykernel_1300\\686719553.py\u001B[0m in \u001B[0;36m<module>\u001B[1;34m\u001B[0m\n\u001B[0;32m      2\u001B[0m \u001B[0msys\u001B[0m\u001B[1;33m.\u001B[0m\u001B[0msetrecursionlimit\u001B[0m\u001B[1;33m(\u001B[0m\u001B[1;36m10000\u001B[0m\u001B[1;33m)\u001B[0m\u001B[1;33m\u001B[0m\u001B[1;33m\u001B[0m\u001B[0m\n\u001B[0;32m      3\u001B[0m \u001B[0minput\u001B[0m \u001B[1;33m=\u001B[0m \u001B[0msys\u001B[0m\u001B[1;33m.\u001B[0m\u001B[0mstdin\u001B[0m\u001B[1;33m.\u001B[0m\u001B[0mreadline\u001B[0m\u001B[1;33m\u001B[0m\u001B[1;33m\u001B[0m\u001B[0m\n\u001B[1;32m----> 4\u001B[1;33m \u001B[0mn\u001B[0m\u001B[1;33m,\u001B[0m \u001B[0mm\u001B[0m \u001B[1;33m=\u001B[0m \u001B[0mmap\u001B[0m\u001B[1;33m(\u001B[0m\u001B[0mint\u001B[0m\u001B[1;33m,\u001B[0m \u001B[0minput\u001B[0m\u001B[1;33m(\u001B[0m\u001B[1;33m)\u001B[0m\u001B[1;33m.\u001B[0m\u001B[0msplit\u001B[0m\u001B[1;33m(\u001B[0m\u001B[1;33m)\u001B[0m\u001B[1;33m)\u001B[0m\u001B[1;33m\u001B[0m\u001B[1;33m\u001B[0m\u001B[0m\n\u001B[0m\u001B[0;32m      5\u001B[0m \u001B[0mA\u001B[0m \u001B[1;33m=\u001B[0m \u001B[1;33m[\u001B[0m\u001B[1;33m[\u001B[0m\u001B[1;33m]\u001B[0m\u001B[1;32mfor\u001B[0m \u001B[0m_\u001B[0m \u001B[1;32min\u001B[0m \u001B[0mrange\u001B[0m\u001B[1;33m(\u001B[0m\u001B[0mn\u001B[0m\u001B[1;33m+\u001B[0m\u001B[1;36m1\u001B[0m\u001B[1;33m)\u001B[0m\u001B[1;33m]\u001B[0m\u001B[1;33m\u001B[0m\u001B[1;33m\u001B[0m\u001B[0m\n\u001B[0;32m      6\u001B[0m \u001B[0mvisited\u001B[0m \u001B[1;33m=\u001B[0m \u001B[1;33m[\u001B[0m\u001B[1;32mFalse\u001B[0m\u001B[1;33m]\u001B[0m \u001B[1;33m*\u001B[0m \u001B[1;33m(\u001B[0m\u001B[0mn\u001B[0m\u001B[1;33m+\u001B[0m\u001B[1;36m1\u001B[0m\u001B[1;33m)\u001B[0m\u001B[1;33m\u001B[0m\u001B[1;33m\u001B[0m\u001B[0m\n",
      "\u001B[1;31mValueError\u001B[0m: not enough values to unpack (expected 2, got 0)"
     ]
    }
   ],
   "source": [
    "import sys\n",
    "sys.setrecursionlimit(10000)\n",
    "input = sys.stdin.readline # 노트북에서는 해당 셀 지우기()readline안먹힘\n",
    "n, m = map(int, input().split())\n",
    "A = [[]for _ in range(n+1)]\n",
    "visited = [False] * (n+1)\n",
    "def DFS(v):\n",
    "    visited[v] = True\n",
    "    for i in A[v]:\n",
    "        if not visited[i]:\n",
    "            DFS(i)\n",
    "\n",
    "for _ in range(m):\n",
    "    s, e= map(int,input().split())\n",
    "    A[s].append(e)\n",
    "    A[e].append(s)\n",
    "\n",
    "count = 0\n",
    "for i in range(1,n+1):\n",
    "    if not visited[i]:\n",
    "        count += 1\n",
    "        DFS(i)\n",
    "\n",
    "print(count)"
   ]
  },
  {
   "cell_type": "code",
   "execution_count": 4,
   "metadata": {},
   "outputs": [
    {
     "ename": "ValueError",
     "evalue": "not enough values to unpack (expected 2, got 0)",
     "output_type": "error",
     "traceback": [
      "\u001B[1;31m---------------------------------------------------------------------------\u001B[0m",
      "\u001B[1;31mValueError\u001B[0m                                Traceback (most recent call last)",
      "Cell \u001B[1;32mIn[4], line 1\u001B[0m\n\u001B[1;32m----> 1\u001B[0m n, m \u001B[38;5;241m=\u001B[39m \u001B[38;5;28mmap\u001B[39m(\u001B[38;5;28mint\u001B[39m, \u001B[38;5;28minput\u001B[39m()\u001B[38;5;241m.\u001B[39msplit())\n\u001B[0;32m      2\u001B[0m A \u001B[38;5;241m=\u001B[39m [[]\u001B[38;5;28;01mfor\u001B[39;00m _ \u001B[38;5;129;01min\u001B[39;00m \u001B[38;5;28mrange\u001B[39m(n\u001B[38;5;241m+\u001B[39m\u001B[38;5;241m1\u001B[39m)]\n\u001B[0;32m      3\u001B[0m visited \u001B[38;5;241m=\u001B[39m [\u001B[38;5;28;01mFalse\u001B[39;00m] \u001B[38;5;241m*\u001B[39m (n\u001B[38;5;241m+\u001B[39m\u001B[38;5;241m1\u001B[39m)\n",
      "\u001B[1;31mValueError\u001B[0m: not enough values to unpack (expected 2, got 0)"
     ]
    }
   ],
   "source": [
    "n, m = map(int, input().split())\n",
    "A = [[]for _ in range(n+1)]\n",
    "visited = [False] * (n+1)\n",
    "def DFS(v):\n",
    "    visited[v] = True\n",
    "    for i in A[v]:\n",
    "        if not visited[i]:\n",
    "            DFS(i)\n",
    "\n",
    "for _ in range(m):\n",
    "    s, e= map(int,input().split())\n",
    "    A[s].append(e)\n",
    "    A[e].append(s)\n",
    "\n",
    "count = 0\n",
    "for i in range(1,n+1):\n",
    "    if not visited[i]:\n",
    "        count += 1\n",
    "        DFS(i)\n",
    "\n",
    "print(count)"
   ]
  },
  {
   "cell_type": "code",
   "execution_count": 73,
   "metadata": {},
   "outputs": [
    {
     "data": {
      "text/plain": [
       "2"
      ]
     },
     "execution_count": 73,
     "metadata": {},
     "output_type": "execute_result"
    }
   ],
   "source": [
    "s\n"
   ]
  },
  {
   "cell_type": "code",
   "execution_count": 74,
   "metadata": {},
   "outputs": [
    {
     "data": {
      "text/plain": [
       "3"
      ]
     },
     "execution_count": 74,
     "metadata": {},
     "output_type": "execute_result"
    }
   ],
   "source": [
    "e"
   ]
  },
  {
   "cell_type": "code",
   "execution_count": 72,
   "metadata": {},
   "outputs": [
    {
     "data": {
      "text/plain": [
       "[[], [2, 5], [1, 5, 4, 3], [4, 2], [3, 6, 5, 2], [2, 1, 4], [4]]"
      ]
     },
     "execution_count": 72,
     "metadata": {},
     "output_type": "execute_result"
    }
   ],
   "source": [
    "A"
   ]
  },
  {
   "cell_type": "markdown",
   "metadata": {},
   "source": [
    "## 백준 2116번\n",
    "#주사위 쌓기\n",
    "https://www.acmicpc.net/problem/2116"
   ]
  },
  {
   "cell_type": "code",
   "execution_count": null,
   "metadata": {},
   "outputs": [],
   "source": [
    "N = int(input())\n",
    "dice = []\n",
    "for _ in range(N):\n",
    "    dice.append(list(map(int, input().split())))\n"
   ]
  },
  {
   "cell_type": "code",
   "execution_count": null,
   "metadata": {},
   "outputs": [],
   "source": [
    "N = 5"
   ]
  },
  {
   "cell_type": "code",
   "execution_count": null,
   "metadata": {},
   "outputs": [],
   "source": [
    "모든 주사위 서칭해서 가장 작은 값끼리 연결 해야함.\n",
    "옆면의 합이 max가 되어야 함.\n",
    "a0-f5, c2-e4, b1-d3가 서로 쌍으로 됨.(위, 아래)\n",
    "a0 b1 c2 d3 e4 f5"
   ]
  },
  {
   "cell_type": "code",
   "execution_count": null,
   "metadata": {},
   "outputs": [],
   "source": []
  },
  {
   "cell_type": "code",
   "execution_count": 78,
   "metadata": {},
   "outputs": [
    {
     "data": {
      "text/plain": [
       "[[2, 3, 1, 6, 5, 4],\n",
       " [3, 1, 2, 4, 6, 5],\n",
       " [5, 6, 4, 1, 3, 2],\n",
       " [1, 3, 6, 2, 4, 5],\n",
       " [4, 1, 6, 5, 2, 3]]"
      ]
     },
     "execution_count": 78,
     "metadata": {},
     "output_type": "execute_result"
    }
   ],
   "source": [
    "dice = \n",
    "[[2, 3, 1, 6, 5, 4],\n",
    " [3, 1, 2, 4, 6, 5],\n",
    " [5, 6, 4, 1, 3, 2],\n",
    " [1, 3, 6, 2, 4, 5],\n",
    " [4, 1, 6, 5, 2, 3]]"
   ]
  },
  {
   "cell_type": "code",
   "execution_count": null,
   "metadata": {},
   "outputs": [],
   "source": [
    "find_max_val = [] # max 값 찾기 위해 저장"
   ]
  },
  {
   "cell_type": "code",
   "execution_count": null,
   "metadata": {},
   "outputs": [],
   "source": []
  },
  {
   "cell_type": "code",
   "execution_count": null,
   "metadata": {},
   "outputs": [],
   "source": []
  },
  {
   "cell_type": "code",
   "execution_count": null,
   "metadata": {},
   "outputs": [],
   "source": [
    "for i in range(6)\n",
    "    "
   ]
  },
  {
   "cell_type": "code",
   "execution_count": null,
   "metadata": {},
   "outputs": [],
   "source": []
  },
  {
   "cell_type": "code",
   "execution_count": null,
   "metadata": {},
   "outputs": [],
   "source": [
    "N = 5\n",
    "dice = [[2, 3, 1, 6, 5, 4],\n",
    " [3, 1, 2, 4, 6, 5],\n",
    " [5, 6, 4, 1, 3, 2],\n",
    " [1, 3, 6, 2, 4, 5],\n",
    " [4, 1, 6, 5, 2, 3]]\n",
    "rotate = {0 : 5, 1 : 3, 2 : 4, 3 : 1, 4 : 2, 5 : 0} # 주사위의 아랫면에 따른 윗면 로테이션 등록(리스트 인덱스 기준)\n",
    "maxnum = 0 # 최대값을 저장해둘 상수 선언"
   ]
  },
  {
   "cell_type": "code",
   "execution_count": null,
   "metadata": {},
   "outputs": [],
   "source": [
    "i= 0\n",
    "result = [] #각 주사위마다 옆면의 최대값 1개를 저장해둘 리스트 선언\n",
    "temp = [1, 2, 3, 4, 5, 6] # 주사위 각 면에 써져있는 1~6\n",
    "temp.remove(dice[0][i]) # 주사위 아랫면의 숫자 제거\n",
    "next = dice[0][rotate[i]] # 첫 번째 주사위의 윗면 값 계산\n",
    "temp.remove(next) # 첫 번째 주사위의 윗면 값 삭제\n",
    "result.append(max(temp)) # 첫 번째 주사위의 옆면들 중 가장 큰 값 삽입\n",
    "\n",
    "\n",
    "\n"
   ]
  },
  {
   "cell_type": "code",
   "execution_count": null,
   "metadata": {},
   "outputs": [],
   "source": [
    "    for j in range(1, N): # 두 번째 주사위부터 마지막 주사위까지 반복\n",
    "        temp = [1, 2, 3, 4, 5, 6]\n",
    "        temp.remove(next) # 현재 주사위의 아랫면 숫자 제거\n",
    "        next = dice[j][rotate[dice[j].index(next)]] # 현재 주사위의 윗면 계산\n",
    "        temp.remove(next) # 현재 주사위의 윗면 삭제\n",
    "        result.append(max(temp)) # 현재 주사위의 옆면들 중 가장 큰 값 삽입\n",
    "    result = sum(result) # 각 주사위마다의 최대값을 모두 더한다.\n",
    "    if maxnum < result: # 이전의 최대값과 현재의 최대값을 비교하여 더 큰 값을 저장한다.\n",
    "        maxnum = result\n",
    "\n",
    "print(maxnum)"
   ]
  },
  {
   "cell_type": "code",
   "execution_count": null,
   "metadata": {},
   "outputs": [],
   "source": []
  },
  {
   "cell_type": "code",
   "execution_count": null,
   "metadata": {},
   "outputs": [],
   "source": []
  },
  {
   "cell_type": "code",
   "execution_count": 128,
   "metadata": {},
   "outputs": [
    {
     "ename": "KeyboardInterrupt",
     "evalue": "Interrupted by user",
     "output_type": "error",
     "traceback": [
      "\u001B[1;31m---------------------------------------------------------------------------\u001B[0m",
      "\u001B[1;31mKeyboardInterrupt\u001B[0m                         Traceback (most recent call last)",
      "Input \u001B[1;32mIn [128]\u001B[0m, in \u001B[0;36m<cell line: 7>\u001B[1;34m()\u001B[0m\n\u001B[0;32m      2\u001B[0m dice \u001B[38;5;241m=\u001B[39m [[\u001B[38;5;241m2\u001B[39m, \u001B[38;5;241m3\u001B[39m, \u001B[38;5;241m1\u001B[39m, \u001B[38;5;241m6\u001B[39m, \u001B[38;5;241m5\u001B[39m, \u001B[38;5;241m4\u001B[39m],\n\u001B[0;32m      3\u001B[0m  [\u001B[38;5;241m3\u001B[39m, \u001B[38;5;241m1\u001B[39m, \u001B[38;5;241m2\u001B[39m, \u001B[38;5;241m4\u001B[39m, \u001B[38;5;241m6\u001B[39m, \u001B[38;5;241m5\u001B[39m],\n\u001B[0;32m      4\u001B[0m  [\u001B[38;5;241m5\u001B[39m, \u001B[38;5;241m6\u001B[39m, \u001B[38;5;241m4\u001B[39m, \u001B[38;5;241m1\u001B[39m, \u001B[38;5;241m3\u001B[39m, \u001B[38;5;241m2\u001B[39m],\n\u001B[0;32m      5\u001B[0m  [\u001B[38;5;241m1\u001B[39m, \u001B[38;5;241m3\u001B[39m, \u001B[38;5;241m6\u001B[39m, \u001B[38;5;241m2\u001B[39m, \u001B[38;5;241m4\u001B[39m, \u001B[38;5;241m5\u001B[39m],\n\u001B[0;32m      6\u001B[0m  [\u001B[38;5;241m4\u001B[39m, \u001B[38;5;241m1\u001B[39m, \u001B[38;5;241m6\u001B[39m, \u001B[38;5;241m5\u001B[39m, \u001B[38;5;241m2\u001B[39m, \u001B[38;5;241m3\u001B[39m]]\n\u001B[0;32m      7\u001B[0m \u001B[38;5;28;01mfor\u001B[39;00m _ \u001B[38;5;129;01min\u001B[39;00m \u001B[38;5;28mrange\u001B[39m(N):\n\u001B[1;32m----> 8\u001B[0m     dice\u001B[38;5;241m.\u001B[39mappend(\u001B[38;5;28mlist\u001B[39m(\u001B[38;5;28mmap\u001B[39m(\u001B[38;5;28mint\u001B[39m, \u001B[38;5;28;43minput\u001B[39;49m\u001B[43m(\u001B[49m\u001B[43m)\u001B[49m\u001B[38;5;241m.\u001B[39msplit())))\n\u001B[0;32m      9\u001B[0m rotate \u001B[38;5;241m=\u001B[39m {\u001B[38;5;241m0\u001B[39m : \u001B[38;5;241m5\u001B[39m, \u001B[38;5;241m1\u001B[39m : \u001B[38;5;241m3\u001B[39m, \u001B[38;5;241m2\u001B[39m : \u001B[38;5;241m4\u001B[39m, \u001B[38;5;241m3\u001B[39m : \u001B[38;5;241m1\u001B[39m, \u001B[38;5;241m4\u001B[39m : \u001B[38;5;241m2\u001B[39m, \u001B[38;5;241m5\u001B[39m : \u001B[38;5;241m0\u001B[39m} \u001B[38;5;66;03m# 주사위의 아랫면에 따른 윗면 로테이션 등록(리스트 인덱스 기준)\u001B[39;00m\n\u001B[0;32m     11\u001B[0m maxnum \u001B[38;5;241m=\u001B[39m \u001B[38;5;241m0\u001B[39m \u001B[38;5;66;03m# 최대값을 저장해둘 상수 선언\u001B[39;00m\n",
      "File \u001B[1;32m~\\anaconda3\\lib\\site-packages\\ipykernel\\kernelbase.py:1075\u001B[0m, in \u001B[0;36mKernel.raw_input\u001B[1;34m(self, prompt)\u001B[0m\n\u001B[0;32m   1071\u001B[0m \u001B[38;5;28;01mif\u001B[39;00m \u001B[38;5;129;01mnot\u001B[39;00m \u001B[38;5;28mself\u001B[39m\u001B[38;5;241m.\u001B[39m_allow_stdin:\n\u001B[0;32m   1072\u001B[0m     \u001B[38;5;28;01mraise\u001B[39;00m StdinNotImplementedError(\n\u001B[0;32m   1073\u001B[0m         \u001B[38;5;124m\"\u001B[39m\u001B[38;5;124mraw_input was called, but this frontend does not support input requests.\u001B[39m\u001B[38;5;124m\"\u001B[39m\n\u001B[0;32m   1074\u001B[0m     )\n\u001B[1;32m-> 1075\u001B[0m \u001B[38;5;28;01mreturn\u001B[39;00m \u001B[38;5;28;43mself\u001B[39;49m\u001B[38;5;241;43m.\u001B[39;49m\u001B[43m_input_request\u001B[49m\u001B[43m(\u001B[49m\n\u001B[0;32m   1076\u001B[0m \u001B[43m    \u001B[49m\u001B[38;5;28;43mstr\u001B[39;49m\u001B[43m(\u001B[49m\u001B[43mprompt\u001B[49m\u001B[43m)\u001B[49m\u001B[43m,\u001B[49m\n\u001B[0;32m   1077\u001B[0m \u001B[43m    \u001B[49m\u001B[38;5;28;43mself\u001B[39;49m\u001B[38;5;241;43m.\u001B[39;49m\u001B[43m_parent_ident\u001B[49m\u001B[43m[\u001B[49m\u001B[38;5;124;43m\"\u001B[39;49m\u001B[38;5;124;43mshell\u001B[39;49m\u001B[38;5;124;43m\"\u001B[39;49m\u001B[43m]\u001B[49m\u001B[43m,\u001B[49m\n\u001B[0;32m   1078\u001B[0m \u001B[43m    \u001B[49m\u001B[38;5;28;43mself\u001B[39;49m\u001B[38;5;241;43m.\u001B[39;49m\u001B[43mget_parent\u001B[49m\u001B[43m(\u001B[49m\u001B[38;5;124;43m\"\u001B[39;49m\u001B[38;5;124;43mshell\u001B[39;49m\u001B[38;5;124;43m\"\u001B[39;49m\u001B[43m)\u001B[49m\u001B[43m,\u001B[49m\n\u001B[0;32m   1079\u001B[0m \u001B[43m    \u001B[49m\u001B[43mpassword\u001B[49m\u001B[38;5;241;43m=\u001B[39;49m\u001B[38;5;28;43;01mFalse\u001B[39;49;00m\u001B[43m,\u001B[49m\n\u001B[0;32m   1080\u001B[0m \u001B[43m\u001B[49m\u001B[43m)\u001B[49m\n",
      "File \u001B[1;32m~\\anaconda3\\lib\\site-packages\\ipykernel\\kernelbase.py:1120\u001B[0m, in \u001B[0;36mKernel._input_request\u001B[1;34m(self, prompt, ident, parent, password)\u001B[0m\n\u001B[0;32m   1117\u001B[0m             \u001B[38;5;28;01mbreak\u001B[39;00m\n\u001B[0;32m   1118\u001B[0m \u001B[38;5;28;01mexcept\u001B[39;00m \u001B[38;5;167;01mKeyboardInterrupt\u001B[39;00m:\n\u001B[0;32m   1119\u001B[0m     \u001B[38;5;66;03m# re-raise KeyboardInterrupt, to truncate traceback\u001B[39;00m\n\u001B[1;32m-> 1120\u001B[0m     \u001B[38;5;28;01mraise\u001B[39;00m \u001B[38;5;167;01mKeyboardInterrupt\u001B[39;00m(\u001B[38;5;124m\"\u001B[39m\u001B[38;5;124mInterrupted by user\u001B[39m\u001B[38;5;124m\"\u001B[39m) \u001B[38;5;28;01mfrom\u001B[39;00m \u001B[38;5;28mNone\u001B[39m\n\u001B[0;32m   1121\u001B[0m \u001B[38;5;28;01mexcept\u001B[39;00m \u001B[38;5;167;01mException\u001B[39;00m:\n\u001B[0;32m   1122\u001B[0m     \u001B[38;5;28mself\u001B[39m\u001B[38;5;241m.\u001B[39mlog\u001B[38;5;241m.\u001B[39mwarning(\u001B[38;5;124m\"\u001B[39m\u001B[38;5;124mInvalid Message:\u001B[39m\u001B[38;5;124m\"\u001B[39m, exc_info\u001B[38;5;241m=\u001B[39m\u001B[38;5;28;01mTrue\u001B[39;00m)\n",
      "\u001B[1;31mKeyboardInterrupt\u001B[0m: Interrupted by user"
     ]
    }
   ],
   "source": [
    "for i in range(6): # 첫 번째 주사위를 기준으로 1~6까지 모두 순회\n",
    "    result = [] #각 주사위마다 옆면의 최대값 1개를 저장해둘 리스트 선언\n",
    "    temp = [1, 2, 3, 4, 5, 6] # 주사위 각 면에 써져있는 1~6\n",
    "    temp.remove(dice[0][i]) # 주사위 아랫면의 숫자 제거\n",
    "    next = dice[0][rotate[i]] # 첫 번째 주사위의 윗면 값 계산\n",
    "    temp.remove(next) # 첫 번째 주사위의 윗면 값 삭제\n",
    "    result.append(max(temp)) # 첫 번째 주사위의 옆면들 중 가장 큰 값 삽입\n",
    "    for j in range(1, N): # 두 번째 주사위부터 마지막 주사위까지 반복\n",
    "        temp = [1, 2, 3, 4, 5, 6]\n",
    "        temp.remove(next) # 현재 주사위의 아랫면 숫자 제거\n",
    "        next = dice[j][rotate[dice[j].index(next)]] # 현재 주사위의 윗면 계산\n",
    "        temp.remove(next) # 현재 주사위의 윗면 삭제\n",
    "        result.append(max(temp)) # 현재 주사위의 옆면들 중 가장 큰 값 삽입\n",
    "    result = sum(result) # 각 주사위마다의 최대값을 모두 더한다.\n",
    "    if maxnum < result: # 이전의 최대값과 현재의 최대값을 비교하여 더 큰 값을 저장한다.\n",
    "        maxnum = result\n",
    "\n",
    "print(maxnum)"
   ]
  },
  {
   "cell_type": "code",
   "execution_count": null,
   "metadata": {},
   "outputs": [],
   "source": []
  },
  {
   "cell_type": "code",
   "execution_count": null,
   "metadata": {},
   "outputs": [],
   "source": []
  },
  {
   "cell_type": "code",
   "execution_count": null,
   "metadata": {},
   "outputs": [],
   "source": []
  },
  {
   "cell_type": "code",
   "execution_count": null,
   "metadata": {},
   "outputs": [],
   "source": []
  },
  {
   "cell_type": "code",
   "execution_count": null,
   "metadata": {},
   "outputs": [],
   "source": []
  },
  {
   "cell_type": "code",
   "execution_count": null,
   "metadata": {},
   "outputs": [],
   "source": []
  },
  {
   "cell_type": "code",
   "execution_count": null,
   "metadata": {},
   "outputs": [],
   "source": []
  },
  {
   "cell_type": "code",
   "execution_count": null,
   "metadata": {},
   "outputs": [],
   "source": []
  },
  {
   "cell_type": "code",
   "execution_count": 76,
   "metadata": {},
   "outputs": [
    {
     "name": "stdout",
     "output_type": "stream",
     "text": [
      "5\n",
      "2 3 1 6 5 4\n",
      "3 1 2 4 6 5\n",
      "5 6 4 1 3 2\n",
      "1 3 6 2 4 5\n",
      "4 1 6 5 2 3\n",
      "29\n"
     ]
    }
   ],
   "source": [
    "N = int(input())\n",
    "dice = []\n",
    "for _ in range(N):\n",
    "    dice.append(list(map(int, input().split())))\n",
    "rotate = {0 : 5, 1 : 3, 2 : 4, 3 : 1, 4 : 2, 5 : 0} # 주사위의 아랫면에 따른 윗면 로테이션 등록(리스트 인덱스 기준)\n",
    "\n",
    "maxnum = 0 # 최대값을 저장해둘 상수 선언\n",
    "for i in range(6): # 첫 번째 주사위를 기준으로 1~6까지 모두 순회\n",
    "    result = [] #각 주사위마다 옆면의 최대값 1개를 저장해둘 리스트 선언\n",
    "    temp = [1, 2, 3, 4, 5, 6] # 주사위 각 면에 써져있는 1~6\n",
    "    temp.remove(dice[0][i]) # 주사위 아랫면의 숫자 제거\n",
    "    next = dice[0][rotate[i]] # 첫 번째 주사위의 윗면 값 계산\n",
    "    temp.remove(next) # 첫 번째 주사위의 윗면 값 삭제\n",
    "    result.append(max(temp)) # 첫 번째 주사위의 옆면들 중 가장 큰 값 삽입\n",
    "    for j in range(1, N): # 두 번째 주사위부터 마지막 주사위까지 반복\n",
    "        temp = [1, 2, 3, 4, 5, 6]\n",
    "        temp.remove(next) # 현재 주사위의 아랫면 숫자 제거\n",
    "        next = dice[j][rotate[dice[j].index(next)]] # 현재 주사위의 윗면 계산\n",
    "        temp.remove(next) # 현재 주사위의 윗면 삭제\n",
    "        result.append(max(temp)) # 현재 주사위의 옆면들 중 가장 큰 값 삽입\n",
    "    result = sum(result) # 각 주사위마다의 최대값을 모두 더한다.\n",
    "    if maxnum < result: # 이전의 최대값과 현재의 최대값을 비교하여 더 큰 값을 저장한다.\n",
    "        maxnum = result\n",
    "\n",
    "print(maxnum)"
   ]
  },
  {
   "cell_type": "code",
   "execution_count": 77,
   "metadata": {},
   "outputs": [
    {
     "data": {
      "text/plain": [
       "[[2, 3, 1, 6, 5, 4],\n",
       " [3, 1, 2, 4, 6, 5],\n",
       " [5, 6, 4, 1, 3, 2],\n",
       " [1, 3, 6, 2, 4, 5],\n",
       " [4, 1, 6, 5, 2, 3]]"
      ]
     },
     "execution_count": 77,
     "metadata": {},
     "output_type": "execute_result"
    }
   ],
   "source": [
    "dice"
   ]
  },
  {
   "cell_type": "markdown",
   "metadata": {},
   "source": [
    "## 백준 2563 색종이 https://www.acmicpc.net/problem/2563\n"
   ]
  },
  {
   "cell_type": "code",
   "execution_count": null,
   "outputs": [],
   "source": [
    "N = int(input())\n",
    "paper = [ list(map(int,input().split())) for i in range(N)]\n",
    "white = [[0]*100 for i in range(100)] # 100 행 100 열\n",
    "for i in range(len(paper)):\n",
    "    # print(i)\n",
    "    x_start = paper[i][0]\n",
    "    x_end = paper[i][0]+10\n",
    "    y_start = paper[i][1]\n",
    "    y_end = paper[i][1]+10\n",
    "\n",
    "    for x in range(x_start-1,x_end-1):\n",
    "        for y in range(y_start-1,y_end-1):\n",
    "\n",
    "            white[x][y] = 1\n",
    "\n",
    "result = 0\n",
    "for x in range(0,100):\n",
    "    for y in range(0,100):\n",
    "        result += white[x-1][y-1]\n",
    "\n",
    "print(result)"
   ],
   "metadata": {
    "collapsed": false
   }
  },
  {
   "cell_type": "code",
   "execution_count": 75,
   "metadata": {},
   "outputs": [
    {
     "name": "stdout",
     "output_type": "stream",
     "text": [
      "3\n"
     ]
    }
   ],
   "source": [
    "import sys\n",
    "sys.setrecursionlimit(10000)\n",
    "input = sys.stdin.readline # 노트북에서는 해당 셀 지우기()readline안먹힘"
   ]
  },
  {
   "cell_type": "code",
   "execution_count": 111,
   "metadata": {},
   "outputs": [],
   "source": [
    "n = int(input())\n",
    "paper = []\n",
    "for i in range(n):\n",
    "    paper.append(list(map(int, input().split())))\n",
    "#     paper.append(list(map(int,input().split())))"
   ]
  },
  {
   "cell_type": "code",
   "execution_count": 118,
   "outputs": [
    {
     "data": {
      "text/plain": "(2, 5)"
     },
     "execution_count": 118,
     "metadata": {},
     "output_type": "execute_result"
    }
   ],
   "source": [
    "tuple(map(int, input().split()))"
   ],
   "metadata": {
    "collapsed": false
   }
  },
  {
   "cell_type": "code",
   "execution_count": 112,
   "outputs": [],
   "source": [
    "####\n",
    "\n",
    "A = [[] for i in range(n)] # 빈 리스트 생성\n",
    "\n",
    "for k in range(n):\n",
    "    A[k] = (paper[k][0], paper[k][1]) # 입력받은 값 ..\n",
    "\n",
    "A = list(set(A))\n",
    "\n",
    "####\n",
    "\n",
    "##\n",
    "before_result = sum([10 * 10 for i in range(len(A))]) # 색종이 수 - 곂치는 넓이.\n",
    "##"
   ],
   "metadata": {
    "collapsed": false
   }
  },
  {
   "cell_type": "code",
   "execution_count": 114,
   "outputs": [],
   "source": [
    "###\n",
    "def comb(arr, n): # 재귀함수를 통한 조합\n",
    "    result = []\n",
    "    if n > len(arr):\n",
    "        return result\n",
    "\n",
    "    if n == 1:\n",
    "        for i in arr:\n",
    "            result.append([i])\n",
    "\n",
    "    elif n > 1:\n",
    "        for i in range(len(arr) - n + 1):\n",
    "            for j in comb(arr[i + 1:], n - 1):\n",
    "                result.append([arr[i]] + j)\n",
    "\n",
    "    return result\n",
    "\n",
    "\n",
    "###\n",
    "\n",
    "\n",
    "A = (comb(A, 2))  # [[1, 2], [1, 3], [2, 3]]"
   ],
   "metadata": {
    "collapsed": false
   }
  },
  {
   "cell_type": "code",
   "execution_count": 116,
   "outputs": [
    {
     "name": "stdout",
     "output_type": "stream",
     "text": [
      "74\n"
     ]
    }
   ],
   "source": [
    "\n",
    "\n",
    "\n",
    "for k in range(len(A)): # 곂치는 애들끼리 뺌\n",
    "    i,j = A[k]\n",
    "    aa = abs(i[0] - j[0])\n",
    "    bb = abs(j[1] - i[1])\n",
    "\n",
    "    if aa<10 and bb<10:\n",
    "        print(A[k])\n",
    "        \n",
    "        before_result = before_result - (10 - aa) * (10 - bb)\n",
    "        print(aa,bb,before_result)\n",
    "    elif aa == bb:\n",
    "        before_result = before_result - 100\n",
    "print(before_result)\n",
    "\n",
    "## 문제점 같은 경우에 큰일 남. ㅋㅋ;"
   ],
   "metadata": {
    "collapsed": false
   }
  },
  {
   "cell_type": "code",
   "execution_count": 100,
   "outputs": [],
   "source": [
    "A = (comb(A, 2))  # [[1, 2], [1, 3], [2, 3]]"
   ],
   "metadata": {
    "collapsed": false
   }
  },
  {
   "cell_type": "code",
   "execution_count": 102,
   "outputs": [
    {
     "name": "stdout",
     "output_type": "stream",
     "text": [
      "[(5, 8), (2, 5)]\n",
      "3 3 551\n",
      "[(5, 8), (4, 7)]\n",
      "1 1 470\n",
      "[(5, 8), (3, 6)]\n",
      "2 2 406\n",
      "[(2, 5), (4, 7)]\n",
      "2 2 342\n",
      "[(2, 5), (3, 6)]\n",
      "1 1 261\n",
      "[(4, 7), (3, 6)]\n",
      "1 1 180\n",
      "180\n"
     ]
    }
   ],
   "source": [
    "for k in range(len(A)): # 곂치는 애들끼리 뺌\n",
    "    i,j = A[k]\n",
    "    aa = abs(i[0] - j[0])\n",
    "    bb = abs(j[1] - i[1])\n",
    "\n",
    "    if aa<10 and bb<10:\n",
    "        print(A[k])\n",
    "\n",
    "        before_result = before_result - (10 - aa) * (10 - bb)\n",
    "        print(aa,bb,before_result)\n",
    "    elif aa == bb:\n",
    "        before_result = before_result - 100\n",
    "print(before_result)"
   ],
   "metadata": {
    "collapsed": false
   }
  },
  {
   "cell_type": "code",
   "execution_count": null,
   "outputs": [],
   "source": [
    "for k in range(len(A)): # 곂치는 애들끼리 뺌\n",
    "    i,j = A[k]"
   ],
   "metadata": {
    "collapsed": false
   }
  },
  {
   "cell_type": "code",
   "execution_count": 98,
   "outputs": [
    {
     "data": {
      "text/plain": "5"
     },
     "execution_count": 98,
     "metadata": {},
     "output_type": "execute_result"
    }
   ],
   "source": [
    "for k in range(len(A)): # 곂치는 애들끼리 뺌\n",
    "    i,j = A[k]\n",
    "    aa = abs(i[0] - j[0])\n",
    "    bb = abs(j[1] - i[1])\n",
    "\n",
    "    if aa<10 and bb<10:\n",
    "        print(A[k])\n",
    "\n",
    "        before_result = before_result - (10 - aa) * (10 - bb)\n",
    "        print(aa,bb,before_result)\n",
    "    elif aa == bb:\n",
    "        before_result = before_result - 100\n",
    "print(before_result)"
   ],
   "metadata": {
    "collapsed": false
   }
  },
  {
   "cell_type": "code",
   "execution_count": 14,
   "outputs": [
    {
     "data": {
      "text/plain": "[[2, 5], [2, 5], [2, 5], [3, 6], [4, 7], [5, 8]]"
     },
     "execution_count": 14,
     "metadata": {},
     "output_type": "execute_result"
    }
   ],
   "source": [
    "paper ="
   ],
   "metadata": {
    "collapsed": false
   }
  },
  {
   "cell_type": "code",
   "execution_count": 85,
   "outputs": [],
   "source": [],
   "metadata": {
    "collapsed": false
   }
  },
  {
   "cell_type": "code",
   "execution_count": 48,
   "outputs": [
    {
     "name": "stdout",
     "output_type": "stream",
     "text": [
      "[2, 5]\n"
     ]
    },
    {
     "ename": "IndexError",
     "evalue": "list index out of range",
     "output_type": "error",
     "traceback": [
      "\u001B[1;31m---------------------------------------------------------------------------\u001B[0m",
      "\u001B[1;31mIndexError\u001B[0m                                Traceback (most recent call last)",
      "Cell \u001B[1;32mIn[48], line 4\u001B[0m\n\u001B[0;32m      2\u001B[0m \u001B[38;5;28mprint\u001B[39m(paper[k])\n\u001B[0;32m      3\u001B[0m s,e \u001B[38;5;241m=\u001B[39m paper[k] \u001B[38;5;66;03m# input값\u001B[39;00m\n\u001B[1;32m----> 4\u001B[0m \u001B[43mA\u001B[49m\u001B[43m[\u001B[49m\u001B[43ms\u001B[49m\u001B[43m]\u001B[49m\u001B[38;5;241m.\u001B[39mappend(e)\n",
      "\u001B[1;31mIndexError\u001B[0m: list index out of range"
     ]
    }
   ],
   "source": [
    "for k in range(len(paper)):\n",
    "    print(paper[k])\n",
    "    s,e = paper[k] # input값\n",
    "    A[s].append(e) # x, y 좌표 받음\n",
    "\n"
   ],
   "metadata": {
    "collapsed": false
   }
  },
  {
   "cell_type": "code",
   "execution_count": null,
   "outputs": [],
   "source": [
    "import sys\n",
    "sys.setrecursionlimit(10000)\n",
    "input = sys.stdin.readline # 노트북에서는 해당 셀 지우기()readline안먹힘\n"
   ],
   "metadata": {
    "collapsed": false
   }
  },
  {
   "cell_type": "code",
   "execution_count": 191,
   "outputs": [],
   "source": [
    "N = int(input())\n",
    "paper = [ list(map(int,input().split())) for i in range(N)]\n",
    "\n",
    "\n"
   ],
   "metadata": {
    "collapsed": false
   }
  },
  {
   "cell_type": "code",
   "execution_count": 201,
   "outputs": [],
   "source": [
    "paper = [[0,0],[90,90]]"
   ],
   "metadata": {
    "collapsed": false
   }
  },
  {
   "cell_type": "code",
   "execution_count": 203,
   "outputs": [
    {
     "name": "stdout",
     "output_type": "stream",
     "text": [
      "200\n"
     ]
    }
   ],
   "source": [
    "N = int(input())\n",
    "paper = [ list(map(int,input().split())) for i in range(N)]\n",
    "white = [[0]*101 for i in range(101)] # 100 행 100 열\n",
    "for i in range(len(paper)):\n",
    "    # print(i)\n",
    "    x_start = paper[i][0]\n",
    "    x_end = paper[i][0]+10\n",
    "    y_start = paper[i][1]\n",
    "    y_end = paper[i][1]+10\n",
    "\n",
    "    for x in range(x_start,x_end):\n",
    "        for y in range(y_start,y_end):\n",
    "\n",
    "            white[x][y] = 1\n",
    "\n",
    "result = 0\n",
    "for x in range(0,101):\n",
    "    for y in range(0,101):\n",
    "        result += white[x][y]\n",
    "print(result)"
   ],
   "metadata": {
    "collapsed": false
   }
  },
  {
   "cell_type": "code",
   "execution_count": null,
   "outputs": [],
   "source": [],
   "metadata": {
    "collapsed": false
   }
  },
  {
   "cell_type": "code",
   "execution_count": null,
   "outputs": [],
   "source": [
    "\n",
    "####\n",
    "n = int(input())\n",
    "# A = [[] for i in range(n)] # 빈 리스트 생성\n",
    "A = []\n",
    "for k in range(n):\n",
    "    A.append(tuple(map(int, input().split()))) # 입력받은 값 ..\n",
    "\n",
    "A = list(set(A))"
   ],
   "metadata": {
    "collapsed": false
   }
  },
  {
   "cell_type": "code",
   "execution_count": null,
   "outputs": [],
   "source": [
    "##\n",
    "before_result = sum([10 * 10 for i in range(len(A))]) # 색종이 수 - 곂치는 넓이.\n",
    "after_result = 0"
   ],
   "metadata": {
    "collapsed": false
   }
  },
  {
   "cell_type": "code",
   "execution_count": 65,
   "outputs": [
    {
     "data": {
      "text/plain": "[[2, 5], [2, 5], [2, 5], [3, 6], [4, 7], [5, 8]]"
     },
     "execution_count": 65,
     "metadata": {},
     "output_type": "execute_result"
    }
   ],
   "source": [
    "\n",
    "\n",
    "####\n",
    "\n",
    "\n",
    "##\n",
    "###\n",
    "def comb(arr, n): # 재귀함수를 통한 조합\n",
    "    result = []\n",
    "    if n > len(arr):\n",
    "        return result\n",
    "\n",
    "    if n == 1:\n",
    "        for i in arr:\n",
    "            result.append([i])\n",
    "\n",
    "    elif n > 1:\n",
    "        for i in range(len(arr) - n + 1):\n",
    "            for j in comb(arr[i + 1:], n - 1):\n",
    "                result.append([arr[i]] + j)\n",
    "\n",
    "    return result\n",
    "\n",
    "\n",
    "###\n",
    "\n",
    "\n",
    "A = (comb(A, 2))  # [[1, 2], [1, 3], [2, 3]]\n",
    "\n",
    "for k in range(len(A)):  # 곂치는 애들끼리 뺌\n",
    "    i, j = A[k]\n",
    "    aa = abs(i[0] - j[0])\n",
    "    bb = abs(j[1] - i[1])\n",
    "\n",
    "    if aa < 10 and bb < 10:\n",
    "        # print(A[k])\n",
    "\n",
    "        after_result = after_result - (10 - aa) * (10 - bb)\n",
    "        # print(aa, bb, before_result)\n",
    "    elif aa == bb:\n",
    "        after_result = after_result - 100\n",
    "\n",
    "result  = before_result + after_result\n",
    "print(result)\n",
    "\n",
    "## 문제점 같은 경우에 큰일 남. ㅋㅋ;\n"
   ],
   "metadata": {
    "collapsed": false
   }
  },
  {
   "cell_type": "code",
   "execution_count": null,
   "outputs": [],
   "source": [],
   "metadata": {
    "collapsed": false
   }
  },
  {
   "cell_type": "markdown",
   "source": [
    "## 백준 빙고\n",
    "# https://www.acmicpc.net/problem/2578"
   ],
   "metadata": {
    "collapsed": false
   }
  },
  {
   "cell_type": "code",
   "execution_count": 523,
   "outputs": [],
   "source": [
    "paper = [ list(map(int,input().split())) for i in range(5)]\n",
    "input_data = [ list(map(int,input().split())) for i in range(5)]"
   ],
   "metadata": {
    "collapsed": false
   }
  },
  {
   "cell_type": "code",
   "execution_count": null,
   "outputs": [],
   "source": [
    "paper = [[11, 12, 2, 24, 10],\n",
    " [16, 1, 13, 3, 25],\n",
    " [6, 20, 5, 21, 17],\n",
    " [19, 4, 8, 14, 9],\n",
    " [22, 15, 7, 23, 18]]\n",
    "\n",
    "input_data = [[5, 10, 7, 16, 2],\n",
    " [4, 22, 8, 17, 13],\n",
    " [3, 18, 1, 6, 25],\n",
    " [12, 19, 23, 14, 21],\n",
    " [11, 24, 9, 20, 15]]"
   ],
   "metadata": {
    "collapsed": false
   }
  },
  {
   "cell_type": "code",
   "execution_count": 629,
   "outputs": [
    {
     "name": "stdout",
     "output_type": "stream",
     "text": [
      "15\n"
     ]
    }
   ],
   "source": [
    "\n",
    "\n",
    "table = [[0] * 5 for i in range(5)] # 100 행 100 열\n",
    "\n",
    "dic = {}\n",
    "for x in range(5):\n",
    "    for y in range(5):\n",
    "       dic[x,y] = paper[x][y]\n",
    "dic = dict(map(reversed,dic.items())) # 사전을 뒤집음\n",
    "\n",
    "\n",
    "\n",
    "def cheak_logic(input_data):\n",
    "    result = 0\n",
    "\n",
    "    for x in range(5):\n",
    "        for y in range(5):\n",
    "            result = result + 1\n",
    "\n",
    "            table[list(dic[input_data[x][y]])[0]][list(dic[input_data[x][y]])[1]] = 1\n",
    "            result_2 = 0 # 총 선 수\n",
    "            for a in range(5):\n",
    "\n",
    "                rogic = sum([table[a][b] for b in range(5)]) >= 5\n",
    "\n",
    "                if (rogic == True):\n",
    "                    result_2 = result_2 + 1\n",
    "\n",
    "                rogic_2 = sum([table[b][a] for b in range(5)]) >= 5\n",
    "\n",
    "                if rogic_2 == True:\n",
    "                    result_2 = result_2 + 1\n",
    "\n",
    "            if (sum([table[m][m] for m in range(5)]) >= 5):\n",
    "                result_2 = result_2 + 1\n",
    "\n",
    "            ## cheak bingo diagonal\n",
    "            cheak_diagonal = 0\n",
    "            for a_1 in range(5):\n",
    "                b_1 = 4 - a_1\n",
    "                cheak_diagonal = cheak_diagonal + table[a_1][b_1] # 대각선 체크\n",
    "                # print(cheak_diagonal)\n",
    "                if cheak_diagonal >= 5:\n",
    "                    result_2 = result_2 + 1\n",
    "\n",
    "            if result_2 >= 3:\n",
    "                return result\n",
    "\n",
    "result = cheak_logic(input_data)\n",
    "print(result)"
   ],
   "metadata": {
    "collapsed": false
   }
  },
  {
   "cell_type": "markdown",
   "source": [],
   "metadata": {
    "collapsed": false
   }
  },
  {
   "cell_type": "markdown",
   "source": [],
   "metadata": {
    "collapsed": false
   }
  },
  {
   "cell_type": "markdown",
   "source": [
    "# 줄 세우기\n",
    "# https://www.acmicpc.net/problem/2605\n",
    "\n",
    "점심시간이 되면 반 학생 모두가 한 줄로 줄을 서서 급식을 탄다. 그런데 매일 같이 앞자리에 앉은 학생들이 앞에 줄을 서 먼저 점심을 먹고, 뒷자리에 앉은 학생들은 뒤에 줄을 서 늦게 점심을 먹게 된다. 어떻게 하면 이러한 상황을 바꾸어 볼 수 있을까 고민하던 중 선생님이 한 가지 방법을 내 놓았다. 그 방법은 다음과 같다.\n",
    "\n",
    "학생들이 한 줄로 줄을 선 후, 첫 번째 학생부터 차례로 번호를 뽑는다. 첫 번째로 줄을 선 학생은 무조건 0번 번호를 받아 제일 앞에 줄을 선다. 두 번째로 줄을 선 학생은 0번 또는 1번 둘 중 하나의 번호를 뽑는다. 0번을 뽑으면 그 자리에 그대로 있고, 1번을 뽑으면 바로 앞의 학생 앞으로 가서 줄을 선다. 세 번째로 줄을 선 학생은 0, 1 또는 2 중 하나의 번호를 뽑는다. 그리고 뽑은 번호만큼 앞자리로 가서 줄을 선다. 마지막에 줄을 선 학생까지 이와 같은 방식으로 뽑은 번호만큼 앞으로 가서 줄을 서게 된다. 각자 뽑은 번호는 자신이 처음에 선 순서보다는 작은 수이다.\n",
    "\n",
    "예를 들어 5명의 학생이 줄을 서고, 첫 번째로 줄을 선 학생부터 다섯 번째로 줄을 선 학생까지 차례로 0, 1, 1, 3, 2번의 번호를 뽑았다고 하자, 첫 번째 학생부터 다섯 번째 학생까지 1부터 5로 표시하면 학생들이 줄을 선 순서는 다음과 같이 된다.\n",
    "\n",
    "첫 번째 학생이 번호를 뽑은 후 : 1\n",
    "두 번째 학생이 번호를 뽑은 후 : 2 1\n",
    "세 번째 학생이 번호를 뽑은 후 : 2 3 1\n",
    "네 번째 학생이 번호를 뽑은 후 : 4 2 3 1\n",
    "다섯 번째 학생이 번호를 뽑은 후 : 4 2 5 3 1\n",
    "따라서 최종적으로 학생들이 줄을 선 순서는 4, 2, 5, 3, 1이 된다.\n",
    "\n",
    "줄을 선 학생들이 차례로 뽑은 번호가 주어질 때 학생들이 최종적으로 줄을 선 순서를 출력하는 프로그램을 작성하시오.\n",
    "\n",
    "입력 : 첫째 줄에는 학생의 수가 주어지고 둘째 줄에는 줄을 선 차례대로 학생들이 뽑은 번호가 주어진다. 학생의 수가 100 이하이고, 학생들이 뽑는 번호는 0 또는 자연수이며 학생들이 뽑은 번호 사이에는 빈 칸이 하나씩 있다.\n",
    "출력 : 학생들이 처음에 줄을 선 순서대로 1번부터 번호를 매길 때, 첫째 줄에 학생들이 최종적으로 줄을 선 순서를 그 번호로 출력한다. 학생 번호 사이에는 한 칸의 공백을 출력한다.\n"
   ],
   "metadata": {
    "collapsed": false
   }
  },
  {
   "cell_type": "code",
   "execution_count": 644,
   "outputs": [],
   "source": [
    "N = int(input())\n",
    "input_data = list(map(int,input().split())) # 0 도 가능\n",
    "# line_data = [i+1 for i in range(N)]\n",
    "\n",
    "out_put_list = []\n",
    "\n",
    "for i in range(N):\n",
    "\n",
    "    out_put_list.insert(len(out_put_list) - input_data[i],i+1)\n",
    "# for i in range(N):\n",
    "#\n",
    "#     out_put_list.insert(i - input_data[i],i+1)\n",
    "print(*out_put_list)\n",
    "# for k in out_put_list:\n",
    "#     print(k,end = ' ')"
   ],
   "metadata": {
    "collapsed": false
   }
  },
  {
   "cell_type": "code",
   "execution_count": 864,
   "outputs": [
    {
     "name": "stdout",
     "output_type": "stream",
     "text": [
      "4 2 5 3 1 "
     ]
    }
   ],
   "source": [
    "N = int(input())# 학생수 입력\n",
    "lstnum = list(map(int,input().split())) # 학생이 뽑은 번호 표 입력\n",
    "student = [i for i in range(1,N+1)] # 1부터 학생을 나열\n",
    "result = [] # 결과 빈 리스트 생성\n",
    "for i in range(N): # for문을 사용해 N번 반복\n",
    "    result.insert(i-lstnum[i],student[i])\n",
    "    # insert변수를 사용하여 student 첫번째부터 해당 인덱스에 들어가도록 삽입\n",
    "    # insert 변수는 해당 값을 원하는 인덱스에 넣고 뒤에 값들은 밀어내는 결과 값을 도출하는 함수\n",
    "print(*result)# 결과값 출력"
   ],
   "metadata": {
    "collapsed": false
   }
  },
  {
   "cell_type": "code",
   "execution_count": null,
   "outputs": [],
   "source": [],
   "metadata": {
    "collapsed": false
   }
  },
  {
   "cell_type": "code",
   "execution_count": null,
   "outputs": [],
   "source": [],
   "metadata": {
    "collapsed": false
   }
  },
  {
   "cell_type": "markdown",
   "source": [
    "## 백준 방 배정\n",
    "# https://www.acmicpc.net/problem/13300"
   ],
   "metadata": {
    "collapsed": false
   }
  },
  {
   "cell_type": "markdown",
   "source": [
    "정보 초등학교에서는 단체로 2박 3일 수학여행을 가기로 했다. 여러 학년이 같은 장소로 수학여행을 가려고 하는데 1학년부터 6학년까지 학생들이 묵을 방을 배정해야 한다. 남학생은 남학생끼리, 여학생은 여학생끼리 방을 배정해야 한다. 또한 한 방에는 같은 학년의 학생들을 배정해야 한다. 물론 한 방에 한 명만 배정하는 것도 가능하다.\n",
    "\n",
    "한 방에 배정할 수 있는 최대 인원 수 K가 주어졌을 때, 조건에 맞게 모든 학생을 배정하기 위해 필요한 방의 최소 개수를 구하는 프로그램을 작성하시오.\n",
    "\n",
    "예를 들어, 수학여행을 가는 학생이 다음과 같고 K = 2일 때 12개의 방이 필요하다. 왜냐하면 3학년 남학생을 배정하기 위해 방 두 개가 필요하고 4학년 여학생에는 방을 배정하지 않아도 되기 때문이다."
   ],
   "metadata": {
    "collapsed": false
   }
  },
  {
   "cell_type": "code",
   "execution_count": 119,
   "outputs": [],
   "source": [
    "N = int(input())"
   ],
   "metadata": {
    "collapsed": false
   }
  },
  {
   "cell_type": "code",
   "execution_count": 120,
   "outputs": [],
   "source": [
    "for _ in range(n):\n",
    "    a,b = map(int,input().split())"
   ],
   "metadata": {
    "collapsed": false
   }
  },
  {
   "cell_type": "code",
   "execution_count": null,
   "outputs": [],
   "source": [],
   "metadata": {
    "collapsed": false
   }
  },
  {
   "cell_type": "markdown",
   "source": [
    "# 경비원\n",
    "# https://www.acmicpc.net/problem/2564\n",
    "\n",
    "동근이는 무인 경비 회사 경비원으로 항상 대기하고 있다가 호출이 들어오면 경비차를 몰고 그 곳으로 달려가야 한다. 동근이가 담당하고 있는 곳은 직사각형 모양의 블록으로 블록 중간을 가로질러 차가 통과할만한 길이 없다. 이 블록 경계에 무인 경비를 의뢰한 상점들이 있다.\n",
    "\n",
    "예를 들어 가로의 길이가 10, 세로의 길이가 5인 블록의 경계에 무인 경비를 의뢰한 3개의 상점이 있다고 하자. <그림 1>과 같이 이들은 1, 2, 3으로 표시되어 있고, 동근이는 X로 표시한 위치에 있다.\n",
    "\n",
    "1번 상점에서 호출이 들어 왔을 때 동근이가 블록을 시계방향으로 돌아 이동하면 이동 거리가 12가 된다. 반면 반시계방향으로 돌아 이동하면 이동 거리는 18이 된다. 따라서 동근이가 1번 상점으로 가는 최단 거리는 12가 된다. 마찬가지로 동근이의 위치에서 2번 상점까지의 최단 거리는 6, 3번 상점까지의 최단 거리는 5가 된다.\n",
    "\n",
    "블록의 크기와 상점의 개수 및 위치 그리고 동근이의 위치가 주어질 때 동근이의 위치와 각 상점 사이의 최단 거리의 합을 구하는 프로그램을 작성하시오.\n",
    "\n",
    "입력\n",
    "첫째 줄에 블록의 가로의 길이와 세로의 길이가 차례로 주어진다. 둘째 줄에 상점의 개수가 주어진다. 블록의 가로의 길이와 세로의 길이, 상점의 개수는 모두 100이하의 자연수이다. 이어 한 줄에 하나씩 상점의 위치가 주어진다. 상점의 위치는 두 개의 자연수로 표시된다. 첫째 수는 상점이 위치한 방향을 나타내는데, 1은 블록의 북쪽, 2는 블록의 남쪽, 3은 블록의 서쪽, 4는 블록의 동쪽에 상점이 있음을 의미한다. 둘째 수는 상점이 블록의 북쪽 또는 남쪽에 위치한 경우 블록의 왼쪽 경계로부터의 거리를 나타내고, 상점이 블록의 동쪽 또는 서쪽에 위치한 경우 블록의 위쪽 경계로부터의 거리를 나타낸다. 마지막 줄에는 동근이의 위치가 상점의 위치와 같은 방식으로 주어진다. 상점의 위치나 동근이의 위치는 블록의 꼭짓점이 될 수 없다.\n",
    "\n",
    "출력\n",
    "첫째 줄에 동근이의 위치와 각 상점 사이의 최단 거리의 합을 출력한다."
   ],
   "metadata": {
    "collapsed": false
   }
  },
  {
   "cell_type": "code",
   "execution_count": null,
   "outputs": [],
   "source": [
    "1.dic 에서 해당 좌표가 있는지 확인\n",
    "=> 없으면 해당 렝뜨 만큼 더함 => 다음 으로 넘어감 (재귀함수)\n",
    "있으면 for문으로 더함..?"
   ],
   "metadata": {
    "collapsed": false
   }
  },
  {
   "cell_type": "code",
   "execution_count": 1,
   "outputs": [],
   "source": [
    "x_max,y_max = map(int,input().split())\n",
    "N = int(input())\n",
    "data = [list(map(int,input().split())) for i in range(N+1)]"
   ],
   "metadata": {
    "collapsed": false
   }
  },
  {
   "cell_type": "code",
   "execution_count": 117,
   "outputs": [],
   "source": [
    "x_max,y_max, N, data = (10, 5, 3, [[1, 4], [3, 2], [2, 8], [2, 3]])"
   ],
   "metadata": {
    "collapsed": false
   }
  },
  {
   "cell_type": "code",
   "execution_count": 118,
   "outputs": [],
   "source": [
    "# solve"
   ],
   "metadata": {
    "collapsed": false
   }
  },
  {
   "cell_type": "code",
   "execution_count": null,
   "outputs": [],
   "source": [
    "import sys\n",
    "sys.setrecursionlimit(10000)\n",
    "\n",
    "x_max,y_max,N,data = (10, 5, 1, [[1, 1], [1, 2]])\n",
    "\n",
    "for i in range(len(data)): #방향 때문에 위에서 아래로 셈\n",
    "    if data[i][0] == 3 or data[i][0] == 4:\n",
    "        data[i][1] = int(y_max - data[i][1])\n",
    "\n",
    "# 여기서 역배열로 서칭할 것인지 정배열로 서칭할 것인지 고려.\n",
    "direction = {}\n",
    "#              반시계 시계방향\n",
    "direction[4] = [\"1_1\", \"2\",int(y_max-1)] # east 동 4\n",
    "direction[3] = [\"2\", \"1_1\",int(y_max-1)] # west 서 3\n",
    "direction[2] = [\"4\", \"3_1\",int(x_max-1)] # south 남 2\n",
    "direction[1] = [\"3_1\", \"4\",int(x_max-1)] # north 북 1\n",
    "\n",
    "x_start , y_start = data[len(data)-1] # 맨 마지막 번호는 시작 지점.\n",
    "\n",
    "dic = {} #사전 형태로 데이터 저장\n",
    "for i in range(len(data)-1):\n",
    "    dic[data[i][0],data[i][1]] = 1\n",
    "\n",
    "def serch(now_driection, distance,wow , cheak_direction ):  # wow = 정방향 역방향\n",
    "\n",
    "    if cheak_direction == 1:\n",
    "        for i in range(-direction[now_driection][2], 0):\n",
    "            i = abs(i)\n",
    "            distance = distance + 1\n",
    "            try:\n",
    "                cheak_logic = dic[now_driection,i]\n",
    "                return distance, int(direction[now_driection][wow][0]), wow, cheak_direction\n",
    "\n",
    "            except:\n",
    "                pass\n",
    "    else:\n",
    "        for i in range(0,direction[now_driection][2]):\n",
    "            distance = distance + 1\n",
    "            try:\n",
    "                cheak_logic = dic[now_driection,i]\n",
    "                return distance, int(direction[now_driection][wow][0]), wow, cheak_direction\n",
    "\n",
    "            except:\n",
    "                pass\n",
    "\n",
    "    if (len(direction[now_driection][wow]) == 1):  # 정방향 역방향 =>wow\n",
    "        cheak_direction = 1\n",
    "    else:\n",
    "        cheak_direction = 0\n",
    "\n",
    "     serch(int(direction[now_driection][wow][0]), distance, wow, cheak_direction)# @@\n",
    "\n",
    "while True:\n",
    "    wow = 1 # 시계 방향 판단. 시계방향\n",
    "    distance_1 = 0\n",
    "    cheak_logic_1 = 0\n",
    "    # print(0,y_start)\n",
    "\n",
    "    for i in range(0,y_start): # 반시계 방향\n",
    "        distance_1 = distance_1 + 1\n",
    "        try:\n",
    "            cheak_logic_1 = dic[x_start,i]\n",
    "            break\n",
    "        except:\n",
    "            pass\n",
    "\n",
    "\n",
    "    if cheak_logic_1 == 0:\n",
    "\n",
    "        if (len(direction[x_start][wow]) == 1): # 정방향 역방향 =>wow\n",
    "            cheak_direction = 0 # 다음 정/역 방향 판단\n",
    "        else:\n",
    "            cheak_direction = 1 # 다음 정/역 방향 판단\n",
    "        # print(int(direction[x_start][wow][0]),distance_1,wow, cheak_direction)\n",
    "        distance_1,aa,wow ,cheak_direction = serch(int(direction[x_start][wow][0]),distance_1,wow, cheak_direction)\n",
    "    break\n",
    "\n",
    "while True:\n",
    "    wow = 0 # 시계 방향 판단. 반시계 방향\n",
    "    distance_2 = 0\n",
    "    cheak_logic_2 = 0\n",
    "    # print(y_start, x_max-1)\n",
    "\n",
    "    for i in range(y_start, x_max-1): #시계 방향\n",
    "        # print(\"logic_2\",i)\n",
    "        distance_2 = distance_2 + 1\n",
    "        try:\n",
    "            cheak_logic_2 = dic[x_start,i]\n",
    "            break\n",
    "        except:\n",
    "            pass\n",
    "\n",
    "    if cheak_logic_2 == 0:\n",
    "        if (len(direction[x_start][wow]) == 1): # 정방향 역방향\n",
    "            cheak_direction = 0 # 다음 정/역 방향 판단\n",
    "        else:\n",
    "            cheak_direction = 1 # 다음 정/역 방향 판단\n",
    "\n",
    "        # print(int(direction[x_start][wow][0]), distance_2, wow, cheak_direction)\n",
    "        distance_2, aa, wow, cheak_direction = serch(int(direction[x_start][wow][0]), distance_2, wow, cheak_direction)\n",
    "    break\n",
    "\n",
    "\n",
    "\n",
    "print(distance_2,distance_1)\n",
    "print((x_max * 2 + y_max * 2 - 1))\n",
    "answer = (x_max* 2 + y_max * 2 - 1) - max(distance_2,distance_1)\n",
    "print(answer)\n"
   ],
   "metadata": {
    "collapsed": false
   }
  },
  {
   "cell_type": "code",
   "execution_count": null,
   "outputs": [],
   "source": [
    "x_max,y_max, N, data = (10, 5, 3, [[1, 4], [3, 2], [2, 8], [2, 3]])\n",
    "\n",
    "for i in range(len(data)): #방향 때문에 위에서 아래로 셈\n",
    "    if data[i][0] == 3 or data[i][0] == 4:\n",
    "        data[i][1] = int(y_max - data[i][1])\n",
    "\n",
    "# 여기서 역배열로 서칭할 것인지 정배열로 서칭할 것인지 고려.\n",
    "direction = {}\n",
    "#              반시계 시계방향\n",
    "direction[4] = [\"1_1\", \"2\",int(y_max-1)] # east 동 4\n",
    "direction[3] = [\"2\", \"1_1\",int(y_max-1)] # west 서 3\n",
    "direction[2] = [\"4\", \"3_1\",int(x_max-1)] # south 남 2\n",
    "direction[1] = [\"3_1\", \"4\",int(x_max-1)] # north 북 1\n",
    "\n",
    "x_start , y_start = data[len(data)-1] # 맨 마지막 번호는 시작 지점.\n",
    "\n",
    "dic = {} #사전 형태로 데이터 저장\n",
    "for i in range(len(data)-1):\n",
    "    dic[data[i][0],data[i][1]] = 1\n",
    "\n",
    "\n",
    "def serch(now_driection, distance,wow , cheak_direction ):  # wow = 정방향 역방향\n",
    "\n",
    "    if cheak_direction == 1:\n",
    "        for i in range(-direction[now_driection][2], 0):\n",
    "            i = abs(i)\n",
    "            distance = distance + 1\n",
    "            try:\n",
    "                cheak_logic = dic[now_driection,i]\n",
    "                return distance, int(direction[now_driection][wow][0]), wow, cheak_direction\n",
    "\n",
    "            except:\n",
    "                pass\n",
    "    else:\n",
    "        for i in range(0,direction[now_driection][2]):\n",
    "            distance = distance + 1\n",
    "            try:\n",
    "                cheak_logic = dic[now_driection,i]\n",
    "                return distance, int(direction[now_driection][wow][0]), wow, cheak_direction\n",
    "\n",
    "            except:\n",
    "                pass\n",
    "\n",
    "    if (len(direction[now_driection][wow]) == 1):  # 정방향 역방향 =>wow\n",
    "        cheak_direction = 1\n",
    "    else:\n",
    "        cheak_direction = 0\n",
    "\n",
    "    serch(int(direction[now_driection][wow][0]), distance, wow, cheak_direction)# @@\n",
    "\n",
    "while True:\n",
    "    wow = 1 # 시계 방향 판단. 시계방향\n",
    "    distance_1 = 0\n",
    "    cheak_logic_1 = 0\n",
    "    # print(0,y_start)\n",
    "\n",
    "    for i in range(0,y_start): # 반시계 방향\n",
    "        distance_1 = distance_1 + 1\n",
    "        try:\n",
    "            cheak_logic_1 = dic[x_start,i]\n",
    "            break\n",
    "        except:\n",
    "            pass\n",
    "\n",
    "\n",
    "    if cheak_logic_1 == 0:\n",
    "\n",
    "        if (len(direction[x_start][wow]) == 1): # 정방향 역방향 =>wow\n",
    "            cheak_direction = 0 # 다음 정/역 방향 판단\n",
    "        else:\n",
    "            cheak_direction = 1 # 다음 정/역 방향 판단\n",
    "        # print(int(direction[x_start][wow][0]),distance_1,wow, cheak_direction)\n",
    "        distance_1,aa,wow ,cheak_direction = serch(int(direction[x_start][wow][0]),distance_1,wow, cheak_direction)\n",
    "    break\n",
    "\n",
    "while True:\n",
    "    wow = 0 # 시계 방향 판단. 반시계 방향\n",
    "    distance_2 = 0\n",
    "    cheak_logic_2 = 0\n",
    "    # print(y_start, x_max-1)\n",
    "\n",
    "    for i in range(y_start, x_max-1): #시계 방향\n",
    "        # print(\"logic_2\",i)\n",
    "        distance_2 = distance_2 + 1\n",
    "        try:\n",
    "            cheak_logic_2 = dic[x_start,i]\n",
    "            break\n",
    "        except:\n",
    "            pass\n",
    "\n",
    "    if cheak_logic_2 == 0:\n",
    "        if (len(direction[x_start][wow]) == 1): # 정방향 역방향\n",
    "            cheak_direction = 0 # 다음 정/역 방향 판단\n",
    "        else:\n",
    "            cheak_direction = 1 # 다음 정/역 방향 판단\n",
    "\n",
    "        # print(int(direction[x_start][wow][0]), distance_2, wow, cheak_direction)\n",
    "        distance_2, aa, wow, cheak_direction = serch(int(direction[x_start][wow][0]), distance_2, wow, cheak_direction)\n",
    "    break\n",
    "\n",
    "\n",
    "\n",
    "\n",
    "answer = (x_max* 2 + y_max * 2 - 1) - max(distance_2,distance_1)\n",
    "print(answer)\n"
   ],
   "metadata": {
    "collapsed": false
   }
  },
  {
   "cell_type": "code",
   "execution_count": 240,
   "outputs": [],
   "source": [
    "\n",
    "x_max,y_max = map(int,input().split())\n",
    "N = int(input())\n",
    "data = [list(map(int,input().split())) for i in range(N+1)]"
   ],
   "metadata": {
    "collapsed": false
   }
  },
  {
   "cell_type": "code",
   "execution_count": 241,
   "outputs": [
    {
     "data": {
      "text/plain": "(10, 5, 1, [[1, 1], [1, 2]])"
     },
     "execution_count": 241,
     "metadata": {},
     "output_type": "execute_result"
    }
   ],
   "source": [
    "x_max,y_max,N,data = (10, 5, 1, [[1, 1], [1, 2]])"
   ],
   "metadata": {
    "collapsed": false
   }
  },
  {
   "cell_type": "code",
   "execution_count": 242,
   "outputs": [],
   "source": [
    "\n",
    "\n",
    "for i in range(len(data)): #방향 때문에 위에서 아래로 셈\n",
    "    if data[i][0] == 3 or data[i][0] == 4:\n",
    "        data[i][1] = int(y_max - data[i][1])\n"
   ],
   "metadata": {
    "collapsed": false
   }
  },
  {
   "cell_type": "code",
   "execution_count": null,
   "outputs": [],
   "source": [
    "\n",
    "# 여기서 역배열로 서칭할 것인지 정배열로 서칭할 것인지 고려.\n",
    "direction = {}\n",
    "#              반시계 시계방향\n",
    "direction[4] = [\"1_1\", \"2\",int(y_max-1)] # east 동 4\n",
    "direction[3] = [\"2\", \"1_1\",int(y_max-1)] # west 서 3\n",
    "direction[2] = [\"4\", \"3_1\",int(x_max-1)] # south 남 2\n",
    "direction[1] = [\"3_1\", \"4\",int(x_max-1)] # north 북 1\n",
    "\n",
    "x_start , y_start = data[len(data)-1] # 맨 마지막 번호는 시작 지점."
   ],
   "metadata": {
    "collapsed": false
   }
  },
  {
   "cell_type": "code",
   "execution_count": 243,
   "outputs": [],
   "source": [
    "dic = {} #사전 형태로 데이터 저장\n",
    "for i in range(len(data)-1):\n",
    "    dic[data[i][0],data[i][1]] = 1"
   ],
   "metadata": {
    "collapsed": false
   }
  },
  {
   "cell_type": "code",
   "execution_count": 245,
   "outputs": [
    {
     "data": {
      "text/plain": "{(1, 1): 1}"
     },
     "execution_count": 245,
     "metadata": {},
     "output_type": "execute_result"
    }
   ],
   "source": [
    "dic"
   ],
   "metadata": {
    "collapsed": false
   }
  },
  {
   "cell_type": "code",
   "execution_count": 244,
   "outputs": [
    {
     "ename": "TypeError",
     "evalue": "cannot unpack non-iterable NoneType object",
     "output_type": "error",
     "traceback": [
      "\u001B[1;31m---------------------------------------------------------------------------\u001B[0m",
      "\u001B[1;31mTypeError\u001B[0m                                 Traceback (most recent call last)",
      "Cell \u001B[1;32mIn[244], line 52\u001B[0m\n\u001B[0;32m     50\u001B[0m             cheak_direction \u001B[38;5;241m=\u001B[39m \u001B[38;5;241m1\u001B[39m \u001B[38;5;66;03m# 다음 정/역 방향 판단\u001B[39;00m\n\u001B[0;32m     51\u001B[0m         \u001B[38;5;66;03m# print(int(direction[x_start][wow][0]),distance_1,wow, cheak_direction)\u001B[39;00m\n\u001B[1;32m---> 52\u001B[0m         distance_1,aa,wow ,cheak_direction \u001B[38;5;241m=\u001B[39m serch(\u001B[38;5;28mint\u001B[39m(direction[x_start][wow][\u001B[38;5;241m0\u001B[39m]),distance_1,wow, cheak_direction)\n\u001B[0;32m     53\u001B[0m     \u001B[38;5;28;01mbreak\u001B[39;00m\n\u001B[0;32m     55\u001B[0m \u001B[38;5;28;01mwhile\u001B[39;00m \u001B[38;5;28;01mTrue\u001B[39;00m:\n",
      "\u001B[1;31mTypeError\u001B[0m: cannot unpack non-iterable NoneType object"
     ]
    }
   ],
   "source": [
    "\n",
    "\n",
    "\n",
    "\n",
    "def serch(now_driection, distance,wow , cheak_direction ):  # wow = 정방향 역방향\n",
    "\n",
    "    if cheak_direction == 1:\n",
    "        for i in range(-direction[now_driection][2], 0):\n",
    "            i = abs(i)\n",
    "            distance = distance + 1\n",
    "            try:\n",
    "                cheak_logic = dic[now_driection,i]\n",
    "                return distance, int(direction[now_driection][wow][0]), wow, cheak_direction\n",
    "\n",
    "            except:\n",
    "                pass\n",
    "    else:\n",
    "        for i in range(0,direction[now_driection][2]):\n",
    "            distance = distance + 1\n",
    "            try:\n",
    "                cheak_logic = dic[now_driection,i]\n",
    "                return distance, int(direction[now_driection][wow][0]), wow, cheak_direction\n",
    "\n",
    "            except:\n",
    "                pass\n",
    "\n",
    "    if (len(direction[now_driection][wow]) == 1):  # 정방향 역방향 =>wow\n",
    "        cheak_direction = 1\n",
    "    else:\n",
    "        cheak_direction = 0\n",
    "\n",
    "    serch(int(direction[now_driection][wow][0]), distance, wow, cheak_direction)# @@\n",
    "\n",
    "while True:\n",
    "    wow = 1 # 시계 방향 판단. 시계방향\n",
    "    distance_1 = 0\n",
    "    cheak_logic_1 = 0\n",
    "    # print(0,y_start)\n",
    "\n",
    "    for i in range(0,y_start): # 반시계 방향\n",
    "        distance_1 = distance_1 + 1\n",
    "        try:\n",
    "            cheak_logic_1 = dic[x_start,i]\n",
    "            break\n",
    "        except:\n",
    "            pass\n",
    "\n",
    "\n",
    "    if cheak_logic_1 == 0:\n",
    "\n",
    "        if (len(direction[x_start][wow]) == 1): # 정방향 역방향 =>wow\n",
    "            cheak_direction = 0 # 다음 정/역 방향 판단\n",
    "        else:\n",
    "            cheak_direction = 1 # 다음 정/역 방향 판단\n",
    "        # print(int(direction[x_start][wow][0]),distance_1,wow, cheak_direction)\n",
    "        distance_1,aa,wow ,cheak_direction = serch(int(direction[x_start][wow][0]),distance_1,wow, cheak_direction)\n",
    "    break\n",
    "\n",
    "while True:\n",
    "    wow = 0 # 시계 방향 판단. 반시계 방향\n",
    "    distance_2 = 0\n",
    "    cheak_logic_2 = 0\n",
    "    # print(y_start, x_max-1)\n",
    "\n",
    "    for i in range(y_start, x_max-1): #시계 방향\n",
    "        # print(\"logic_2\",i)\n",
    "        distance_2 = distance_2 + 1\n",
    "        try:\n",
    "            cheak_logic_2 = dic[x_start,i]\n",
    "            break\n",
    "        except:\n",
    "            pass\n",
    "\n",
    "    if cheak_logic_2 == 0:\n",
    "        if (len(direction[x_start][wow]) == 1): # 정방향 역방향\n",
    "            cheak_direction = 0 # 다음 정/역 방향 판단\n",
    "        else:\n",
    "            cheak_direction = 1 # 다음 정/역 방향 판단\n",
    "\n",
    "        # print(int(direction[x_start][wow][0]), distance_2, wow, cheak_direction)\n",
    "        distance_2, aa, wow, cheak_direction = serch(int(direction[x_start][wow][0]), distance_2, wow, cheak_direction)\n",
    "    break\n",
    "\n",
    "\n",
    "\n",
    "print(distance_2,distance_1)\n",
    "print((x_max * 2 + y_max * 2 - 1))\n",
    "answer = (x_max* 2 + y_max * 2 - 1) - max(distance_2,distance_1)\n",
    "print(answer)\n"
   ],
   "metadata": {
    "collapsed": false
   }
  },
  {
   "cell_type": "markdown",
   "source": [
    "# 종이 자르기 백준\n",
    "# https://www.acmicpc.net/problem/2628"
   ],
   "metadata": {
    "collapsed": false
   }
  },
  {
   "cell_type": "code",
   "execution_count": 248,
   "outputs": [],
   "source": [
    "x_max,y_max = map(int,input().split())\n",
    "N = int(input())\n",
    "data = [list(map(int,input().split())) for i in range(N)] # 가로 세로"
   ],
   "metadata": {
    "collapsed": false
   }
  },
  {
   "cell_type": "code",
   "execution_count": null,
   "outputs": [],
   "source": [
    "a = 10"
   ],
   "metadata": {
    "collapsed": false
   }
  },
  {
   "cell_type": "code",
   "execution_count": 251,
   "outputs": [
    {
     "data": {
      "text/plain": "[[0, 3], [1, 4], [0, 2]]"
     },
     "execution_count": 251,
     "metadata": {},
     "output_type": "execute_result"
    }
   ],
   "source": [
    "white"
   ],
   "metadata": {
    "collapsed": false
   }
  },
  {
   "cell_type": "code",
   "execution_count": null,
   "outputs": [],
   "source": [
    "for i in range(data):\n"
   ],
   "metadata": {
    "collapsed": false
   }
  },
  {
   "cell_type": "code",
   "execution_count": null,
   "outputs": [],
   "source": [],
   "metadata": {
    "collapsed": false
   }
  },
  {
   "cell_type": "code",
   "execution_count": null,
   "outputs": [],
   "source": [
    "2116\n",
    "2563\n",
    "2564\n",
    "2578\n",
    "2605\n",
    "2628\n",
    "2669\n",
    "13300\n",
    "14696\n",
    "2567"
   ],
   "metadata": {
    "collapsed": false
   }
  },
  {
   "cell_type": "code",
   "execution_count": null,
   "metadata": {},
   "outputs": [],
   "source": [
    "https://www.acmicpc.net/problem/14696"
   ]
  },
  {
   "cell_type": "code",
   "execution_count": null,
   "metadata": {},
   "outputs": [],
   "source": [
    "https://www.acmicpc.net/problem/2567"
   ]
  },
  {
   "cell_type": "code",
   "execution_count": null,
   "metadata": {},
   "outputs": [],
   "source": []
  },
  {
   "cell_type": "code",
   "execution_count": null,
   "metadata": {},
   "outputs": [],
   "source": []
  },
  {
   "cell_type": "code",
   "execution_count": null,
   "metadata": {},
   "outputs": [],
   "source": []
  },
  {
   "cell_type": "code",
   "execution_count": null,
   "metadata": {},
   "outputs": [],
   "source": []
  },
  {
   "cell_type": "code",
   "execution_count": null,
   "metadata": {},
   "outputs": [],
   "source": []
  },
  {
   "cell_type": "code",
   "execution_count": null,
   "metadata": {},
   "outputs": [],
   "source": []
  },
  {
   "cell_type": "code",
   "execution_count": null,
   "metadata": {},
   "outputs": [],
   "source": []
  },
  {
   "cell_type": "code",
   "execution_count": null,
   "metadata": {},
   "outputs": [],
   "source": []
  }
 ],
 "metadata": {
  "kernelspec": {
   "display_name": "Python 3 (ipykernel)",
   "language": "python",
   "name": "python3"
  },
  "language_info": {
   "codemirror_mode": {
    "name": "ipython",
    "version": 3
   },
   "file_extension": ".py",
   "mimetype": "text/x-python",
   "name": "python",
   "nbconvert_exporter": "python",
   "pygments_lexer": "ipython3",
   "version": "3.9.12"
  }
 },
 "nbformat": 4,
 "nbformat_minor": 1
}
