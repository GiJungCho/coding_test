{
 "cells": [
  {
   "cell_type": "markdown",
   "metadata": {},
   "source": [
    "셀 바깥 쪽 빈공간을 마우스로 클릭하거나 Ctrl + m 또는 Esc 키를 누르면 편집모드로 변경\n",
    "[입력모드 단축키]\n",
    "Ctrl + a -> 해당 셀 전체 선택\n",
    "Ctrl + c,v,x -> 셀 내용 복사, 붙여넣기,잘라내기\n",
    "Ctrl + z -> 해당 셀 실행 취소\n",
    "Ctrl + / -> 해당 셀 커서가 위치 된 곳 주석 처리, 주석처리 해제\n",
    "Ctrl + ] -> 커서위치한 곳에서 들여쓰기(Tab)\n",
    "Ctrl + enter -> 해당 셀 실행\n",
    "Ctrl + y -> 해당 셀 다시 실행(실행취소 반대)\n",
    "shift + enter -> 해당 셀 실행 후 셀 새로 추가 또는 아래 셀로 이동\n",
    "Ctrl + s -> 저장\\\n",
    "\n",
    "[편집모드 단축키]\n",
    "a - 셀 추가(위로 추가)\n",
    "b - 셀 추가(아래로 추가)\n",
    "c, v, x- 셀 복사, 붙여넣기, 잘라내기\n",
    "\n",
    "dd (d 두번) - 해당 셀 삭제\n",
    "m - 해당셀 Markdown으로 변경\n",
    "y - 해당셀 code로 변경\n",
    "h - 단축키 목록 펼쳐 보기\n",
    "Shift + m - 해당 셀 &  아래 셀 합치기\n",
    "s - 저장\n",
    "' -> 빠른 검색\n",
    "l -> 셀 내에 코드번호 추가"
   ]
  },
  {
   "cell_type": "markdown",
   "metadata": {},
   "source": [
    "#  구간 합 구하기\n",
    "### 수 n개가 주어졌을 떄 i~j까지의 수를 합하는 프로그램 작성"
   ]
  },
  {
   "cell_type": "code",
   "execution_count": 9,
   "metadata": {},
   "outputs": [
    {
     "ename": "ValueError",
     "evalue": "not enough values to unpack (expected 2, got 0)",
     "output_type": "error",
     "traceback": [
      "\u001B[1;31m---------------------------------------------------------------------------\u001B[0m",
      "\u001B[1;31mValueError\u001B[0m                                Traceback (most recent call last)",
      "\u001B[1;32m~\\AppData\\Local\\Temp\\ipykernel_1300\\1066881932.py\u001B[0m in \u001B[0;36m<module>\u001B[1;34m\u001B[0m\n\u001B[1;32m----> 1\u001B[1;33m \u001B[0msuNo\u001B[0m\u001B[1;33m,\u001B[0m \u001B[0mquizNo\u001B[0m \u001B[1;33m=\u001B[0m \u001B[0mmap\u001B[0m\u001B[1;33m(\u001B[0m\u001B[0mint\u001B[0m\u001B[1;33m,\u001B[0m \u001B[0minput\u001B[0m\u001B[1;33m(\u001B[0m\u001B[1;33m)\u001B[0m\u001B[1;33m.\u001B[0m\u001B[0msplit\u001B[0m\u001B[1;33m(\u001B[0m\u001B[1;33m)\u001B[0m\u001B[1;33m)\u001B[0m\u001B[1;33m\u001B[0m\u001B[1;33m\u001B[0m\u001B[0m\n\u001B[0m\u001B[0;32m      2\u001B[0m \u001B[0mnumbers\u001B[0m \u001B[1;33m=\u001B[0m \u001B[0mlist\u001B[0m\u001B[1;33m(\u001B[0m\u001B[0mmap\u001B[0m\u001B[1;33m(\u001B[0m\u001B[0mint\u001B[0m\u001B[1;33m,\u001B[0m \u001B[0minput\u001B[0m\u001B[1;33m(\u001B[0m\u001B[1;33m)\u001B[0m\u001B[1;33m.\u001B[0m\u001B[0msplit\u001B[0m\u001B[1;33m(\u001B[0m\u001B[1;33m)\u001B[0m\u001B[1;33m)\u001B[0m\u001B[1;33m)\u001B[0m\u001B[1;33m\u001B[0m\u001B[1;33m\u001B[0m\u001B[0m\n\u001B[0;32m      3\u001B[0m \u001B[0mprefix_sum\u001B[0m \u001B[1;33m=\u001B[0m \u001B[1;33m[\u001B[0m\u001B[1;36m0\u001B[0m\u001B[1;33m]\u001B[0m\u001B[1;33m\u001B[0m\u001B[1;33m\u001B[0m\u001B[0m\n\u001B[0;32m      4\u001B[0m \u001B[0mtemp\u001B[0m \u001B[1;33m=\u001B[0m \u001B[1;36m0\u001B[0m\u001B[1;33m\u001B[0m\u001B[1;33m\u001B[0m\u001B[0m\n\u001B[0;32m      5\u001B[0m \u001B[1;33m\u001B[0m\u001B[0m\n",
      "\u001B[1;31mValueError\u001B[0m: not enough values to unpack (expected 2, got 0)"
     ]
    }
   ],
   "source": [
    "import sys\n",
    "input = sys.stdin.readline # 주피터 놋북에서는 readline 대신에 input()을 쓸것\n",
    "suNo, quizNo = map(int, input().split()) # 주피터 놋북에서는 readline 대신에 input()을 쓸것\n",
    "numbers = list(map(int, input().split()))\n",
    "prefix_sum = [0]\n",
    "temp = 0\n",
    "\n",
    "for i in numbers:#합 배열 만들기\n",
    "    temp = temp + i\n",
    "    prefix_sum.append(temp)\n",
    "\n",
    "for i in range(quizNo):#합 배열에서 구간 합 구하기\n",
    "    s,e = map(int, input().split())\n",
    "    print(prefix_sum[e] - prefix_sum[s-1])"
   ]
  },
  {
   "cell_type": "code",
   "execution_count": 8,
   "metadata": {},
   "outputs": [],
   "source": [
    "# 5 3\n",
    "# 5 3 3 2 1\n",
    "# 1 3\n",
    "# 2 4\n",
    "# 5 5\n",
    "\n"
   ]
  },
  {
   "cell_type": "code",
   "execution_count": 9,
   "metadata": {},
   "outputs": [
    {
     "name": "stdout",
     "output_type": "stream",
     "text": [
      "70\n"
     ]
    }
   ],
   "source": [
    "# 데이터의 개수 N과 전체 데이터 선언\n",
    "n = 5\n",
    "data = [10, 20, 30, 40, 50]\n",
    "\n",
    "# 접두사 합(Prefix Sum) 배열 계산\n",
    "sum_value = 0\n",
    "prefix_sum = [0]\n",
    "for i in data:\n",
    "    sum_value += i\n",
    "    prefix_sum.append(sum_value)\n",
    "\n",
    "# 구간 합 계산 (세 번째 수부터 네 번째 수까지)\n",
    "left = 3\n",
    "right = 4\n",
    "print(prefix_sum[right] - prefix_sum[left - 1])"
   ]
  },
  {
   "cell_type": "markdown",
   "metadata": {},
   "source": [
    "## 깊이 우선 탐색 dfs 134p\n",
    "# dfs bfs 차이  https://iancoding.tistory.com/329\n",
    "백준 좌표 : https://www.acmicpc.net/problem/11724\n",
    "연결 요소의 개수\n",
    "문제:방향 없는 그래프가 주어졌을 때, 연결 요소 (Connected Component)의 개수를 구하는 프로그램을 작성하시오.\n",
    "입력:첫째 줄에 정점의 개수 N과 간선의 개수 M이 주어진다. (1 ≤ N ≤ 1,000, 0 ≤ M ≤ N×(N-1)/2) 둘째 줄부터 M개의 줄에 간선의 양 끝점 u와 v가 주어진다. (1 ≤ u, v ≤ N, u ≠ v) 같은 간선은 한 번만 주어진다."
   ]
  },
  {
   "cell_type": "code",
   "execution_count": null,
   "metadata": {},
   "outputs": [],
   "source": [
    "# 노드의 최대 개수가 1000이므로 시간 복잡도 N^2이하의 알고리즘 모두 사용가능\n"
   ]
  },
  {
   "cell_type": "code",
   "execution_count": 6,
   "metadata": {},
   "outputs": [
    {
     "ename": "ValueError",
     "evalue": "not enough values to unpack (expected 2, got 0)",
     "output_type": "error",
     "traceback": [
      "\u001B[1;31m---------------------------------------------------------------------------\u001B[0m",
      "\u001B[1;31mValueError\u001B[0m                                Traceback (most recent call last)",
      "\u001B[1;32m~\\AppData\\Local\\Temp\\ipykernel_1300\\686719553.py\u001B[0m in \u001B[0;36m<module>\u001B[1;34m\u001B[0m\n\u001B[0;32m      2\u001B[0m \u001B[0msys\u001B[0m\u001B[1;33m.\u001B[0m\u001B[0msetrecursionlimit\u001B[0m\u001B[1;33m(\u001B[0m\u001B[1;36m10000\u001B[0m\u001B[1;33m)\u001B[0m\u001B[1;33m\u001B[0m\u001B[1;33m\u001B[0m\u001B[0m\n\u001B[0;32m      3\u001B[0m \u001B[0minput\u001B[0m \u001B[1;33m=\u001B[0m \u001B[0msys\u001B[0m\u001B[1;33m.\u001B[0m\u001B[0mstdin\u001B[0m\u001B[1;33m.\u001B[0m\u001B[0mreadline\u001B[0m\u001B[1;33m\u001B[0m\u001B[1;33m\u001B[0m\u001B[0m\n\u001B[1;32m----> 4\u001B[1;33m \u001B[0mn\u001B[0m\u001B[1;33m,\u001B[0m \u001B[0mm\u001B[0m \u001B[1;33m=\u001B[0m \u001B[0mmap\u001B[0m\u001B[1;33m(\u001B[0m\u001B[0mint\u001B[0m\u001B[1;33m,\u001B[0m \u001B[0minput\u001B[0m\u001B[1;33m(\u001B[0m\u001B[1;33m)\u001B[0m\u001B[1;33m.\u001B[0m\u001B[0msplit\u001B[0m\u001B[1;33m(\u001B[0m\u001B[1;33m)\u001B[0m\u001B[1;33m)\u001B[0m\u001B[1;33m\u001B[0m\u001B[1;33m\u001B[0m\u001B[0m\n\u001B[0m\u001B[0;32m      5\u001B[0m \u001B[0mA\u001B[0m \u001B[1;33m=\u001B[0m \u001B[1;33m[\u001B[0m\u001B[1;33m[\u001B[0m\u001B[1;33m]\u001B[0m\u001B[1;32mfor\u001B[0m \u001B[0m_\u001B[0m \u001B[1;32min\u001B[0m \u001B[0mrange\u001B[0m\u001B[1;33m(\u001B[0m\u001B[0mn\u001B[0m\u001B[1;33m+\u001B[0m\u001B[1;36m1\u001B[0m\u001B[1;33m)\u001B[0m\u001B[1;33m]\u001B[0m\u001B[1;33m\u001B[0m\u001B[1;33m\u001B[0m\u001B[0m\n\u001B[0;32m      6\u001B[0m \u001B[0mvisited\u001B[0m \u001B[1;33m=\u001B[0m \u001B[1;33m[\u001B[0m\u001B[1;32mFalse\u001B[0m\u001B[1;33m]\u001B[0m \u001B[1;33m*\u001B[0m \u001B[1;33m(\u001B[0m\u001B[0mn\u001B[0m\u001B[1;33m+\u001B[0m\u001B[1;36m1\u001B[0m\u001B[1;33m)\u001B[0m\u001B[1;33m\u001B[0m\u001B[1;33m\u001B[0m\u001B[0m\n",
      "\u001B[1;31mValueError\u001B[0m: not enough values to unpack (expected 2, got 0)"
     ]
    }
   ],
   "source": [
    "import sys\n",
    "sys.setrecursionlimit(10000)\n",
    "input = sys.stdin.readline # 노트북에서는 해당 셀 지우기()readline안먹힘\n",
    "n, m = map(int, input().split())\n",
    "A = [[]for _ in range(n+1)]\n",
    "visited = [False] * (n+1)\n",
    "def DFS(v):\n",
    "    visited[v] = True\n",
    "    for i in A[v]:\n",
    "        if not visited[i]:\n",
    "            DFS(i)\n",
    "\n",
    "for _ in range(m):\n",
    "    s, e= map(int,input().split())\n",
    "    A[s].append(e)\n",
    "    A[e].append(s)\n",
    "\n",
    "count = 0\n",
    "for i in range(1,n+1):\n",
    "    if not visited[i]:\n",
    "        count += 1\n",
    "        DFS(i)\n",
    "\n",
    "print(count)"
   ]
  },
  {
   "cell_type": "code",
   "execution_count": 71,
   "metadata": {},
   "outputs": [
    {
     "name": "stdout",
     "output_type": "stream",
     "text": [
      "6 8\n",
      "1 2\n",
      "2 5\n",
      "5 1\n",
      "3 4\n",
      "4 6\n",
      "5 4\n",
      "2 4\n",
      "2 3\n",
      "1\n"
     ]
    }
   ],
   "source": [
    "n, m = map(int, input().split())\n",
    "A = [[]for _ in range(n+1)]\n",
    "visited = [False] * (n+1)\n",
    "def DFS(v):\n",
    "    visited[v] = True\n",
    "    for i in A[v]:\n",
    "        if not visited[i]:\n",
    "            DFS(i)\n",
    "\n",
    "for _ in range(m):\n",
    "    s, e= map(int,input().split())\n",
    "    A[s].append(e)\n",
    "    A[e].append(s)\n",
    "\n",
    "count = 0\n",
    "for i in range(1,n+1):\n",
    "    if not visited[i]:\n",
    "        count += 1\n",
    "        DFS(i)\n",
    "\n",
    "print(count)"
   ]
  },
  {
   "cell_type": "code",
   "execution_count": 73,
   "metadata": {},
   "outputs": [
    {
     "data": {
      "text/plain": [
       "2"
      ]
     },
     "execution_count": 73,
     "metadata": {},
     "output_type": "execute_result"
    }
   ],
   "source": [
    "s\n"
   ]
  },
  {
   "cell_type": "code",
   "execution_count": 74,
   "metadata": {},
   "outputs": [
    {
     "data": {
      "text/plain": [
       "3"
      ]
     },
     "execution_count": 74,
     "metadata": {},
     "output_type": "execute_result"
    }
   ],
   "source": [
    "e"
   ]
  },
  {
   "cell_type": "code",
   "execution_count": 72,
   "metadata": {},
   "outputs": [
    {
     "data": {
      "text/plain": [
       "[[], [2, 5], [1, 5, 4, 3], [4, 2], [3, 6, 5, 2], [2, 1, 4], [4]]"
      ]
     },
     "execution_count": 72,
     "metadata": {},
     "output_type": "execute_result"
    }
   ],
   "source": [
    "A"
   ]
  },
  {
   "cell_type": "markdown",
   "metadata": {},
   "source": [
    "## 백준 2116번\n",
    "#주사위 쌓기\n",
    "https://www.acmicpc.net/problem/2116"
   ]
  },
  {
   "cell_type": "code",
   "execution_count": null,
   "metadata": {},
   "outputs": [],
   "source": [
    "N = int(input())\n",
    "dice = []\n",
    "for _ in range(N):\n",
    "    dice.append(list(map(int, input().split())))\n"
   ]
  },
  {
   "cell_type": "code",
   "execution_count": null,
   "metadata": {},
   "outputs": [],
   "source": [
    "N = 5"
   ]
  },
  {
   "cell_type": "code",
   "execution_count": null,
   "metadata": {},
   "outputs": [],
   "source": [
    "모든 주사위 서칭해서 가장 작은 값끼리 연결 해야함.\n",
    "옆면의 합이 max가 되어야 함.\n",
    "a0-f5, c2-e4, b1-d3가 서로 쌍으로 됨.(위, 아래)\n",
    "a0 b1 c2 d3 e4 f5"
   ]
  },
  {
   "cell_type": "code",
   "execution_count": null,
   "metadata": {},
   "outputs": [],
   "source": []
  },
  {
   "cell_type": "code",
   "execution_count": 78,
   "metadata": {},
   "outputs": [
    {
     "data": {
      "text/plain": [
       "[[2, 3, 1, 6, 5, 4],\n",
       " [3, 1, 2, 4, 6, 5],\n",
       " [5, 6, 4, 1, 3, 2],\n",
       " [1, 3, 6, 2, 4, 5],\n",
       " [4, 1, 6, 5, 2, 3]]"
      ]
     },
     "execution_count": 78,
     "metadata": {},
     "output_type": "execute_result"
    }
   ],
   "source": [
    "dice = \n",
    "[[2, 3, 1, 6, 5, 4],\n",
    " [3, 1, 2, 4, 6, 5],\n",
    " [5, 6, 4, 1, 3, 2],\n",
    " [1, 3, 6, 2, 4, 5],\n",
    " [4, 1, 6, 5, 2, 3]]"
   ]
  },
  {
   "cell_type": "code",
   "execution_count": null,
   "metadata": {},
   "outputs": [],
   "source": [
    "find_max_val = [] # max 값 찾기 위해 저장"
   ]
  },
  {
   "cell_type": "code",
   "execution_count": null,
   "metadata": {},
   "outputs": [],
   "source": []
  },
  {
   "cell_type": "code",
   "execution_count": null,
   "metadata": {},
   "outputs": [],
   "source": []
  },
  {
   "cell_type": "code",
   "execution_count": null,
   "metadata": {},
   "outputs": [],
   "source": [
    "for i in range(6)\n",
    "    "
   ]
  },
  {
   "cell_type": "code",
   "execution_count": null,
   "metadata": {},
   "outputs": [],
   "source": []
  },
  {
   "cell_type": "code",
   "execution_count": null,
   "metadata": {},
   "outputs": [],
   "source": [
    "N = 5\n",
    "dice = [[2, 3, 1, 6, 5, 4],\n",
    " [3, 1, 2, 4, 6, 5],\n",
    " [5, 6, 4, 1, 3, 2],\n",
    " [1, 3, 6, 2, 4, 5],\n",
    " [4, 1, 6, 5, 2, 3]]\n",
    "rotate = {0 : 5, 1 : 3, 2 : 4, 3 : 1, 4 : 2, 5 : 0} # 주사위의 아랫면에 따른 윗면 로테이션 등록(리스트 인덱스 기준)\n",
    "maxnum = 0 # 최대값을 저장해둘 상수 선언"
   ]
  },
  {
   "cell_type": "code",
   "execution_count": null,
   "metadata": {},
   "outputs": [],
   "source": [
    "i= 0\n",
    "result = [] #각 주사위마다 옆면의 최대값 1개를 저장해둘 리스트 선언\n",
    "temp = [1, 2, 3, 4, 5, 6] # 주사위 각 면에 써져있는 1~6\n",
    "temp.remove(dice[0][i]) # 주사위 아랫면의 숫자 제거\n",
    "next = dice[0][rotate[i]] # 첫 번째 주사위의 윗면 값 계산\n",
    "temp.remove(next) # 첫 번째 주사위의 윗면 값 삭제\n",
    "result.append(max(temp)) # 첫 번째 주사위의 옆면들 중 가장 큰 값 삽입\n",
    "\n",
    "\n",
    "\n"
   ]
  },
  {
   "cell_type": "code",
   "execution_count": null,
   "metadata": {},
   "outputs": [],
   "source": [
    "    for j in range(1, N): # 두 번째 주사위부터 마지막 주사위까지 반복\n",
    "        temp = [1, 2, 3, 4, 5, 6]\n",
    "        temp.remove(next) # 현재 주사위의 아랫면 숫자 제거\n",
    "        next = dice[j][rotate[dice[j].index(next)]] # 현재 주사위의 윗면 계산\n",
    "        temp.remove(next) # 현재 주사위의 윗면 삭제\n",
    "        result.append(max(temp)) # 현재 주사위의 옆면들 중 가장 큰 값 삽입\n",
    "    result = sum(result) # 각 주사위마다의 최대값을 모두 더한다.\n",
    "    if maxnum < result: # 이전의 최대값과 현재의 최대값을 비교하여 더 큰 값을 저장한다.\n",
    "        maxnum = result\n",
    "\n",
    "print(maxnum)"
   ]
  },
  {
   "cell_type": "code",
   "execution_count": null,
   "metadata": {},
   "outputs": [],
   "source": []
  },
  {
   "cell_type": "code",
   "execution_count": null,
   "metadata": {},
   "outputs": [],
   "source": []
  },
  {
   "cell_type": "code",
   "execution_count": 128,
   "metadata": {},
   "outputs": [
    {
     "ename": "KeyboardInterrupt",
     "evalue": "Interrupted by user",
     "output_type": "error",
     "traceback": [
      "\u001B[1;31m---------------------------------------------------------------------------\u001B[0m",
      "\u001B[1;31mKeyboardInterrupt\u001B[0m                         Traceback (most recent call last)",
      "Input \u001B[1;32mIn [128]\u001B[0m, in \u001B[0;36m<cell line: 7>\u001B[1;34m()\u001B[0m\n\u001B[0;32m      2\u001B[0m dice \u001B[38;5;241m=\u001B[39m [[\u001B[38;5;241m2\u001B[39m, \u001B[38;5;241m3\u001B[39m, \u001B[38;5;241m1\u001B[39m, \u001B[38;5;241m6\u001B[39m, \u001B[38;5;241m5\u001B[39m, \u001B[38;5;241m4\u001B[39m],\n\u001B[0;32m      3\u001B[0m  [\u001B[38;5;241m3\u001B[39m, \u001B[38;5;241m1\u001B[39m, \u001B[38;5;241m2\u001B[39m, \u001B[38;5;241m4\u001B[39m, \u001B[38;5;241m6\u001B[39m, \u001B[38;5;241m5\u001B[39m],\n\u001B[0;32m      4\u001B[0m  [\u001B[38;5;241m5\u001B[39m, \u001B[38;5;241m6\u001B[39m, \u001B[38;5;241m4\u001B[39m, \u001B[38;5;241m1\u001B[39m, \u001B[38;5;241m3\u001B[39m, \u001B[38;5;241m2\u001B[39m],\n\u001B[0;32m      5\u001B[0m  [\u001B[38;5;241m1\u001B[39m, \u001B[38;5;241m3\u001B[39m, \u001B[38;5;241m6\u001B[39m, \u001B[38;5;241m2\u001B[39m, \u001B[38;5;241m4\u001B[39m, \u001B[38;5;241m5\u001B[39m],\n\u001B[0;32m      6\u001B[0m  [\u001B[38;5;241m4\u001B[39m, \u001B[38;5;241m1\u001B[39m, \u001B[38;5;241m6\u001B[39m, \u001B[38;5;241m5\u001B[39m, \u001B[38;5;241m2\u001B[39m, \u001B[38;5;241m3\u001B[39m]]\n\u001B[0;32m      7\u001B[0m \u001B[38;5;28;01mfor\u001B[39;00m _ \u001B[38;5;129;01min\u001B[39;00m \u001B[38;5;28mrange\u001B[39m(N):\n\u001B[1;32m----> 8\u001B[0m     dice\u001B[38;5;241m.\u001B[39mappend(\u001B[38;5;28mlist\u001B[39m(\u001B[38;5;28mmap\u001B[39m(\u001B[38;5;28mint\u001B[39m, \u001B[38;5;28;43minput\u001B[39;49m\u001B[43m(\u001B[49m\u001B[43m)\u001B[49m\u001B[38;5;241m.\u001B[39msplit())))\n\u001B[0;32m      9\u001B[0m rotate \u001B[38;5;241m=\u001B[39m {\u001B[38;5;241m0\u001B[39m : \u001B[38;5;241m5\u001B[39m, \u001B[38;5;241m1\u001B[39m : \u001B[38;5;241m3\u001B[39m, \u001B[38;5;241m2\u001B[39m : \u001B[38;5;241m4\u001B[39m, \u001B[38;5;241m3\u001B[39m : \u001B[38;5;241m1\u001B[39m, \u001B[38;5;241m4\u001B[39m : \u001B[38;5;241m2\u001B[39m, \u001B[38;5;241m5\u001B[39m : \u001B[38;5;241m0\u001B[39m} \u001B[38;5;66;03m# 주사위의 아랫면에 따른 윗면 로테이션 등록(리스트 인덱스 기준)\u001B[39;00m\n\u001B[0;32m     11\u001B[0m maxnum \u001B[38;5;241m=\u001B[39m \u001B[38;5;241m0\u001B[39m \u001B[38;5;66;03m# 최대값을 저장해둘 상수 선언\u001B[39;00m\n",
      "File \u001B[1;32m~\\anaconda3\\lib\\site-packages\\ipykernel\\kernelbase.py:1075\u001B[0m, in \u001B[0;36mKernel.raw_input\u001B[1;34m(self, prompt)\u001B[0m\n\u001B[0;32m   1071\u001B[0m \u001B[38;5;28;01mif\u001B[39;00m \u001B[38;5;129;01mnot\u001B[39;00m \u001B[38;5;28mself\u001B[39m\u001B[38;5;241m.\u001B[39m_allow_stdin:\n\u001B[0;32m   1072\u001B[0m     \u001B[38;5;28;01mraise\u001B[39;00m StdinNotImplementedError(\n\u001B[0;32m   1073\u001B[0m         \u001B[38;5;124m\"\u001B[39m\u001B[38;5;124mraw_input was called, but this frontend does not support input requests.\u001B[39m\u001B[38;5;124m\"\u001B[39m\n\u001B[0;32m   1074\u001B[0m     )\n\u001B[1;32m-> 1075\u001B[0m \u001B[38;5;28;01mreturn\u001B[39;00m \u001B[38;5;28;43mself\u001B[39;49m\u001B[38;5;241;43m.\u001B[39;49m\u001B[43m_input_request\u001B[49m\u001B[43m(\u001B[49m\n\u001B[0;32m   1076\u001B[0m \u001B[43m    \u001B[49m\u001B[38;5;28;43mstr\u001B[39;49m\u001B[43m(\u001B[49m\u001B[43mprompt\u001B[49m\u001B[43m)\u001B[49m\u001B[43m,\u001B[49m\n\u001B[0;32m   1077\u001B[0m \u001B[43m    \u001B[49m\u001B[38;5;28;43mself\u001B[39;49m\u001B[38;5;241;43m.\u001B[39;49m\u001B[43m_parent_ident\u001B[49m\u001B[43m[\u001B[49m\u001B[38;5;124;43m\"\u001B[39;49m\u001B[38;5;124;43mshell\u001B[39;49m\u001B[38;5;124;43m\"\u001B[39;49m\u001B[43m]\u001B[49m\u001B[43m,\u001B[49m\n\u001B[0;32m   1078\u001B[0m \u001B[43m    \u001B[49m\u001B[38;5;28;43mself\u001B[39;49m\u001B[38;5;241;43m.\u001B[39;49m\u001B[43mget_parent\u001B[49m\u001B[43m(\u001B[49m\u001B[38;5;124;43m\"\u001B[39;49m\u001B[38;5;124;43mshell\u001B[39;49m\u001B[38;5;124;43m\"\u001B[39;49m\u001B[43m)\u001B[49m\u001B[43m,\u001B[49m\n\u001B[0;32m   1079\u001B[0m \u001B[43m    \u001B[49m\u001B[43mpassword\u001B[49m\u001B[38;5;241;43m=\u001B[39;49m\u001B[38;5;28;43;01mFalse\u001B[39;49;00m\u001B[43m,\u001B[49m\n\u001B[0;32m   1080\u001B[0m \u001B[43m\u001B[49m\u001B[43m)\u001B[49m\n",
      "File \u001B[1;32m~\\anaconda3\\lib\\site-packages\\ipykernel\\kernelbase.py:1120\u001B[0m, in \u001B[0;36mKernel._input_request\u001B[1;34m(self, prompt, ident, parent, password)\u001B[0m\n\u001B[0;32m   1117\u001B[0m             \u001B[38;5;28;01mbreak\u001B[39;00m\n\u001B[0;32m   1118\u001B[0m \u001B[38;5;28;01mexcept\u001B[39;00m \u001B[38;5;167;01mKeyboardInterrupt\u001B[39;00m:\n\u001B[0;32m   1119\u001B[0m     \u001B[38;5;66;03m# re-raise KeyboardInterrupt, to truncate traceback\u001B[39;00m\n\u001B[1;32m-> 1120\u001B[0m     \u001B[38;5;28;01mraise\u001B[39;00m \u001B[38;5;167;01mKeyboardInterrupt\u001B[39;00m(\u001B[38;5;124m\"\u001B[39m\u001B[38;5;124mInterrupted by user\u001B[39m\u001B[38;5;124m\"\u001B[39m) \u001B[38;5;28;01mfrom\u001B[39;00m \u001B[38;5;28mNone\u001B[39m\n\u001B[0;32m   1121\u001B[0m \u001B[38;5;28;01mexcept\u001B[39;00m \u001B[38;5;167;01mException\u001B[39;00m:\n\u001B[0;32m   1122\u001B[0m     \u001B[38;5;28mself\u001B[39m\u001B[38;5;241m.\u001B[39mlog\u001B[38;5;241m.\u001B[39mwarning(\u001B[38;5;124m\"\u001B[39m\u001B[38;5;124mInvalid Message:\u001B[39m\u001B[38;5;124m\"\u001B[39m, exc_info\u001B[38;5;241m=\u001B[39m\u001B[38;5;28;01mTrue\u001B[39;00m)\n",
      "\u001B[1;31mKeyboardInterrupt\u001B[0m: Interrupted by user"
     ]
    }
   ],
   "source": [
    "for i in range(6): # 첫 번째 주사위를 기준으로 1~6까지 모두 순회\n",
    "    result = [] #각 주사위마다 옆면의 최대값 1개를 저장해둘 리스트 선언\n",
    "    temp = [1, 2, 3, 4, 5, 6] # 주사위 각 면에 써져있는 1~6\n",
    "    temp.remove(dice[0][i]) # 주사위 아랫면의 숫자 제거\n",
    "    next = dice[0][rotate[i]] # 첫 번째 주사위의 윗면 값 계산\n",
    "    temp.remove(next) # 첫 번째 주사위의 윗면 값 삭제\n",
    "    result.append(max(temp)) # 첫 번째 주사위의 옆면들 중 가장 큰 값 삽입\n",
    "    for j in range(1, N): # 두 번째 주사위부터 마지막 주사위까지 반복\n",
    "        temp = [1, 2, 3, 4, 5, 6]\n",
    "        temp.remove(next) # 현재 주사위의 아랫면 숫자 제거\n",
    "        next = dice[j][rotate[dice[j].index(next)]] # 현재 주사위의 윗면 계산\n",
    "        temp.remove(next) # 현재 주사위의 윗면 삭제\n",
    "        result.append(max(temp)) # 현재 주사위의 옆면들 중 가장 큰 값 삽입\n",
    "    result = sum(result) # 각 주사위마다의 최대값을 모두 더한다.\n",
    "    if maxnum < result: # 이전의 최대값과 현재의 최대값을 비교하여 더 큰 값을 저장한다.\n",
    "        maxnum = result\n",
    "\n",
    "print(maxnum)"
   ]
  },
  {
   "cell_type": "code",
   "execution_count": null,
   "metadata": {},
   "outputs": [],
   "source": []
  },
  {
   "cell_type": "code",
   "execution_count": null,
   "metadata": {},
   "outputs": [],
   "source": []
  },
  {
   "cell_type": "code",
   "execution_count": null,
   "metadata": {},
   "outputs": [],
   "source": []
  },
  {
   "cell_type": "code",
   "execution_count": null,
   "metadata": {},
   "outputs": [],
   "source": []
  },
  {
   "cell_type": "code",
   "execution_count": null,
   "metadata": {},
   "outputs": [],
   "source": []
  },
  {
   "cell_type": "code",
   "execution_count": null,
   "metadata": {},
   "outputs": [],
   "source": []
  },
  {
   "cell_type": "code",
   "execution_count": null,
   "metadata": {},
   "outputs": [],
   "source": []
  },
  {
   "cell_type": "code",
   "execution_count": null,
   "metadata": {},
   "outputs": [],
   "source": []
  },
  {
   "cell_type": "code",
   "execution_count": 76,
   "metadata": {},
   "outputs": [
    {
     "name": "stdout",
     "output_type": "stream",
     "text": [
      "5\n",
      "2 3 1 6 5 4\n",
      "3 1 2 4 6 5\n",
      "5 6 4 1 3 2\n",
      "1 3 6 2 4 5\n",
      "4 1 6 5 2 3\n",
      "29\n"
     ]
    }
   ],
   "source": [
    "N = int(input())\n",
    "dice = []\n",
    "for _ in range(N):\n",
    "    dice.append(list(map(int, input().split())))\n",
    "rotate = {0 : 5, 1 : 3, 2 : 4, 3 : 1, 4 : 2, 5 : 0} # 주사위의 아랫면에 따른 윗면 로테이션 등록(리스트 인덱스 기준)\n",
    "\n",
    "maxnum = 0 # 최대값을 저장해둘 상수 선언\n",
    "for i in range(6): # 첫 번째 주사위를 기준으로 1~6까지 모두 순회\n",
    "    result = [] #각 주사위마다 옆면의 최대값 1개를 저장해둘 리스트 선언\n",
    "    temp = [1, 2, 3, 4, 5, 6] # 주사위 각 면에 써져있는 1~6\n",
    "    temp.remove(dice[0][i]) # 주사위 아랫면의 숫자 제거\n",
    "    next = dice[0][rotate[i]] # 첫 번째 주사위의 윗면 값 계산\n",
    "    temp.remove(next) # 첫 번째 주사위의 윗면 값 삭제\n",
    "    result.append(max(temp)) # 첫 번째 주사위의 옆면들 중 가장 큰 값 삽입\n",
    "    for j in range(1, N): # 두 번째 주사위부터 마지막 주사위까지 반복\n",
    "        temp = [1, 2, 3, 4, 5, 6]\n",
    "        temp.remove(next) # 현재 주사위의 아랫면 숫자 제거\n",
    "        next = dice[j][rotate[dice[j].index(next)]] # 현재 주사위의 윗면 계산\n",
    "        temp.remove(next) # 현재 주사위의 윗면 삭제\n",
    "        result.append(max(temp)) # 현재 주사위의 옆면들 중 가장 큰 값 삽입\n",
    "    result = sum(result) # 각 주사위마다의 최대값을 모두 더한다.\n",
    "    if maxnum < result: # 이전의 최대값과 현재의 최대값을 비교하여 더 큰 값을 저장한다.\n",
    "        maxnum = result\n",
    "\n",
    "print(maxnum)"
   ]
  },
  {
   "cell_type": "code",
   "execution_count": 77,
   "metadata": {},
   "outputs": [
    {
     "data": {
      "text/plain": [
       "[[2, 3, 1, 6, 5, 4],\n",
       " [3, 1, 2, 4, 6, 5],\n",
       " [5, 6, 4, 1, 3, 2],\n",
       " [1, 3, 6, 2, 4, 5],\n",
       " [4, 1, 6, 5, 2, 3]]"
      ]
     },
     "execution_count": 77,
     "metadata": {},
     "output_type": "execute_result"
    }
   ],
   "source": [
    "dice"
   ]
  },
  {
   "cell_type": "markdown",
   "metadata": {},
   "source": [
    "## 백준 2563 색종이 https://www.acmicpc.net/problem/2563\n"
   ]
  },
  {
   "cell_type": "code",
   "execution_count": 75,
   "metadata": {},
   "outputs": [
    {
     "name": "stdout",
     "output_type": "stream",
     "text": [
      "3\n"
     ]
    }
   ],
   "source": [
    "import sys\n",
    "sys.setrecursionlimit(10000)\n",
    "input = sys.stdin.readline # 노트북에서는 해당 셀 지우기()readline안먹힘"
   ]
  },
  {
   "cell_type": "code",
   "execution_count": 312,
   "metadata": {},
   "outputs": [
    {
     "name": "stdout",
     "output_type": "stream",
     "text": [
      "5\n",
      "2 5\n",
      "2 5\n",
      "8 9\n",
      "7 8\n",
      "5 5\n"
     ]
    }
   ],
   "source": [
    "n = int(input())\n",
    "paper = []\n",
    "for i in range(n):\n",
    "    paper.append(list(map(int, input().split())))\n",
    "#     paper.append(list(map(int,input().split())))"
   ]
  },
  {
   "cell_type": "code",
   "execution_count": 313,
   "metadata": {},
   "outputs": [
    {
     "name": "stdout",
     "output_type": "stream",
     "text": [
      "[[2, 5], [2, 5]]\n",
      "0 0 400\n",
      "[[2, 5], [8, 9]]\n",
      "6 4 376\n",
      "[[2, 5], [7, 8]]\n",
      "5 3 341\n",
      "[[2, 5], [5, 5]]\n",
      "3 0 271\n",
      "[[2, 5], [8, 9]]\n",
      "6 4 247\n",
      "[[2, 5], [7, 8]]\n",
      "5 3 212\n",
      "[[2, 5], [5, 5]]\n",
      "3 0 142\n",
      "[[8, 9], [7, 8]]\n",
      "1 1 61\n",
      "[[8, 9], [5, 5]]\n",
      "3 4 19\n",
      "[[7, 8], [5, 5]]\n",
      "2 3 -37\n",
      "-37\n"
     ]
    }
   ],
   "source": [
    "before_result = sum([10 * 10 for i in range(n)]) # 색종이 수 - 곂치는 넓이.\n",
    "\n",
    "def comb(arr, n): # 재귀함수를 통한 조합\n",
    "    result = []\n",
    "    if n > len(arr):\n",
    "        return result\n",
    "\n",
    "    if n == 1:\n",
    "        for i in arr:\n",
    "            result.append([i])\n",
    "            \n",
    "    elif n > 1:\n",
    "        for i in range(len(arr) - n + 1):\n",
    "            for j in comb(arr[i + 1:], n - 1):\n",
    "                result.append([arr[i]] + j)\n",
    "\n",
    "    return result\n",
    "    \n",
    "A = (comb(paper, 2))  # [[1, 2], [1, 3], [2, 3]]\n",
    "\n",
    "for k in range(len(A)): # 곂치는 애들끼리 뺌\n",
    "    i,j = A[k]\n",
    "    aa = abs(i[0] - j[0])\n",
    "    bb = abs(j[1] - i[1])\n",
    "\n",
    "    if aa<10 and bb<10:\n",
    "        print(A[k])\n",
    "        \n",
    "        before_result = before_result - (10 - aa) * (10 - bb)\n",
    "        print(aa,bb,before_result)\n",
    "    elif aa == bb:\n",
    "        before_result = before_result - 100\n",
    "print(before_result)\n",
    "\n",
    "## 문제점 같은 경우에 큰일 남. ㅋㅋ;"
   ]
  },
  {
   "cell_type": "code",
   "execution_count": 315,
   "metadata": {},
   "outputs": [
    {
     "data": {
      "text/plain": [
       "[[2, 5], [2, 5], [8, 9], [7, 8], [5, 5]]"
      ]
     },
     "execution_count": 315,
     "metadata": {},
     "output_type": "execute_result"
    }
   ],
   "source": [
    "paper"
   ]
  },
  {
   "cell_type": "code",
   "execution_count": 314,
   "metadata": {},
   "outputs": [
    {
     "data": {
      "text/plain": [
       "[[[2, 5], [2, 5]],\n",
       " [[2, 5], [8, 9]],\n",
       " [[2, 5], [7, 8]],\n",
       " [[2, 5], [5, 5]],\n",
       " [[2, 5], [8, 9]],\n",
       " [[2, 5], [7, 8]],\n",
       " [[2, 5], [5, 5]],\n",
       " [[8, 9], [7, 8]],\n",
       " [[8, 9], [5, 5]],\n",
       " [[7, 8], [5, 5]]]"
      ]
     },
     "execution_count": 314,
     "metadata": {},
     "output_type": "execute_result"
    }
   ],
   "source": [
    "A"
   ]
  },
  {
   "cell_type": "code",
   "execution_count": 304,
   "metadata": {},
   "outputs": [
    {
     "data": {
      "text/plain": [
       "3"
      ]
     },
     "execution_count": 304,
     "metadata": {},
     "output_type": "execute_result"
    }
   ],
   "source": []
  },
  {
   "cell_type": "code",
   "execution_count": 307,
   "metadata": {},
   "outputs": [
    {
     "name": "stdout",
     "output_type": "stream",
     "text": [
      "260\n"
     ]
    }
   ],
   "source": []
  },
  {
   "cell_type": "code",
   "execution_count": 290,
   "metadata": {},
   "outputs": [
    {
     "data": {
      "text/plain": [
       "2"
      ]
     },
     "execution_count": 290,
     "metadata": {},
     "output_type": "execute_result"
    }
   ],
   "source": []
  },
  {
   "cell_type": "code",
   "execution_count": 289,
   "metadata": {},
   "outputs": [
    {
     "data": {
      "text/plain": [
       "[[15, 7], [5, 2]]"
      ]
     },
     "execution_count": 289,
     "metadata": {},
     "output_type": "execute_result"
    }
   ],
   "source": []
  },
  {
   "cell_type": "code",
   "execution_count": 291,
   "metadata": {},
   "outputs": [
    {
     "ename": "TypeError",
     "evalue": "'list' object cannot be interpreted as an integer",
     "output_type": "error",
     "traceback": [
      "\u001B[1;31m---------------------------------------------------------------------------\u001B[0m",
      "\u001B[1;31mTypeError\u001B[0m                                 Traceback (most recent call last)",
      "Input \u001B[1;32mIn [291]\u001B[0m, in \u001B[0;36m<cell line: 1>\u001B[1;34m()\u001B[0m\n\u001B[1;32m----> 1\u001B[0m \u001B[38;5;28;01mfor\u001B[39;00m k \u001B[38;5;129;01min\u001B[39;00m \u001B[38;5;28;43mrange\u001B[39;49m\u001B[43m(\u001B[49m\u001B[43mpaper\u001B[49m\u001B[43m)\u001B[49m: \u001B[38;5;66;03m# 곂치는 애들끼리 뺌\u001B[39;00m\n\u001B[0;32m      3\u001B[0m     i,j \u001B[38;5;241m=\u001B[39m A[k]\n\u001B[0;32m      4\u001B[0m     \u001B[38;5;28mprint\u001B[39m(i)\n",
      "\u001B[1;31mTypeError\u001B[0m: 'list' object cannot be interpreted as an integer"
     ]
    }
   ],
   "source": [
    "for k in range(n): # 곂치는 애들끼리 뺌\n",
    "    i,j = A[k]\n",
    "    aa = abs(A[0][0][0] - A[0][1][0])\n",
    "    bb = abs(A[0][1][1] - A[0][0][1])\n",
    "\n",
    "    if aa<=10 and bb<=10:\n",
    "        before_result = before_result - (10 - aa) * (10 - bb)\n",
    "print(before_result)"
   ]
  },
  {
   "cell_type": "code",
   "execution_count": null,
   "metadata": {},
   "outputs": [],
   "source": []
  },
  {
   "cell_type": "code",
   "execution_count": null,
   "metadata": {},
   "outputs": [],
   "source": []
  },
  {
   "cell_type": "code",
   "execution_count": null,
   "metadata": {},
   "outputs": [],
   "source": []
  },
  {
   "cell_type": "code",
   "execution_count": 227,
   "metadata": {},
   "outputs": [
    {
     "name": "stdout",
     "output_type": "stream",
     "text": [
      "260\n"
     ]
    }
   ],
   "source": [
    "for k in range(n): # 곂치는 애들끼리 뺌\n",
    "    i,j = A[k]\n",
    "    aaaa= ((10 - abs(paper[i][0] - paper[j][0])) * (10 - abs(paper[j][1] - paper[i][1]))) # 곂치는 부분\n",
    "    if aaaa >= 0:\n",
    "        before_result = before_result - aaaa\n",
    "    \n",
    "    \n",
    "print(before_result)"
   ]
  },
  {
   "cell_type": "code",
   "execution_count": 228,
   "metadata": {},
   "outputs": [],
   "source": []
  },
  {
   "cell_type": "code",
   "execution_count": null,
   "metadata": {},
   "outputs": [],
   "source": []
  },
  {
   "cell_type": "code",
   "execution_count": null,
   "metadata": {},
   "outputs": [],
   "source": []
  },
  {
   "cell_type": "code",
   "execution_count": null,
   "metadata": {},
   "outputs": [],
   "source": []
  },
  {
   "cell_type": "code",
   "execution_count": 216,
   "metadata": {},
   "outputs": [
    {
     "name": "stdout",
     "output_type": "stream",
     "text": [
      "260\n"
     ]
    }
   ],
   "source": [
    "for i in range(n): # 곂치는 애들끼리 뺌\n",
    "    i,j = A[i]\n",
    "    \n",
    "    if (paper[i][1] <= paper[j][1]+ 10 <= paper[i][1]+10) or (paper[i][1] <= paper[j][1] <= paper[i][1]+10) and ((paper[i][0] <= paper[j][0] <= paper[i][0] + 10) ) or (paper[i][0] <= paper[j][0] +10 <= paper[i][0]+ 10): # x좌표 끼리 범위 내로 들어오가나 , y좌표 끼리 범위내로 들어와야 함.\n",
    "#         print(i,j)\n",
    "        aaaa= ((10 - abs(paper[i][0] - paper[j][0])) * (10 - abs(paper[j][1] - paper[i][1]))) # 곂치는 부분\n",
    "        if aaaa > 0:\n",
    "            before_result = before_result - aaaa\n",
    "        \n",
    "    \n",
    "print(before_result)"
   ]
  },
  {
   "cell_type": "code",
   "execution_count": 211,
   "metadata": {},
   "outputs": [
    {
     "name": "stdout",
     "output_type": "stream",
     "text": [
      "200\n"
     ]
    }
   ],
   "source": []
  },
  {
   "cell_type": "code",
   "execution_count": 172,
   "metadata": {},
   "outputs": [
    {
     "name": "stdout",
     "output_type": "stream",
     "text": [
      "wow\n"
     ]
    }
   ],
   "source": []
  },
  {
   "cell_type": "code",
   "execution_count": 188,
   "metadata": {},
   "outputs": [
    {
     "data": {
      "text/plain": [
       "40"
      ]
     },
     "execution_count": 188,
     "metadata": {},
     "output_type": "execute_result"
    }
   ],
   "source": []
  },
  {
   "cell_type": "code",
   "execution_count": null,
   "metadata": {},
   "outputs": [],
   "source": []
  },
  {
   "cell_type": "code",
   "execution_count": null,
   "outputs": [],
   "source": [
    "2116\n",
    "2563\n",
    "2564\n",
    "2578\n",
    "2605\n",
    "2628\n",
    "2669\n",
    "13300\n",
    "14696\n",
    "2567"
   ],
   "metadata": {
    "collapsed": false
   }
  },
  {
   "cell_type": "code",
   "execution_count": null,
   "metadata": {},
   "outputs": [],
   "source": []
  },
  {
   "cell_type": "code",
   "execution_count": null,
   "metadata": {},
   "outputs": [],
   "source": []
  },
  {
   "cell_type": "code",
   "execution_count": null,
   "metadata": {},
   "outputs": [],
   "source": []
  },
  {
   "cell_type": "code",
   "execution_count": null,
   "metadata": {},
   "outputs": [],
   "source": []
  },
  {
   "cell_type": "code",
   "execution_count": null,
   "metadata": {},
   "outputs": [],
   "source": []
  },
  {
   "cell_type": "code",
   "execution_count": null,
   "metadata": {},
   "outputs": [],
   "source": []
  },
  {
   "cell_type": "code",
   "execution_count": null,
   "metadata": {},
   "outputs": [],
   "source": []
  },
  {
   "cell_type": "code",
   "execution_count": null,
   "metadata": {},
   "outputs": [],
   "source": []
  },
  {
   "cell_type": "code",
   "execution_count": null,
   "metadata": {},
   "outputs": [],
   "source": []
  },
  {
   "cell_type": "code",
   "execution_count": null,
   "metadata": {},
   "outputs": [],
   "source": []
  }
 ],
 "metadata": {
  "kernelspec": {
   "display_name": "Python 3 (ipykernel)",
   "language": "python",
   "name": "python3"
  },
  "language_info": {
   "codemirror_mode": {
    "name": "ipython",
    "version": 3
   },
   "file_extension": ".py",
   "mimetype": "text/x-python",
   "name": "python",
   "nbconvert_exporter": "python",
   "pygments_lexer": "ipython3",
   "version": "3.9.12"
  }
 },
 "nbformat": 4,
 "nbformat_minor": 1
}
